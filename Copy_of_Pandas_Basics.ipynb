{
  "nbformat": 4,
  "nbformat_minor": 0,
  "metadata": {
    "colab": {
      "name": "Copy of Pandas Basics",
      "provenance": [],
      "collapsed_sections": [
        "6iyeqDIjpHtR",
        "sEswzBaTpTM9",
        "gbShDqtivYNC",
        "8xDIxQXjv1cs",
        "2HvwqV6UwMFI",
        "uCmfk1Urv7mM",
        "B6WJ99XswWfn",
        "P_089UxhwZ__",
        "I6tAKZoawCFA",
        "G3rltepOweG5"
      ],
      "toc_visible": true,
      "include_colab_link": true
    },
    "kernelspec": {
      "name": "python3",
      "display_name": "Python 3"
    }
  },
  "cells": [
    {
      "cell_type": "markdown",
      "metadata": {
        "id": "view-in-github",
        "colab_type": "text"
      },
      "source": [
        "<a href=\"https://colab.research.google.com/github/LucyKinyua/Week3_MS/blob/main/Copy_of_Pandas_Basics.ipynb\" target=\"_parent\"><img src=\"https://colab.research.google.com/assets/colab-badge.svg\" alt=\"Open In Colab\"/></a>"
      ]
    },
    {
      "cell_type": "markdown",
      "metadata": {
        "id": "W-53UhRAZyXH"
      },
      "source": [
        "<font color=\"green\">*To start working on this notebook, or any other notebook that we will use in the Moringa Data Science Course, we will need to save our own copy of it. We can do this by clicking File > Save a Copy in Drive. We will then be able to make edits to our own copy of this notebook.*</font>"
      ]
    },
    {
      "cell_type": "markdown",
      "metadata": {
        "id": "3R0yiLUspE2N"
      },
      "source": [
        "# Pandas Basics"
      ]
    },
    {
      "cell_type": "markdown",
      "metadata": {
        "id": "6iyeqDIjpHtR"
      },
      "source": [
        "## 1.0 Importing Pandas Library"
      ]
    },
    {
      "cell_type": "code",
      "metadata": {
        "id": "9AqzdpMxpG7O"
      },
      "source": [
        "# Let's import the pandas library just like we did with Numpy\n",
        "# \n",
        "import pandas as pd"
      ],
      "execution_count": 2,
      "outputs": []
    },
    {
      "cell_type": "markdown",
      "metadata": {
        "id": "sEswzBaTpTM9"
      },
      "source": [
        "## 1.1 Performing Basic Operations"
      ]
    },
    {
      "cell_type": "code",
      "metadata": {
        "id": "l0XpP3jnhsiH",
        "colab": {
          "base_uri": "https://localhost:8080/",
          "height": 111
        },
        "outputId": "da36a5df-89ad-427e-afe1-446d897c5460"
      },
      "source": [
        "# Example 1\n",
        "# Pandas is built on the NumPy package.\n",
        "# It's main data structure is called DataFrame. Dataframes allows us to store and manipulate data in row and column observations\n",
        "\n",
        "\n",
        "# In this section, we will cover some of the basic operations \n",
        "# that we perform while using pandas.\n",
        "# The first thing we will do is to create a Dataframe from a dictionary as shown below;\n",
        "# Think of a Dataframe as a table. By definition, a DataFrame is a 2-dimensional labeled data structure \n",
        "# with columns of potentially different types.\n",
        "# \n",
        "data = [{'name': 'vikash', 'age': 27}, {'name': 'Satyam', 'age': 14}]\n",
        "df = pd.DataFrame.from_dict(data, orient='columns')\n",
        "df\n",
        "\n",
        "# Something to note in the results is that everytime you create a dataframe it will automatically assign indexes to the row. "
      ],
      "execution_count": 3,
      "outputs": [
        {
          "output_type": "execute_result",
          "data": {
            "text/html": [
              "<div>\n",
              "<style scoped>\n",
              "    .dataframe tbody tr th:only-of-type {\n",
              "        vertical-align: middle;\n",
              "    }\n",
              "\n",
              "    .dataframe tbody tr th {\n",
              "        vertical-align: top;\n",
              "    }\n",
              "\n",
              "    .dataframe thead th {\n",
              "        text-align: right;\n",
              "    }\n",
              "</style>\n",
              "<table border=\"1\" class=\"dataframe\">\n",
              "  <thead>\n",
              "    <tr style=\"text-align: right;\">\n",
              "      <th></th>\n",
              "      <th>name</th>\n",
              "      <th>age</th>\n",
              "    </tr>\n",
              "  </thead>\n",
              "  <tbody>\n",
              "    <tr>\n",
              "      <th>0</th>\n",
              "      <td>vikash</td>\n",
              "      <td>27</td>\n",
              "    </tr>\n",
              "    <tr>\n",
              "      <th>1</th>\n",
              "      <td>Satyam</td>\n",
              "      <td>14</td>\n",
              "    </tr>\n",
              "  </tbody>\n",
              "</table>\n",
              "</div>"
            ],
            "text/plain": [
              "     name  age\n",
              "0  vikash   27\n",
              "1  Satyam   14"
            ]
          },
          "metadata": {
            "tags": []
          },
          "execution_count": 3
        }
      ]
    },
    {
      "cell_type": "code",
      "metadata": {
        "id": "jzzwtEI6vUTy",
        "colab": {
          "base_uri": "https://localhost:8080/",
          "height": 266
        },
        "outputId": "fd20ac7e-f8b0-45bd-aa67-8806bb83e032"
      },
      "source": [
        "# Example 2\n",
        "# We can also create a Dataframe by inserting rows iteratively\n",
        "# \n",
        "\n",
        "# For this example, we will use the randint() function \n",
        "# thus we will need to import it\n",
        "from random import randint\n",
        "\n",
        "# We will also need to declare the columns that we will need \n",
        "columns = ['a', 'b', 'c']\n",
        "\n",
        "# Then creating our dataframe\n",
        "df = pd.DataFrame(columns=columns)\n",
        "\n",
        "# lastly append random values to the dataframe iteratively using a for loop.\n",
        "# We are going to use two for loops. the first one will be for the number of rows and the second one will be for the number of columns.\n",
        "# In the outer loop, we will create a range of number from 0-5, then iterate through it. This means that we will have 6 rows\n",
        "# We'll explain the logic of this code from the inside out. \n",
        "# So inside the inner loop, we  aim to populate our dataframe with random integers that are between -1 and 1.\n",
        "# Hence everytime we generate out random number, we use pandas dataframe method called loc[] to insert the random number in either of the three columns\n",
        "# The .loc method works in the same way slicing works in python list. This means that it can be used to access elements inside a dataframe. As such, we can also use it to update elements in a dataframe. When we created the  empty dataframe earlier, it meant that the elements were null. So in our code we are simply updating the null elements with values.\n",
        "# The logic for this code can be alittle bit confusing at first, so spend a little bit of time with your pair trying understand how the code works as it will help you alot in the future.\n",
        "for i in range(7): #6 rows\n",
        "    for c in columns:\n",
        "      df.loc[i,c] = randint(-1,1)\n",
        "  \n",
        "# and printing out the dataframe\n",
        "df\n"
      ],
      "execution_count": 4,
      "outputs": [
        {
          "output_type": "execute_result",
          "data": {
            "text/html": [
              "<div>\n",
              "<style scoped>\n",
              "    .dataframe tbody tr th:only-of-type {\n",
              "        vertical-align: middle;\n",
              "    }\n",
              "\n",
              "    .dataframe tbody tr th {\n",
              "        vertical-align: top;\n",
              "    }\n",
              "\n",
              "    .dataframe thead th {\n",
              "        text-align: right;\n",
              "    }\n",
              "</style>\n",
              "<table border=\"1\" class=\"dataframe\">\n",
              "  <thead>\n",
              "    <tr style=\"text-align: right;\">\n",
              "      <th></th>\n",
              "      <th>a</th>\n",
              "      <th>b</th>\n",
              "      <th>c</th>\n",
              "    </tr>\n",
              "  </thead>\n",
              "  <tbody>\n",
              "    <tr>\n",
              "      <th>0</th>\n",
              "      <td>-1</td>\n",
              "      <td>1</td>\n",
              "      <td>1</td>\n",
              "    </tr>\n",
              "    <tr>\n",
              "      <th>1</th>\n",
              "      <td>0</td>\n",
              "      <td>-1</td>\n",
              "      <td>0</td>\n",
              "    </tr>\n",
              "    <tr>\n",
              "      <th>2</th>\n",
              "      <td>1</td>\n",
              "      <td>1</td>\n",
              "      <td>-1</td>\n",
              "    </tr>\n",
              "    <tr>\n",
              "      <th>3</th>\n",
              "      <td>-1</td>\n",
              "      <td>1</td>\n",
              "      <td>1</td>\n",
              "    </tr>\n",
              "    <tr>\n",
              "      <th>4</th>\n",
              "      <td>0</td>\n",
              "      <td>0</td>\n",
              "      <td>1</td>\n",
              "    </tr>\n",
              "    <tr>\n",
              "      <th>5</th>\n",
              "      <td>1</td>\n",
              "      <td>0</td>\n",
              "      <td>1</td>\n",
              "    </tr>\n",
              "    <tr>\n",
              "      <th>6</th>\n",
              "      <td>0</td>\n",
              "      <td>-1</td>\n",
              "      <td>1</td>\n",
              "    </tr>\n",
              "  </tbody>\n",
              "</table>\n",
              "</div>"
            ],
            "text/plain": [
              "    a   b   c\n",
              "0  -1   1   1\n",
              "1   0  -1   0\n",
              "2   1   1  -1\n",
              "3  -1   1   1\n",
              "4   0   0   1\n",
              "5   1   0   1\n",
              "6   0  -1   1"
            ]
          },
          "metadata": {
            "tags": []
          },
          "execution_count": 4
        }
      ]
    },
    {
      "cell_type": "code",
      "metadata": {
        "id": "tLCi0J4fvULQ",
        "colab": {
          "base_uri": "https://localhost:8080/"
        },
        "outputId": "27c13ca3-7753-4f73-f050-8f34c482afd9"
      },
      "source": [
        "# Example 3\n",
        "# Creating a Dataframe with randomly generated data\n",
        "# \n",
        "\n",
        "# We will import and use numpy in this example\n",
        "import numpy as np\n",
        "\n",
        "np_mat = np.random.randint(0,5,size=(5, 4))\n",
        "\n",
        "np_mat\n",
        "\n",
        "# Uncomment the following lines after running the previous lines \n",
        "# df = pd.DataFrame(np_mat, columns=list('ABCD'))\n",
        "# df"
      ],
      "execution_count": 5,
      "outputs": [
        {
          "output_type": "execute_result",
          "data": {
            "text/plain": [
              "array([[3, 3, 0, 3],\n",
              "       [1, 1, 2, 4],\n",
              "       [2, 4, 4, 3],\n",
              "       [4, 3, 2, 1],\n",
              "       [2, 4, 1, 3]])"
            ]
          },
          "metadata": {
            "tags": []
          },
          "execution_count": 5
        }
      ]
    },
    {
      "cell_type": "code",
      "metadata": {
        "id": "6KxhQ17_vUBV",
        "colab": {
          "base_uri": "https://localhost:8080/",
          "height": 439
        },
        "outputId": "71810710-7938-4fa7-826f-8fa93a367eff"
      },
      "source": [
        "# Example 4\n",
        "# Creating a Dataframe from a csv file \n",
        "# \n",
        "df = pd.read_csv('sample_data/california_housing_test.csv', delimiter = ',')\n",
        "df\n",
        "\n",
        "# Uncomment the following lines after running the previous lines\n",
        "# df_url = \"https://raw.githubusercontent.com/cs109/2014_data/master/countries.csv\"\n",
        "# df = pd.read_csv(df_url)\n",
        "# df"
      ],
      "execution_count": 6,
      "outputs": [
        {
          "output_type": "execute_result",
          "data": {
            "text/html": [
              "<div>\n",
              "<style scoped>\n",
              "    .dataframe tbody tr th:only-of-type {\n",
              "        vertical-align: middle;\n",
              "    }\n",
              "\n",
              "    .dataframe tbody tr th {\n",
              "        vertical-align: top;\n",
              "    }\n",
              "\n",
              "    .dataframe thead th {\n",
              "        text-align: right;\n",
              "    }\n",
              "</style>\n",
              "<table border=\"1\" class=\"dataframe\">\n",
              "  <thead>\n",
              "    <tr style=\"text-align: right;\">\n",
              "      <th></th>\n",
              "      <th>longitude</th>\n",
              "      <th>latitude</th>\n",
              "      <th>housing_median_age</th>\n",
              "      <th>total_rooms</th>\n",
              "      <th>total_bedrooms</th>\n",
              "      <th>population</th>\n",
              "      <th>households</th>\n",
              "      <th>median_income</th>\n",
              "      <th>median_house_value</th>\n",
              "    </tr>\n",
              "  </thead>\n",
              "  <tbody>\n",
              "    <tr>\n",
              "      <th>0</th>\n",
              "      <td>-122.05</td>\n",
              "      <td>37.37</td>\n",
              "      <td>27.0</td>\n",
              "      <td>3885.0</td>\n",
              "      <td>661.0</td>\n",
              "      <td>1537.0</td>\n",
              "      <td>606.0</td>\n",
              "      <td>6.6085</td>\n",
              "      <td>344700.0</td>\n",
              "    </tr>\n",
              "    <tr>\n",
              "      <th>1</th>\n",
              "      <td>-118.30</td>\n",
              "      <td>34.26</td>\n",
              "      <td>43.0</td>\n",
              "      <td>1510.0</td>\n",
              "      <td>310.0</td>\n",
              "      <td>809.0</td>\n",
              "      <td>277.0</td>\n",
              "      <td>3.5990</td>\n",
              "      <td>176500.0</td>\n",
              "    </tr>\n",
              "    <tr>\n",
              "      <th>2</th>\n",
              "      <td>-117.81</td>\n",
              "      <td>33.78</td>\n",
              "      <td>27.0</td>\n",
              "      <td>3589.0</td>\n",
              "      <td>507.0</td>\n",
              "      <td>1484.0</td>\n",
              "      <td>495.0</td>\n",
              "      <td>5.7934</td>\n",
              "      <td>270500.0</td>\n",
              "    </tr>\n",
              "    <tr>\n",
              "      <th>3</th>\n",
              "      <td>-118.36</td>\n",
              "      <td>33.82</td>\n",
              "      <td>28.0</td>\n",
              "      <td>67.0</td>\n",
              "      <td>15.0</td>\n",
              "      <td>49.0</td>\n",
              "      <td>11.0</td>\n",
              "      <td>6.1359</td>\n",
              "      <td>330000.0</td>\n",
              "    </tr>\n",
              "    <tr>\n",
              "      <th>4</th>\n",
              "      <td>-119.67</td>\n",
              "      <td>36.33</td>\n",
              "      <td>19.0</td>\n",
              "      <td>1241.0</td>\n",
              "      <td>244.0</td>\n",
              "      <td>850.0</td>\n",
              "      <td>237.0</td>\n",
              "      <td>2.9375</td>\n",
              "      <td>81700.0</td>\n",
              "    </tr>\n",
              "    <tr>\n",
              "      <th>...</th>\n",
              "      <td>...</td>\n",
              "      <td>...</td>\n",
              "      <td>...</td>\n",
              "      <td>...</td>\n",
              "      <td>...</td>\n",
              "      <td>...</td>\n",
              "      <td>...</td>\n",
              "      <td>...</td>\n",
              "      <td>...</td>\n",
              "    </tr>\n",
              "    <tr>\n",
              "      <th>2995</th>\n",
              "      <td>-119.86</td>\n",
              "      <td>34.42</td>\n",
              "      <td>23.0</td>\n",
              "      <td>1450.0</td>\n",
              "      <td>642.0</td>\n",
              "      <td>1258.0</td>\n",
              "      <td>607.0</td>\n",
              "      <td>1.1790</td>\n",
              "      <td>225000.0</td>\n",
              "    </tr>\n",
              "    <tr>\n",
              "      <th>2996</th>\n",
              "      <td>-118.14</td>\n",
              "      <td>34.06</td>\n",
              "      <td>27.0</td>\n",
              "      <td>5257.0</td>\n",
              "      <td>1082.0</td>\n",
              "      <td>3496.0</td>\n",
              "      <td>1036.0</td>\n",
              "      <td>3.3906</td>\n",
              "      <td>237200.0</td>\n",
              "    </tr>\n",
              "    <tr>\n",
              "      <th>2997</th>\n",
              "      <td>-119.70</td>\n",
              "      <td>36.30</td>\n",
              "      <td>10.0</td>\n",
              "      <td>956.0</td>\n",
              "      <td>201.0</td>\n",
              "      <td>693.0</td>\n",
              "      <td>220.0</td>\n",
              "      <td>2.2895</td>\n",
              "      <td>62000.0</td>\n",
              "    </tr>\n",
              "    <tr>\n",
              "      <th>2998</th>\n",
              "      <td>-117.12</td>\n",
              "      <td>34.10</td>\n",
              "      <td>40.0</td>\n",
              "      <td>96.0</td>\n",
              "      <td>14.0</td>\n",
              "      <td>46.0</td>\n",
              "      <td>14.0</td>\n",
              "      <td>3.2708</td>\n",
              "      <td>162500.0</td>\n",
              "    </tr>\n",
              "    <tr>\n",
              "      <th>2999</th>\n",
              "      <td>-119.63</td>\n",
              "      <td>34.42</td>\n",
              "      <td>42.0</td>\n",
              "      <td>1765.0</td>\n",
              "      <td>263.0</td>\n",
              "      <td>753.0</td>\n",
              "      <td>260.0</td>\n",
              "      <td>8.5608</td>\n",
              "      <td>500001.0</td>\n",
              "    </tr>\n",
              "  </tbody>\n",
              "</table>\n",
              "<p>3000 rows × 9 columns</p>\n",
              "</div>"
            ],
            "text/plain": [
              "      longitude  latitude  ...  median_income  median_house_value\n",
              "0       -122.05     37.37  ...         6.6085            344700.0\n",
              "1       -118.30     34.26  ...         3.5990            176500.0\n",
              "2       -117.81     33.78  ...         5.7934            270500.0\n",
              "3       -118.36     33.82  ...         6.1359            330000.0\n",
              "4       -119.67     36.33  ...         2.9375             81700.0\n",
              "...         ...       ...  ...            ...                 ...\n",
              "2995    -119.86     34.42  ...         1.1790            225000.0\n",
              "2996    -118.14     34.06  ...         3.3906            237200.0\n",
              "2997    -119.70     36.30  ...         2.2895             62000.0\n",
              "2998    -117.12     34.10  ...         3.2708            162500.0\n",
              "2999    -119.63     34.42  ...         8.5608            500001.0\n",
              "\n",
              "[3000 rows x 9 columns]"
            ]
          },
          "metadata": {
            "tags": []
          },
          "execution_count": 6
        }
      ]
    },
    {
      "cell_type": "code",
      "metadata": {
        "id": "kbusPTsgvT5s",
        "colab": {
          "base_uri": "https://localhost:8080/",
          "height": 142
        },
        "outputId": "d216fa46-62cf-4652-8b91-56baec98ccc5"
      },
      "source": [
        "# Example 5\n",
        "# Changing Dataframe column names \n",
        "# \n",
        "df_list = [['AA', 1, 'a'],['BB', 2, 'a'],['CC', 3, 'a']]\n",
        "\n",
        "df = pd.DataFrame(df_list, columns = ['name','value','salue'])\n",
        "df\n",
        "\n",
        "# Uncomment the following lines after running this cell once\n",
        "# df.columns.values[1:] = ['prefix_' + val for val in df.columns.values[1:]]\n",
        "# df.columns.values\n",
        "# df"
      ],
      "execution_count": 9,
      "outputs": [
        {
          "output_type": "execute_result",
          "data": {
            "text/html": [
              "<div>\n",
              "<style scoped>\n",
              "    .dataframe tbody tr th:only-of-type {\n",
              "        vertical-align: middle;\n",
              "    }\n",
              "\n",
              "    .dataframe tbody tr th {\n",
              "        vertical-align: top;\n",
              "    }\n",
              "\n",
              "    .dataframe thead th {\n",
              "        text-align: right;\n",
              "    }\n",
              "</style>\n",
              "<table border=\"1\" class=\"dataframe\">\n",
              "  <thead>\n",
              "    <tr style=\"text-align: right;\">\n",
              "      <th></th>\n",
              "      <th>name</th>\n",
              "      <th>value</th>\n",
              "      <th>salue</th>\n",
              "    </tr>\n",
              "  </thead>\n",
              "  <tbody>\n",
              "    <tr>\n",
              "      <th>0</th>\n",
              "      <td>AA</td>\n",
              "      <td>1</td>\n",
              "      <td>a</td>\n",
              "    </tr>\n",
              "    <tr>\n",
              "      <th>1</th>\n",
              "      <td>BB</td>\n",
              "      <td>2</td>\n",
              "      <td>a</td>\n",
              "    </tr>\n",
              "    <tr>\n",
              "      <th>2</th>\n",
              "      <td>CC</td>\n",
              "      <td>3</td>\n",
              "      <td>a</td>\n",
              "    </tr>\n",
              "  </tbody>\n",
              "</table>\n",
              "</div>"
            ],
            "text/plain": [
              "  name  value salue\n",
              "0   AA      1     a\n",
              "1   BB      2     a\n",
              "2   CC      3     a"
            ]
          },
          "metadata": {
            "tags": []
          },
          "execution_count": 9
        }
      ]
    },
    {
      "cell_type": "code",
      "metadata": {
        "colab": {
          "base_uri": "https://localhost:8080/",
          "height": 142
        },
        "id": "oP6vcjcZtK6V",
        "outputId": "c6d353e0-4e07-4c54-aa35-3bbdccbfea2b"
      },
      "source": [
        "# Example 5\n",
        "# Changing Dataframe column names \n",
        "# \n",
        "df_list = [['AA', 1, 'a'],['BB', 2, 'a'],['CC', 3, 'a']]\n",
        "\n",
        "df = pd.DataFrame(df_list, columns = ['name','value','salue'])\n",
        "df\n",
        "\n",
        "# Uncomment the following lines after running this cell once\n",
        "df.columns.values[1:] = ['prefix_' + val for val in df.columns.values[1:]]\n",
        "df.columns.values\n",
        "df"
      ],
      "execution_count": 10,
      "outputs": [
        {
          "output_type": "execute_result",
          "data": {
            "text/html": [
              "<div>\n",
              "<style scoped>\n",
              "    .dataframe tbody tr th:only-of-type {\n",
              "        vertical-align: middle;\n",
              "    }\n",
              "\n",
              "    .dataframe tbody tr th {\n",
              "        vertical-align: top;\n",
              "    }\n",
              "\n",
              "    .dataframe thead th {\n",
              "        text-align: right;\n",
              "    }\n",
              "</style>\n",
              "<table border=\"1\" class=\"dataframe\">\n",
              "  <thead>\n",
              "    <tr style=\"text-align: right;\">\n",
              "      <th></th>\n",
              "      <th>name</th>\n",
              "      <th>prefix_value</th>\n",
              "      <th>prefix_salue</th>\n",
              "    </tr>\n",
              "  </thead>\n",
              "  <tbody>\n",
              "    <tr>\n",
              "      <th>0</th>\n",
              "      <td>AA</td>\n",
              "      <td>1</td>\n",
              "      <td>a</td>\n",
              "    </tr>\n",
              "    <tr>\n",
              "      <th>1</th>\n",
              "      <td>BB</td>\n",
              "      <td>2</td>\n",
              "      <td>a</td>\n",
              "    </tr>\n",
              "    <tr>\n",
              "      <th>2</th>\n",
              "      <td>CC</td>\n",
              "      <td>3</td>\n",
              "      <td>a</td>\n",
              "    </tr>\n",
              "  </tbody>\n",
              "</table>\n",
              "</div>"
            ],
            "text/plain": [
              "  name  prefix_value prefix_salue\n",
              "0   AA             1            a\n",
              "1   BB             2            a\n",
              "2   CC             3            a"
            ]
          },
          "metadata": {
            "tags": []
          },
          "execution_count": 10
        }
      ]
    },
    {
      "cell_type": "code",
      "metadata": {
        "id": "GsJjoGMVvTsE",
        "colab": {
          "base_uri": "https://localhost:8080/",
          "height": 142
        },
        "outputId": "55318e02-e93c-40cf-caa1-cd80d473c61c"
      },
      "source": [
        "# Example 6\n",
        "# A simpler way of changing Dataframe column names \n",
        "#\n",
        "df_list = [['AA', \"temp\", 1],['BB', \"temp\", 2],['CC', \"temp\", 3]]\n",
        "df = pd.DataFrame(df_list, columns = ['name','temp', 'value'])\n",
        "df\n",
        "\n",
        "# Uncomment the following line\n",
        "# df.columns = ['names', 'temperature', 'values']\n",
        "# df"
      ],
      "execution_count": 11,
      "outputs": [
        {
          "output_type": "execute_result",
          "data": {
            "text/html": [
              "<div>\n",
              "<style scoped>\n",
              "    .dataframe tbody tr th:only-of-type {\n",
              "        vertical-align: middle;\n",
              "    }\n",
              "\n",
              "    .dataframe tbody tr th {\n",
              "        vertical-align: top;\n",
              "    }\n",
              "\n",
              "    .dataframe thead th {\n",
              "        text-align: right;\n",
              "    }\n",
              "</style>\n",
              "<table border=\"1\" class=\"dataframe\">\n",
              "  <thead>\n",
              "    <tr style=\"text-align: right;\">\n",
              "      <th></th>\n",
              "      <th>name</th>\n",
              "      <th>temp</th>\n",
              "      <th>value</th>\n",
              "    </tr>\n",
              "  </thead>\n",
              "  <tbody>\n",
              "    <tr>\n",
              "      <th>0</th>\n",
              "      <td>AA</td>\n",
              "      <td>temp</td>\n",
              "      <td>1</td>\n",
              "    </tr>\n",
              "    <tr>\n",
              "      <th>1</th>\n",
              "      <td>BB</td>\n",
              "      <td>temp</td>\n",
              "      <td>2</td>\n",
              "    </tr>\n",
              "    <tr>\n",
              "      <th>2</th>\n",
              "      <td>CC</td>\n",
              "      <td>temp</td>\n",
              "      <td>3</td>\n",
              "    </tr>\n",
              "  </tbody>\n",
              "</table>\n",
              "</div>"
            ],
            "text/plain": [
              "  name  temp  value\n",
              "0   AA  temp      1\n",
              "1   BB  temp      2\n",
              "2   CC  temp      3"
            ]
          },
          "metadata": {
            "tags": []
          },
          "execution_count": 11
        }
      ]
    },
    {
      "cell_type": "code",
      "metadata": {
        "colab": {
          "base_uri": "https://localhost:8080/",
          "height": 142
        },
        "id": "SuhoyWWktWt4",
        "outputId": "aafc8c9b-5d11-4a58-e5e2-bf8fe4cadd40"
      },
      "source": [
        "# Example 6\n",
        "# A simpler way of changing Dataframe column names \n",
        "#\n",
        "df_list = [['AA', \"temp\", 1],['BB', \"temp\", 2],['CC', \"temp\", 3]]\n",
        "df = pd.DataFrame(df_list, columns = ['name','temp', 'value'])\n",
        "df\n",
        "\n",
        "# Uncomment the following line\n",
        "df.columns = ['names', 'temperature', 'values']\n",
        "df"
      ],
      "execution_count": 12,
      "outputs": [
        {
          "output_type": "execute_result",
          "data": {
            "text/html": [
              "<div>\n",
              "<style scoped>\n",
              "    .dataframe tbody tr th:only-of-type {\n",
              "        vertical-align: middle;\n",
              "    }\n",
              "\n",
              "    .dataframe tbody tr th {\n",
              "        vertical-align: top;\n",
              "    }\n",
              "\n",
              "    .dataframe thead th {\n",
              "        text-align: right;\n",
              "    }\n",
              "</style>\n",
              "<table border=\"1\" class=\"dataframe\">\n",
              "  <thead>\n",
              "    <tr style=\"text-align: right;\">\n",
              "      <th></th>\n",
              "      <th>names</th>\n",
              "      <th>temperature</th>\n",
              "      <th>values</th>\n",
              "    </tr>\n",
              "  </thead>\n",
              "  <tbody>\n",
              "    <tr>\n",
              "      <th>0</th>\n",
              "      <td>AA</td>\n",
              "      <td>temp</td>\n",
              "      <td>1</td>\n",
              "    </tr>\n",
              "    <tr>\n",
              "      <th>1</th>\n",
              "      <td>BB</td>\n",
              "      <td>temp</td>\n",
              "      <td>2</td>\n",
              "    </tr>\n",
              "    <tr>\n",
              "      <th>2</th>\n",
              "      <td>CC</td>\n",
              "      <td>temp</td>\n",
              "      <td>3</td>\n",
              "    </tr>\n",
              "  </tbody>\n",
              "</table>\n",
              "</div>"
            ],
            "text/plain": [
              "  names temperature  values\n",
              "0    AA        temp       1\n",
              "1    BB        temp       2\n",
              "2    CC        temp       3"
            ]
          },
          "metadata": {
            "tags": []
          },
          "execution_count": 12
        }
      ]
    },
    {
      "cell_type": "code",
      "metadata": {
        "id": "qSe2JKo4ve5n",
        "colab": {
          "base_uri": "https://localhost:8080/",
          "height": 142
        },
        "outputId": "84629383-a07a-4db2-84f3-8608fbad9372"
      },
      "source": [
        "# Example 7\n",
        "# Choosing specific columns from a DataFrame\n",
        "# \n",
        "df_list = [['AA', \"temp\", 1],['BB', \"temp\", 2],['CC', \"temp\", 3]]\n",
        "df = pd.DataFrame(df_list, columns = ['name','temp', 'value'])\n",
        "df\n",
        "\n",
        "# Uncomment the following lines after running \n",
        "# df = df[[\"name\",\"temp\"]]\n",
        "# df"
      ],
      "execution_count": 13,
      "outputs": [
        {
          "output_type": "execute_result",
          "data": {
            "text/html": [
              "<div>\n",
              "<style scoped>\n",
              "    .dataframe tbody tr th:only-of-type {\n",
              "        vertical-align: middle;\n",
              "    }\n",
              "\n",
              "    .dataframe tbody tr th {\n",
              "        vertical-align: top;\n",
              "    }\n",
              "\n",
              "    .dataframe thead th {\n",
              "        text-align: right;\n",
              "    }\n",
              "</style>\n",
              "<table border=\"1\" class=\"dataframe\">\n",
              "  <thead>\n",
              "    <tr style=\"text-align: right;\">\n",
              "      <th></th>\n",
              "      <th>name</th>\n",
              "      <th>temp</th>\n",
              "      <th>value</th>\n",
              "    </tr>\n",
              "  </thead>\n",
              "  <tbody>\n",
              "    <tr>\n",
              "      <th>0</th>\n",
              "      <td>AA</td>\n",
              "      <td>temp</td>\n",
              "      <td>1</td>\n",
              "    </tr>\n",
              "    <tr>\n",
              "      <th>1</th>\n",
              "      <td>BB</td>\n",
              "      <td>temp</td>\n",
              "      <td>2</td>\n",
              "    </tr>\n",
              "    <tr>\n",
              "      <th>2</th>\n",
              "      <td>CC</td>\n",
              "      <td>temp</td>\n",
              "      <td>3</td>\n",
              "    </tr>\n",
              "  </tbody>\n",
              "</table>\n",
              "</div>"
            ],
            "text/plain": [
              "  name  temp  value\n",
              "0   AA  temp      1\n",
              "1   BB  temp      2\n",
              "2   CC  temp      3"
            ]
          },
          "metadata": {
            "tags": []
          },
          "execution_count": 13
        }
      ]
    },
    {
      "cell_type": "code",
      "metadata": {
        "colab": {
          "base_uri": "https://localhost:8080/",
          "height": 142
        },
        "id": "FOsfC1fVtd52",
        "outputId": "67bf2d46-976a-43f7-959f-4920da1a3bd1"
      },
      "source": [
        "# Example 7\n",
        "# Choosing specific columns from a DataFrame\n",
        "# \n",
        "df_list = [['AA', \"temp\", 1],['BB', \"temp\", 2],['CC', \"temp\", 3]]\n",
        "df = pd.DataFrame(df_list, columns = ['name','temp', 'value'])\n",
        "df\n",
        "\n",
        "# Uncomment the following lines after running \n",
        "df = df[[\"name\",\"temp\"]]\n",
        "df"
      ],
      "execution_count": 14,
      "outputs": [
        {
          "output_type": "execute_result",
          "data": {
            "text/html": [
              "<div>\n",
              "<style scoped>\n",
              "    .dataframe tbody tr th:only-of-type {\n",
              "        vertical-align: middle;\n",
              "    }\n",
              "\n",
              "    .dataframe tbody tr th {\n",
              "        vertical-align: top;\n",
              "    }\n",
              "\n",
              "    .dataframe thead th {\n",
              "        text-align: right;\n",
              "    }\n",
              "</style>\n",
              "<table border=\"1\" class=\"dataframe\">\n",
              "  <thead>\n",
              "    <tr style=\"text-align: right;\">\n",
              "      <th></th>\n",
              "      <th>name</th>\n",
              "      <th>temp</th>\n",
              "    </tr>\n",
              "  </thead>\n",
              "  <tbody>\n",
              "    <tr>\n",
              "      <th>0</th>\n",
              "      <td>AA</td>\n",
              "      <td>temp</td>\n",
              "    </tr>\n",
              "    <tr>\n",
              "      <th>1</th>\n",
              "      <td>BB</td>\n",
              "      <td>temp</td>\n",
              "    </tr>\n",
              "    <tr>\n",
              "      <th>2</th>\n",
              "      <td>CC</td>\n",
              "      <td>temp</td>\n",
              "    </tr>\n",
              "  </tbody>\n",
              "</table>\n",
              "</div>"
            ],
            "text/plain": [
              "  name  temp\n",
              "0   AA  temp\n",
              "1   BB  temp\n",
              "2   CC  temp"
            ]
          },
          "metadata": {
            "tags": []
          },
          "execution_count": 14
        }
      ]
    },
    {
      "cell_type": "code",
      "metadata": {
        "id": "0baTHG36xe26",
        "colab": {
          "base_uri": "https://localhost:8080/",
          "height": 142
        },
        "outputId": "78374e22-9820-4e81-92b5-d1d699cea545"
      },
      "source": [
        "# Example 8\n",
        "# Deleting/dropping columns or extracting columns from Dataframe \n",
        "# \n",
        "df_list = [['AA', \"temp\", 1],['BB', \"temp\", 2],['CC', \"temp\", 3]]\n",
        "df = pd.DataFrame(df_list, columns = ['name','value','temp'])\n",
        "df\n",
        "\n",
        "# Uncomment the following lines\n",
        "# df.drop('value', axis=1, inplace=True)\n",
        "# df\n",
        "\n",
        "# Uncomment the following lines after running the previous commented lines\n",
        "# df = pd.DataFrame([['AA', 1],['BB', 2],['CC', 3]], columns = ['name','value'])\n",
        "# df\n",
        "\n",
        "# Uncomment the following lines after running the previous commented lines\n",
        "# values = df.pop('value')\n",
        "# df\n",
        "\n",
        "# Uncomment the line below after running the previous commented lines\n",
        "# values"
      ],
      "execution_count": 15,
      "outputs": [
        {
          "output_type": "execute_result",
          "data": {
            "text/html": [
              "<div>\n",
              "<style scoped>\n",
              "    .dataframe tbody tr th:only-of-type {\n",
              "        vertical-align: middle;\n",
              "    }\n",
              "\n",
              "    .dataframe tbody tr th {\n",
              "        vertical-align: top;\n",
              "    }\n",
              "\n",
              "    .dataframe thead th {\n",
              "        text-align: right;\n",
              "    }\n",
              "</style>\n",
              "<table border=\"1\" class=\"dataframe\">\n",
              "  <thead>\n",
              "    <tr style=\"text-align: right;\">\n",
              "      <th></th>\n",
              "      <th>name</th>\n",
              "      <th>value</th>\n",
              "      <th>temp</th>\n",
              "    </tr>\n",
              "  </thead>\n",
              "  <tbody>\n",
              "    <tr>\n",
              "      <th>0</th>\n",
              "      <td>AA</td>\n",
              "      <td>temp</td>\n",
              "      <td>1</td>\n",
              "    </tr>\n",
              "    <tr>\n",
              "      <th>1</th>\n",
              "      <td>BB</td>\n",
              "      <td>temp</td>\n",
              "      <td>2</td>\n",
              "    </tr>\n",
              "    <tr>\n",
              "      <th>2</th>\n",
              "      <td>CC</td>\n",
              "      <td>temp</td>\n",
              "      <td>3</td>\n",
              "    </tr>\n",
              "  </tbody>\n",
              "</table>\n",
              "</div>"
            ],
            "text/plain": [
              "  name value  temp\n",
              "0   AA  temp     1\n",
              "1   BB  temp     2\n",
              "2   CC  temp     3"
            ]
          },
          "metadata": {
            "tags": []
          },
          "execution_count": 15
        }
      ]
    },
    {
      "cell_type": "code",
      "metadata": {
        "colab": {
          "base_uri": "https://localhost:8080/",
          "height": 142
        },
        "id": "wCJ5XSaStlzk",
        "outputId": "e1622cb5-3f03-4073-8194-1d7d976aba35"
      },
      "source": [
        "# Example 8\n",
        "# Deleting/dropping columns or extracting columns from Dataframe \n",
        "# \n",
        "df_list = [['AA', \"temp\", 1],['BB', \"temp\", 2],['CC', \"temp\", 3]]\n",
        "df = pd.DataFrame(df_list, columns = ['name','value','temp'])\n",
        "df\n",
        "\n",
        "# Uncomment the following lines\n",
        "df.drop('value', axis=1, inplace=True)\n",
        "df\n",
        "\n",
        "# Uncomment the following lines after running the previous commented lines\n",
        "# df = pd.DataFrame([['AA', 1],['BB', 2],['CC', 3]], columns = ['name','value'])\n",
        "# df\n",
        "\n",
        "# Uncomment the following lines after running the previous commented lines\n",
        "# values = df.pop('value')\n",
        "# df\n",
        "\n",
        "# Uncomment the line below after running the previous commented lines\n",
        "# values"
      ],
      "execution_count": 16,
      "outputs": [
        {
          "output_type": "execute_result",
          "data": {
            "text/html": [
              "<div>\n",
              "<style scoped>\n",
              "    .dataframe tbody tr th:only-of-type {\n",
              "        vertical-align: middle;\n",
              "    }\n",
              "\n",
              "    .dataframe tbody tr th {\n",
              "        vertical-align: top;\n",
              "    }\n",
              "\n",
              "    .dataframe thead th {\n",
              "        text-align: right;\n",
              "    }\n",
              "</style>\n",
              "<table border=\"1\" class=\"dataframe\">\n",
              "  <thead>\n",
              "    <tr style=\"text-align: right;\">\n",
              "      <th></th>\n",
              "      <th>name</th>\n",
              "      <th>temp</th>\n",
              "    </tr>\n",
              "  </thead>\n",
              "  <tbody>\n",
              "    <tr>\n",
              "      <th>0</th>\n",
              "      <td>AA</td>\n",
              "      <td>1</td>\n",
              "    </tr>\n",
              "    <tr>\n",
              "      <th>1</th>\n",
              "      <td>BB</td>\n",
              "      <td>2</td>\n",
              "    </tr>\n",
              "    <tr>\n",
              "      <th>2</th>\n",
              "      <td>CC</td>\n",
              "      <td>3</td>\n",
              "    </tr>\n",
              "  </tbody>\n",
              "</table>\n",
              "</div>"
            ],
            "text/plain": [
              "  name  temp\n",
              "0   AA     1\n",
              "1   BB     2\n",
              "2   CC     3"
            ]
          },
          "metadata": {
            "tags": []
          },
          "execution_count": 16
        }
      ]
    },
    {
      "cell_type": "code",
      "metadata": {
        "colab": {
          "base_uri": "https://localhost:8080/",
          "height": 142
        },
        "id": "D3deCdiLtqAB",
        "outputId": "ad8fc974-d3fa-4e6d-f7d5-3daf37600989"
      },
      "source": [
        "# Example 8\n",
        "# Deleting/dropping columns or extracting columns from Dataframe \n",
        "# \n",
        "df_list = [['AA', \"temp\", 1],['BB', \"temp\", 2],['CC', \"temp\", 3]]\n",
        "df = pd.DataFrame(df_list, columns = ['name','value','temp'])\n",
        "df\n",
        "\n",
        "# Uncomment the following lines\n",
        "df.drop('value', axis=1, inplace=True)\n",
        "df\n",
        "\n",
        "# Uncomment the following lines after running the previous commented lines\n",
        "df = pd.DataFrame([['AA', 1],['BB', 2],['CC', 3]], columns = ['name','value'])\n",
        "df\n",
        "\n",
        "# Uncomment the following lines after running the previous commented lines\n",
        "# values = df.pop('value')\n",
        "# df\n",
        "\n",
        "# Uncomment the line below after running the previous commented lines\n",
        "# values"
      ],
      "execution_count": 17,
      "outputs": [
        {
          "output_type": "execute_result",
          "data": {
            "text/html": [
              "<div>\n",
              "<style scoped>\n",
              "    .dataframe tbody tr th:only-of-type {\n",
              "        vertical-align: middle;\n",
              "    }\n",
              "\n",
              "    .dataframe tbody tr th {\n",
              "        vertical-align: top;\n",
              "    }\n",
              "\n",
              "    .dataframe thead th {\n",
              "        text-align: right;\n",
              "    }\n",
              "</style>\n",
              "<table border=\"1\" class=\"dataframe\">\n",
              "  <thead>\n",
              "    <tr style=\"text-align: right;\">\n",
              "      <th></th>\n",
              "      <th>name</th>\n",
              "      <th>value</th>\n",
              "    </tr>\n",
              "  </thead>\n",
              "  <tbody>\n",
              "    <tr>\n",
              "      <th>0</th>\n",
              "      <td>AA</td>\n",
              "      <td>1</td>\n",
              "    </tr>\n",
              "    <tr>\n",
              "      <th>1</th>\n",
              "      <td>BB</td>\n",
              "      <td>2</td>\n",
              "    </tr>\n",
              "    <tr>\n",
              "      <th>2</th>\n",
              "      <td>CC</td>\n",
              "      <td>3</td>\n",
              "    </tr>\n",
              "  </tbody>\n",
              "</table>\n",
              "</div>"
            ],
            "text/plain": [
              "  name  value\n",
              "0   AA      1\n",
              "1   BB      2\n",
              "2   CC      3"
            ]
          },
          "metadata": {
            "tags": []
          },
          "execution_count": 17
        }
      ]
    },
    {
      "cell_type": "code",
      "metadata": {
        "colab": {
          "base_uri": "https://localhost:8080/",
          "height": 142
        },
        "id": "XlKLKRCHtwLR",
        "outputId": "f9694879-ac64-403c-ce58-5061723866b0"
      },
      "source": [
        "# Example 8\n",
        "# Deleting/dropping columns or extracting columns from Dataframe \n",
        "# \n",
        "df_list = [['AA', \"temp\", 1],['BB', \"temp\", 2],['CC', \"temp\", 3]]\n",
        "df = pd.DataFrame(df_list, columns = ['name','value','temp'])\n",
        "df\n",
        "\n",
        "# Uncomment the following lines\n",
        "df.drop('value', axis=1, inplace=True)\n",
        "df\n",
        "\n",
        "# Uncomment the following lines after running the previous commented lines\n",
        "df = pd.DataFrame([['AA', 1],['BB', 2],['CC', 3]], columns = ['name','value'])\n",
        "df\n",
        "\n",
        "# Uncomment the following lines after running the previous commented lines\n",
        "values = df.pop('value')\n",
        "df\n",
        "\n",
        "# Uncomment the line below after running the previous commented lines\n",
        "# values"
      ],
      "execution_count": 18,
      "outputs": [
        {
          "output_type": "execute_result",
          "data": {
            "text/html": [
              "<div>\n",
              "<style scoped>\n",
              "    .dataframe tbody tr th:only-of-type {\n",
              "        vertical-align: middle;\n",
              "    }\n",
              "\n",
              "    .dataframe tbody tr th {\n",
              "        vertical-align: top;\n",
              "    }\n",
              "\n",
              "    .dataframe thead th {\n",
              "        text-align: right;\n",
              "    }\n",
              "</style>\n",
              "<table border=\"1\" class=\"dataframe\">\n",
              "  <thead>\n",
              "    <tr style=\"text-align: right;\">\n",
              "      <th></th>\n",
              "      <th>name</th>\n",
              "    </tr>\n",
              "  </thead>\n",
              "  <tbody>\n",
              "    <tr>\n",
              "      <th>0</th>\n",
              "      <td>AA</td>\n",
              "    </tr>\n",
              "    <tr>\n",
              "      <th>1</th>\n",
              "      <td>BB</td>\n",
              "    </tr>\n",
              "    <tr>\n",
              "      <th>2</th>\n",
              "      <td>CC</td>\n",
              "    </tr>\n",
              "  </tbody>\n",
              "</table>\n",
              "</div>"
            ],
            "text/plain": [
              "  name\n",
              "0   AA\n",
              "1   BB\n",
              "2   CC"
            ]
          },
          "metadata": {
            "tags": []
          },
          "execution_count": 18
        }
      ]
    },
    {
      "cell_type": "code",
      "metadata": {
        "colab": {
          "base_uri": "https://localhost:8080/"
        },
        "id": "yU8LwegOt10l",
        "outputId": "37ab385b-bb0e-4488-8df6-72cb89de3ad8"
      },
      "source": [
        "# Example 8\n",
        "# Deleting/dropping columns or extracting columns from Dataframe \n",
        "# \n",
        "df_list = [['AA', \"temp\", 1],['BB', \"temp\", 2],['CC', \"temp\", 3]]\n",
        "df = pd.DataFrame(df_list, columns = ['name','value','temp'])\n",
        "df\n",
        "\n",
        "# Uncomment the following lines\n",
        "df.drop('value', axis=1, inplace=True)\n",
        "df\n",
        "\n",
        "# Uncomment the following lines after running the previous commented lines\n",
        "df = pd.DataFrame([['AA', 1],['BB', 2],['CC', 3]], columns = ['name','value'])\n",
        "df\n",
        "\n",
        "# Uncomment the following lines after running the previous commented lines\n",
        "values = df.pop('value')\n",
        "df\n",
        "\n",
        "# Uncomment the line below after running the previous commented lines\n",
        "values"
      ],
      "execution_count": 19,
      "outputs": [
        {
          "output_type": "execute_result",
          "data": {
            "text/plain": [
              "0    1\n",
              "1    2\n",
              "2    3\n",
              "Name: value, dtype: int64"
            ]
          },
          "metadata": {
            "tags": []
          },
          "execution_count": 19
        }
      ]
    },
    {
      "cell_type": "markdown",
      "metadata": {
        "id": "gbShDqtivYNC"
      },
      "source": [
        "### <font color=\"green\">1.1 Challenges</font>"
      ]
    },
    {
      "cell_type": "code",
      "metadata": {
        "id": "cHdxGZiBvbdY"
      },
      "source": [
        "# Challenge 1\n",
        "# Create a Dataframe from the following dictionary \n",
        "# \n",
        "studentData = {\n",
        "    'name' : ['jack', 'Riti', 'Aadi'],\n",
        "    'age' : [34, 30, 16],\n",
        "    'city' : ['Sydney', 'Delhi', 'New york']\n",
        "}\n",
        "\n",
        "OUR CODE GOES HERE"
      ],
      "execution_count": null,
      "outputs": []
    },
    {
      "cell_type": "code",
      "metadata": {
        "id": "dRcmDpgavhrk"
      },
      "source": [
        "# Challenge 2\n",
        "# Create the Dataframe shown below in the Expected Output by inserting rows iteratively\n",
        "# \n",
        "OUR CODE GOES HERE"
      ],
      "execution_count": null,
      "outputs": []
    },
    {
      "cell_type": "code",
      "metadata": {
        "id": "PMsJ5nML9EzX",
        "colab": {
          "base_uri": "https://localhost:8080/",
          "height": 173
        },
        "outputId": "e57d3d3b-60f7-4b54-ff9a-5d45eff48ea8"
      },
      "source": [
        "# Challenge 2: Expected Output\n",
        "# [Do not run this cell]\n",
        "# Running this cell will clear the output"
      ],
      "execution_count": null,
      "outputs": [
        {
          "output_type": "execute_result",
          "data": {
            "text/html": [
              "<div>\n",
              "<style scoped>\n",
              "    .dataframe tbody tr th:only-of-type {\n",
              "        vertical-align: middle;\n",
              "    }\n",
              "\n",
              "    .dataframe tbody tr th {\n",
              "        vertical-align: top;\n",
              "    }\n",
              "\n",
              "    .dataframe thead th {\n",
              "        text-align: right;\n",
              "    }\n",
              "</style>\n",
              "<table border=\"1\" class=\"dataframe\">\n",
              "  <thead>\n",
              "    <tr style=\"text-align: right;\">\n",
              "      <th></th>\n",
              "      <th>x</th>\n",
              "      <th>y</th>\n",
              "      <th>z</th>\n",
              "    </tr>\n",
              "  </thead>\n",
              "  <tbody>\n",
              "    <tr>\n",
              "      <th>0</th>\n",
              "      <td>1</td>\n",
              "      <td>3</td>\n",
              "      <td>3</td>\n",
              "    </tr>\n",
              "    <tr>\n",
              "      <th>1</th>\n",
              "      <td>2</td>\n",
              "      <td>1</td>\n",
              "      <td>2</td>\n",
              "    </tr>\n",
              "    <tr>\n",
              "      <th>2</th>\n",
              "      <td>3</td>\n",
              "      <td>2</td>\n",
              "      <td>1</td>\n",
              "    </tr>\n",
              "    <tr>\n",
              "      <th>3</th>\n",
              "      <td>3</td>\n",
              "      <td>2</td>\n",
              "      <td>3</td>\n",
              "    </tr>\n",
              "  </tbody>\n",
              "</table>\n",
              "</div>"
            ],
            "text/plain": [
              "   x  y  z\n",
              "0  1  3  3\n",
              "1  2  1  2\n",
              "2  3  2  1\n",
              "3  3  2  3"
            ]
          },
          "metadata": {
            "tags": []
          },
          "execution_count": 9
        }
      ]
    },
    {
      "cell_type": "code",
      "metadata": {
        "id": "Od_2Kd9ZvhhT"
      },
      "source": [
        "# Challenge 3\n",
        "# Create the Dataframe shown in the Expected Output below with randomly generated integers\n",
        "# \n",
        "OUR CODE GOES HERE"
      ],
      "execution_count": null,
      "outputs": []
    },
    {
      "cell_type": "code",
      "metadata": {
        "id": "5yOC8xvh99iF",
        "colab": {
          "base_uri": "https://localhost:8080/",
          "height": 359
        },
        "outputId": "2204796b-7ed0-418b-adf1-29cf53d7d6f2"
      },
      "source": [
        "# Challenge 3: Expected Output\n",
        "# Running this cell will clear the output\n",
        "# Attention: Do not run this cell!"
      ],
      "execution_count": null,
      "outputs": [
        {
          "output_type": "execute_result",
          "data": {
            "text/html": [
              "<div>\n",
              "<style scoped>\n",
              "    .dataframe tbody tr th:only-of-type {\n",
              "        vertical-align: middle;\n",
              "    }\n",
              "\n",
              "    .dataframe tbody tr th {\n",
              "        vertical-align: top;\n",
              "    }\n",
              "\n",
              "    .dataframe thead th {\n",
              "        text-align: right;\n",
              "    }\n",
              "</style>\n",
              "<table border=\"1\" class=\"dataframe\">\n",
              "  <thead>\n",
              "    <tr style=\"text-align: right;\">\n",
              "      <th></th>\n",
              "      <th>A</th>\n",
              "      <th>B</th>\n",
              "      <th>C</th>\n",
              "      <th>D</th>\n",
              "    </tr>\n",
              "  </thead>\n",
              "  <tbody>\n",
              "    <tr>\n",
              "      <th>0</th>\n",
              "      <td>8</td>\n",
              "      <td>2</td>\n",
              "      <td>8</td>\n",
              "      <td>0</td>\n",
              "    </tr>\n",
              "    <tr>\n",
              "      <th>1</th>\n",
              "      <td>6</td>\n",
              "      <td>6</td>\n",
              "      <td>0</td>\n",
              "      <td>8</td>\n",
              "    </tr>\n",
              "    <tr>\n",
              "      <th>2</th>\n",
              "      <td>2</td>\n",
              "      <td>2</td>\n",
              "      <td>0</td>\n",
              "      <td>4</td>\n",
              "    </tr>\n",
              "    <tr>\n",
              "      <th>3</th>\n",
              "      <td>8</td>\n",
              "      <td>2</td>\n",
              "      <td>7</td>\n",
              "      <td>2</td>\n",
              "    </tr>\n",
              "    <tr>\n",
              "      <th>4</th>\n",
              "      <td>7</td>\n",
              "      <td>5</td>\n",
              "      <td>9</td>\n",
              "      <td>3</td>\n",
              "    </tr>\n",
              "    <tr>\n",
              "      <th>5</th>\n",
              "      <td>7</td>\n",
              "      <td>9</td>\n",
              "      <td>8</td>\n",
              "      <td>6</td>\n",
              "    </tr>\n",
              "    <tr>\n",
              "      <th>6</th>\n",
              "      <td>6</td>\n",
              "      <td>0</td>\n",
              "      <td>8</td>\n",
              "      <td>9</td>\n",
              "    </tr>\n",
              "    <tr>\n",
              "      <th>7</th>\n",
              "      <td>3</td>\n",
              "      <td>1</td>\n",
              "      <td>7</td>\n",
              "      <td>0</td>\n",
              "    </tr>\n",
              "    <tr>\n",
              "      <th>8</th>\n",
              "      <td>8</td>\n",
              "      <td>7</td>\n",
              "      <td>7</td>\n",
              "      <td>0</td>\n",
              "    </tr>\n",
              "    <tr>\n",
              "      <th>9</th>\n",
              "      <td>9</td>\n",
              "      <td>3</td>\n",
              "      <td>6</td>\n",
              "      <td>7</td>\n",
              "    </tr>\n",
              "  </tbody>\n",
              "</table>\n",
              "</div>"
            ],
            "text/plain": [
              "   A  B  C  D\n",
              "0  8  2  8  0\n",
              "1  6  6  0  8\n",
              "2  2  2  0  4\n",
              "3  8  2  7  2\n",
              "4  7  5  9  3\n",
              "5  7  9  8  6\n",
              "6  6  0  8  9\n",
              "7  3  1  7  0\n",
              "8  8  7  7  0\n",
              "9  9  3  6  7"
            ]
          },
          "metadata": {
            "tags": []
          },
          "execution_count": 37
        }
      ]
    },
    {
      "cell_type": "code",
      "metadata": {
        "id": "XBtytsCQvhYk"
      },
      "source": [
        "# Challenge 4\n",
        "# Create a Dataframe from the mnist_test csv file in the sample_data directory\n",
        "#\n",
        "OUR CODE GOES HERE"
      ],
      "execution_count": null,
      "outputs": []
    },
    {
      "cell_type": "code",
      "metadata": {
        "id": "5g5RBnCsvhOO"
      },
      "source": [
        "# Challenge 5\n",
        "# Create a Dataframe from dataset with the following url source\n",
        "# URL: http://bit.ly/NairobiBusesDataset\n",
        "#\n",
        "OUR CODE GOES HERE"
      ],
      "execution_count": null,
      "outputs": []
    },
    {
      "cell_type": "code",
      "metadata": {
        "id": "OK7_9XppvhGH"
      },
      "source": [
        "# Challenge 6\n",
        "# Change the column names of the dataset from this source (http://bit.ly/FiveYearData) \n",
        "# to: country, year, population, continent, life_exp, gdp_per_cap\n",
        "#\n",
        "OUR CODE GOES HERE"
      ],
      "execution_count": null,
      "outputs": []
    },
    {
      "cell_type": "code",
      "metadata": {
        "id": "0GUaxYY4vg6c"
      },
      "source": [
        "# Challenge 7\n",
        "# Choose the country, year and continent columns from a DataFrame in challenge 6\n",
        "#\n",
        "OUR CODE GOES HERE"
      ],
      "execution_count": null,
      "outputs": []
    },
    {
      "cell_type": "code",
      "metadata": {
        "id": "qgt-NO7RHDFe"
      },
      "source": [
        "# Challenge 8\n",
        "# Drop the population and life_exp columns from the DataFrame in challenge 6\n",
        "#\n",
        "OUR CODE GOES HERE"
      ],
      "execution_count": null,
      "outputs": []
    },
    {
      "cell_type": "markdown",
      "metadata": {
        "id": "8xDIxQXjv1cs"
      },
      "source": [
        "## 1.2 Manipulating Dataframes"
      ]
    },
    {
      "cell_type": "code",
      "metadata": {
        "id": "NYtpbBzPwLm6",
        "colab": {
          "base_uri": "https://localhost:8080/",
          "height": 142
        },
        "outputId": "9af79e2f-7aab-4a6e-8f8e-189e12369a51"
      },
      "source": [
        "# Example 1\n",
        "# While working with dataframes, sometimes we may want to iterate over our dataframe and do sopme operations on each row. Pandas gives us two methods to enable us to do this.\n",
        "# We are going to look at them in the following example.\n",
        "# \n",
        "\n",
        "df = pd.DataFrame([['AA', 1],['BB', 2],['CC', 3]], columns = ['name','value'])\n",
        "df\n",
        "\n",
        "# Uncomment after running previous lines\n",
        "# Since we are iterating over rows, we are going to use a pandas method called iterrows(). This method returns an iterator that contains indices of each row and data on each row. Each row is stored in a Series\n",
        "# for index, row in df.iterrows():\n",
        "#    print(row['name'], row['value'])\n",
        "\n",
        "\n",
        "# Uncomment after runnuni previous lines\n",
        "# The other method we that is available to us is itertuples() method. This method loops through each row and returns a named tuple.\n",
        "# for row in df.itertuples():\n",
        "#   print(row)"
      ],
      "execution_count": 20,
      "outputs": [
        {
          "output_type": "execute_result",
          "data": {
            "text/html": [
              "<div>\n",
              "<style scoped>\n",
              "    .dataframe tbody tr th:only-of-type {\n",
              "        vertical-align: middle;\n",
              "    }\n",
              "\n",
              "    .dataframe tbody tr th {\n",
              "        vertical-align: top;\n",
              "    }\n",
              "\n",
              "    .dataframe thead th {\n",
              "        text-align: right;\n",
              "    }\n",
              "</style>\n",
              "<table border=\"1\" class=\"dataframe\">\n",
              "  <thead>\n",
              "    <tr style=\"text-align: right;\">\n",
              "      <th></th>\n",
              "      <th>name</th>\n",
              "      <th>value</th>\n",
              "    </tr>\n",
              "  </thead>\n",
              "  <tbody>\n",
              "    <tr>\n",
              "      <th>0</th>\n",
              "      <td>AA</td>\n",
              "      <td>1</td>\n",
              "    </tr>\n",
              "    <tr>\n",
              "      <th>1</th>\n",
              "      <td>BB</td>\n",
              "      <td>2</td>\n",
              "    </tr>\n",
              "    <tr>\n",
              "      <th>2</th>\n",
              "      <td>CC</td>\n",
              "      <td>3</td>\n",
              "    </tr>\n",
              "  </tbody>\n",
              "</table>\n",
              "</div>"
            ],
            "text/plain": [
              "  name  value\n",
              "0   AA      1\n",
              "1   BB      2\n",
              "2   CC      3"
            ]
          },
          "metadata": {
            "tags": []
          },
          "execution_count": 20
        }
      ]
    },
    {
      "cell_type": "code",
      "metadata": {
        "colab": {
          "base_uri": "https://localhost:8080/"
        },
        "id": "cgQQdZF9uD4i",
        "outputId": "4f968bf3-9507-4db2-eb5e-4077541249f9"
      },
      "source": [
        "# Example 1\n",
        "# While working with dataframes, sometimes we may want to iterate over our dataframe and do sopme operations on each row. Pandas gives us two methods to enable us to do this.\n",
        "# We are going to look at them in the following example.\n",
        "# \n",
        "\n",
        "df = pd.DataFrame([['AA', 1],['BB', 2],['CC', 3]], columns = ['name','value'])\n",
        "df\n",
        "\n",
        "# Uncomment after running previous lines\n",
        "# Since we are iterating over rows, we are going to use a pandas method called iterrows().\n",
        "# This method returns an iterator that contains indices of each row and data on each row. Each row is stored in a Series\n",
        "for index, row in df.iterrows():\n",
        "   print(row['name'], row['value'])\n",
        "\n",
        "\n",
        "# Uncomment after running previous lines\n",
        "# The other method we that is available to us is itertuples() method. This method loops through each row and returns a named tuple.\n",
        "# for row in df.itertuples():\n",
        "#   print(row)"
      ],
      "execution_count": 22,
      "outputs": [
        {
          "output_type": "stream",
          "text": [
            "AA 1\n",
            "BB 2\n",
            "CC 3\n"
          ],
          "name": "stdout"
        }
      ]
    },
    {
      "cell_type": "code",
      "metadata": {
        "colab": {
          "base_uri": "https://localhost:8080/"
        },
        "id": "vc3mHtecuRPl",
        "outputId": "9c671afb-b97d-46fe-c000-bffbf9eb50aa"
      },
      "source": [
        "# Example 1\n",
        "# While working with dataframes, sometimes we may want to iterate over our dataframe and do sopme operations on each row. Pandas gives us two methods to enable us to do this.\n",
        "# We are going to look at them in the following example.\n",
        "# \n",
        "\n",
        "df = pd.DataFrame([['AA', 1],['BB', 2],['CC', 3]], columns = ['name','value'])\n",
        "df\n",
        "\n",
        "# Uncomment after running previous lines\n",
        "# Since we are iterating over rows, we are going to use a pandas method called iterrows(). This method returns an iterator that contains indices of each row and data on each row. Each row is stored in a Series\n",
        "for index, row in df.iterrows():\n",
        "   print(row['name'], row['value'])\n",
        "\n",
        "\n",
        "# Uncomment after running previous lines\n",
        "# The other method we that is available to us is itertuples() method.\n",
        "# This method loops through each row and returns a named tuple.\n",
        "for row in df.itertuples():\n",
        "  print(row)"
      ],
      "execution_count": 23,
      "outputs": [
        {
          "output_type": "stream",
          "text": [
            "AA 1\n",
            "BB 2\n",
            "CC 3\n",
            "Pandas(Index=0, name='AA', value=1)\n",
            "Pandas(Index=1, name='BB', value=2)\n",
            "Pandas(Index=2, name='CC', value=3)\n"
          ],
          "name": "stdout"
        }
      ]
    },
    {
      "cell_type": "code",
      "metadata": {
        "id": "RZHYg1hNwLbL",
        "colab": {
          "base_uri": "https://localhost:8080/",
          "height": 142
        },
        "outputId": "0bb1d417-f09e-4a82-f393-4359e285f786"
      },
      "source": [
        "# Example 2\n",
        "# Applying a function to Dataframe row\n",
        "# This is useful when cleaning up data - converting formats, altering values etc.\n",
        "#  In this example we are going to create a third column then create a function that concatenates the values of the first and second column.\n",
        "df = pd.DataFrame([['AA', 1],['BB', 2],['CC', 3]], columns = ['name','value'])\n",
        "df\n",
        "\n",
        "# Uncomment after running previous lines\n",
        "\n",
        "# Define a function that takes in two values and returns the two values concatenated together\n",
        "# def function_1(val_1, val_2):\n",
        "#   # before retuning the values, we convert the first values into a string because values in one column are strings\n",
        "#     return val_1 + str(val_2)\n",
        "\n",
        "# Create a third column called col_a then apply a function that we defined above using python lambda.\n",
        "# Since lambda is a new concept, take a few minutes to read about it here: https://www.afternerd.com/blog/python-lambdas/ . Its not a difficult concept to grasp, so it should not take alot of time to understand.\n",
        "# df['col_a'] = df.apply(lambda row: function_1(row['name'], row['value']), axis=1)\n",
        "# df\n",
        "\n",
        "# Uncomment after running previous lines\n",
        "# We create a new function that takes in a row value and multiplies it by 2\n",
        "# def function_2(row):\n",
        "#     return row['value'] * 2\n",
        "\n",
        "# Create another column called col_b, that applies the above function and populates the column with our new values\n",
        "# df['col_b'] = df.apply(lambda row: function_2(row), axis=1)\n",
        "# df"
      ],
      "execution_count": 24,
      "outputs": [
        {
          "output_type": "execute_result",
          "data": {
            "text/html": [
              "<div>\n",
              "<style scoped>\n",
              "    .dataframe tbody tr th:only-of-type {\n",
              "        vertical-align: middle;\n",
              "    }\n",
              "\n",
              "    .dataframe tbody tr th {\n",
              "        vertical-align: top;\n",
              "    }\n",
              "\n",
              "    .dataframe thead th {\n",
              "        text-align: right;\n",
              "    }\n",
              "</style>\n",
              "<table border=\"1\" class=\"dataframe\">\n",
              "  <thead>\n",
              "    <tr style=\"text-align: right;\">\n",
              "      <th></th>\n",
              "      <th>name</th>\n",
              "      <th>value</th>\n",
              "    </tr>\n",
              "  </thead>\n",
              "  <tbody>\n",
              "    <tr>\n",
              "      <th>0</th>\n",
              "      <td>AA</td>\n",
              "      <td>1</td>\n",
              "    </tr>\n",
              "    <tr>\n",
              "      <th>1</th>\n",
              "      <td>BB</td>\n",
              "      <td>2</td>\n",
              "    </tr>\n",
              "    <tr>\n",
              "      <th>2</th>\n",
              "      <td>CC</td>\n",
              "      <td>3</td>\n",
              "    </tr>\n",
              "  </tbody>\n",
              "</table>\n",
              "</div>"
            ],
            "text/plain": [
              "  name  value\n",
              "0   AA      1\n",
              "1   BB      2\n",
              "2   CC      3"
            ]
          },
          "metadata": {
            "tags": []
          },
          "execution_count": 24
        }
      ]
    },
    {
      "cell_type": "code",
      "metadata": {
        "colab": {
          "base_uri": "https://localhost:8080/",
          "height": 142
        },
        "id": "wuD1LQROugjE",
        "outputId": "dfe1b9d4-135f-4040-f66b-bd084a718d82"
      },
      "source": [
        "# Example 2\n",
        "# Applying a function to Dataframe row\n",
        "# This is useful when cleaning up data - converting formats, altering values etc.\n",
        "#  In this example we are going to create a third column then create a function that concatenates the values of the first and second column.\n",
        "df = pd.DataFrame([['AA', 1],['BB', 2],['CC', 3]], columns = ['name','value'])\n",
        "df\n",
        "\n",
        "# Uncomment after running previous lines\n",
        "\n",
        "# Define a function that takes in two values and returns the two values concatenated together\n",
        "def function_1(val_1, val_2):\n",
        "# before returning the values, we convert the first values into a string because values in one column are strings\n",
        "  return val_1 + str(val_2)\n",
        "\n",
        "# Create a third column called col_a then apply a function that we defined above using python lambda.\n",
        "# Since lambda is a new concept, take a few minutes to read about it here: https://www.afternerd.com/blog/python-lambdas/ .\n",
        "# Its not a difficult concept to grasp, so it should not take alot of time to understand.\n",
        "df['col_a'] = df.apply(lambda row: function_1(row['name'], row['value']), axis=1)\n",
        "df\n",
        "\n",
        "# Uncomment after running previous lines\n",
        "# We create a new function that takes in a row value and multiplies it by 2\n",
        "# def function_2(row):\n",
        "#     return row['value'] * 2\n",
        "\n",
        "# Create another column called col_b, that applies the above function and populates the column with our new values\n",
        "# df['col_b'] = df.apply(lambda row: function_2(row), axis=1)\n",
        "# df"
      ],
      "execution_count": 28,
      "outputs": [
        {
          "output_type": "execute_result",
          "data": {
            "text/html": [
              "<div>\n",
              "<style scoped>\n",
              "    .dataframe tbody tr th:only-of-type {\n",
              "        vertical-align: middle;\n",
              "    }\n",
              "\n",
              "    .dataframe tbody tr th {\n",
              "        vertical-align: top;\n",
              "    }\n",
              "\n",
              "    .dataframe thead th {\n",
              "        text-align: right;\n",
              "    }\n",
              "</style>\n",
              "<table border=\"1\" class=\"dataframe\">\n",
              "  <thead>\n",
              "    <tr style=\"text-align: right;\">\n",
              "      <th></th>\n",
              "      <th>name</th>\n",
              "      <th>value</th>\n",
              "      <th>col_a</th>\n",
              "    </tr>\n",
              "  </thead>\n",
              "  <tbody>\n",
              "    <tr>\n",
              "      <th>0</th>\n",
              "      <td>AA</td>\n",
              "      <td>1</td>\n",
              "      <td>AA1</td>\n",
              "    </tr>\n",
              "    <tr>\n",
              "      <th>1</th>\n",
              "      <td>BB</td>\n",
              "      <td>2</td>\n",
              "      <td>BB2</td>\n",
              "    </tr>\n",
              "    <tr>\n",
              "      <th>2</th>\n",
              "      <td>CC</td>\n",
              "      <td>3</td>\n",
              "      <td>CC3</td>\n",
              "    </tr>\n",
              "  </tbody>\n",
              "</table>\n",
              "</div>"
            ],
            "text/plain": [
              "  name  value col_a\n",
              "0   AA      1   AA1\n",
              "1   BB      2   BB2\n",
              "2   CC      3   CC3"
            ]
          },
          "metadata": {
            "tags": []
          },
          "execution_count": 28
        }
      ]
    },
    {
      "cell_type": "code",
      "metadata": {
        "colab": {
          "base_uri": "https://localhost:8080/",
          "height": 142
        },
        "id": "W7tEsIMQu89d",
        "outputId": "3c7438cb-6268-46c1-f539-f0d8d522112f"
      },
      "source": [
        "# Example 2\n",
        "# Applying a function to Dataframe row\n",
        "# This is useful when cleaning up data - converting formats, altering values etc.\n",
        "#  In this example we are going to create a third column then create a function that concatenates the values of the first and second column.\n",
        "df = pd.DataFrame([['AA', 1],['BB', 2],['CC', 3]], columns = ['name','value'])\n",
        "df\n",
        "\n",
        "# Uncomment after running previous lines\n",
        "\n",
        "# Define a function that takes in two values and returns the two values concatenated together\n",
        "def function_1(val_1, val_2):\n",
        "# before returning the values, we convert the first values into a string because values in one column are strings\n",
        "  return val_1 + str(val_2)\n",
        "\n",
        "# Create a third column called col_a then apply a function that we defined above using python lambda.\n",
        "# Since lambda is a new concept, take a few minutes to read about it here: https://www.afternerd.com/blog/python-lambdas/ .\n",
        "# Its not a difficult concept to grasp, so it should not take alot of time to understand.\n",
        "df['col_a'] = df.apply(lambda row: function_1(row['name'], row['value']), axis=1)\n",
        "df\n",
        "\n",
        "# Uncomment after running previous lines\n",
        "# We create a new function that takes in a row value and multiplies it by 2\n",
        "def function_2(row):\n",
        "  return row['value'] * 2\n",
        "\n",
        "# Create another column called col_b, that applies the above function and populates the column with our new values\n",
        "df['col_b'] = df.apply(lambda row: function_2(row), axis=1)\n",
        "df"
      ],
      "execution_count": 29,
      "outputs": [
        {
          "output_type": "execute_result",
          "data": {
            "text/html": [
              "<div>\n",
              "<style scoped>\n",
              "    .dataframe tbody tr th:only-of-type {\n",
              "        vertical-align: middle;\n",
              "    }\n",
              "\n",
              "    .dataframe tbody tr th {\n",
              "        vertical-align: top;\n",
              "    }\n",
              "\n",
              "    .dataframe thead th {\n",
              "        text-align: right;\n",
              "    }\n",
              "</style>\n",
              "<table border=\"1\" class=\"dataframe\">\n",
              "  <thead>\n",
              "    <tr style=\"text-align: right;\">\n",
              "      <th></th>\n",
              "      <th>name</th>\n",
              "      <th>value</th>\n",
              "      <th>col_a</th>\n",
              "      <th>col_b</th>\n",
              "    </tr>\n",
              "  </thead>\n",
              "  <tbody>\n",
              "    <tr>\n",
              "      <th>0</th>\n",
              "      <td>AA</td>\n",
              "      <td>1</td>\n",
              "      <td>AA1</td>\n",
              "      <td>2</td>\n",
              "    </tr>\n",
              "    <tr>\n",
              "      <th>1</th>\n",
              "      <td>BB</td>\n",
              "      <td>2</td>\n",
              "      <td>BB2</td>\n",
              "      <td>4</td>\n",
              "    </tr>\n",
              "    <tr>\n",
              "      <th>2</th>\n",
              "      <td>CC</td>\n",
              "      <td>3</td>\n",
              "      <td>CC3</td>\n",
              "      <td>6</td>\n",
              "    </tr>\n",
              "  </tbody>\n",
              "</table>\n",
              "</div>"
            ],
            "text/plain": [
              "  name  value col_a  col_b\n",
              "0   AA      1   AA1      2\n",
              "1   BB      2   BB2      4\n",
              "2   CC      3   CC3      6"
            ]
          },
          "metadata": {
            "tags": []
          },
          "execution_count": 29
        }
      ]
    },
    {
      "cell_type": "code",
      "metadata": {
        "id": "6loPOfpMwLT0",
        "colab": {
          "base_uri": "https://localhost:8080/",
          "height": 142
        },
        "outputId": "b00a6888-f829-4d64-dea4-0dc1493a567d"
      },
      "source": [
        "# Example 3\n",
        "# Applying a function to a specific column of Dataframe\n",
        "# \n",
        "df = pd.DataFrame([['AA', 1], ['BB', 2], ['CC', 3]], columns=['name', 'value'])\n",
        "df\n",
        "\n",
        "# Uncomment after running previous lines\n",
        "# def function_1(val_1):\n",
        "#     return \"prefix_\" + str(val_1)\n",
        "  \n",
        "# Uncomment after running previous lines\n",
        "# To be able to apply a function to the elements of the name column, we use the map function. This function allows us to apply a specific function to all the elements of the targeted column.\n",
        "# df['name'] = df['name'].map(function_1)\n",
        "# df "
      ],
      "execution_count": 30,
      "outputs": [
        {
          "output_type": "execute_result",
          "data": {
            "text/html": [
              "<div>\n",
              "<style scoped>\n",
              "    .dataframe tbody tr th:only-of-type {\n",
              "        vertical-align: middle;\n",
              "    }\n",
              "\n",
              "    .dataframe tbody tr th {\n",
              "        vertical-align: top;\n",
              "    }\n",
              "\n",
              "    .dataframe thead th {\n",
              "        text-align: right;\n",
              "    }\n",
              "</style>\n",
              "<table border=\"1\" class=\"dataframe\">\n",
              "  <thead>\n",
              "    <tr style=\"text-align: right;\">\n",
              "      <th></th>\n",
              "      <th>name</th>\n",
              "      <th>value</th>\n",
              "    </tr>\n",
              "  </thead>\n",
              "  <tbody>\n",
              "    <tr>\n",
              "      <th>0</th>\n",
              "      <td>AA</td>\n",
              "      <td>1</td>\n",
              "    </tr>\n",
              "    <tr>\n",
              "      <th>1</th>\n",
              "      <td>BB</td>\n",
              "      <td>2</td>\n",
              "    </tr>\n",
              "    <tr>\n",
              "      <th>2</th>\n",
              "      <td>CC</td>\n",
              "      <td>3</td>\n",
              "    </tr>\n",
              "  </tbody>\n",
              "</table>\n",
              "</div>"
            ],
            "text/plain": [
              "  name  value\n",
              "0   AA      1\n",
              "1   BB      2\n",
              "2   CC      3"
            ]
          },
          "metadata": {
            "tags": []
          },
          "execution_count": 30
        }
      ]
    },
    {
      "cell_type": "code",
      "metadata": {
        "id": "2uRLpm7tvLj1"
      },
      "source": [
        "# Example 3\n",
        "# Applying a function to a specific column of Dataframe\n",
        "# \n",
        "df = pd.DataFrame([['AA', 1], ['BB', 2], ['CC', 3]], columns=['name', 'value'])\n",
        "df\n",
        "\n",
        "# Uncomment after running previous lines\n",
        "def function_1(val_1):\n",
        "  return \"prefix_\" + str(val_1)\n",
        "  \n",
        "# Uncomment after running previous lines\n",
        "# To be able to apply a function to the elements of the name column, we use the map function. This function allows us to apply a specific function to all the elements of the targeted column.\n",
        "# df['name'] = df['name'].map(function_1)\n",
        "# df"
      ],
      "execution_count": 31,
      "outputs": []
    },
    {
      "cell_type": "code",
      "metadata": {
        "colab": {
          "base_uri": "https://localhost:8080/",
          "height": 142
        },
        "id": "qTK5yubGvQmP",
        "outputId": "8cd5f946-0082-46f3-f804-730b7c5b5204"
      },
      "source": [
        "# Example 3\n",
        "# Applying a function to a specific column of Dataframe\n",
        "# \n",
        "df = pd.DataFrame([['AA', 1], ['BB', 2], ['CC', 3]], columns=['name', 'value'])\n",
        "df\n",
        "\n",
        "# Uncomment after running previous lines\n",
        "def function_1(val_1):\n",
        "  return \"prefix_\" + str(val_1)\n",
        "  \n",
        "# Uncomment after running previous lines\n",
        "# To be able to apply a function to the elements of the name column, we use the map function. This function allows us to apply a specific function to all the elements of the targeted column.\n",
        "df['name'] = df['name'].map(function_1)\n",
        "df"
      ],
      "execution_count": 32,
      "outputs": [
        {
          "output_type": "execute_result",
          "data": {
            "text/html": [
              "<div>\n",
              "<style scoped>\n",
              "    .dataframe tbody tr th:only-of-type {\n",
              "        vertical-align: middle;\n",
              "    }\n",
              "\n",
              "    .dataframe tbody tr th {\n",
              "        vertical-align: top;\n",
              "    }\n",
              "\n",
              "    .dataframe thead th {\n",
              "        text-align: right;\n",
              "    }\n",
              "</style>\n",
              "<table border=\"1\" class=\"dataframe\">\n",
              "  <thead>\n",
              "    <tr style=\"text-align: right;\">\n",
              "      <th></th>\n",
              "      <th>name</th>\n",
              "      <th>value</th>\n",
              "    </tr>\n",
              "  </thead>\n",
              "  <tbody>\n",
              "    <tr>\n",
              "      <th>0</th>\n",
              "      <td>prefix_AA</td>\n",
              "      <td>1</td>\n",
              "    </tr>\n",
              "    <tr>\n",
              "      <th>1</th>\n",
              "      <td>prefix_BB</td>\n",
              "      <td>2</td>\n",
              "    </tr>\n",
              "    <tr>\n",
              "      <th>2</th>\n",
              "      <td>prefix_CC</td>\n",
              "      <td>3</td>\n",
              "    </tr>\n",
              "  </tbody>\n",
              "</table>\n",
              "</div>"
            ],
            "text/plain": [
              "        name  value\n",
              "0  prefix_AA      1\n",
              "1  prefix_BB      2\n",
              "2  prefix_CC      3"
            ]
          },
          "metadata": {
            "tags": []
          },
          "execution_count": 32
        }
      ]
    },
    {
      "cell_type": "code",
      "metadata": {
        "id": "lqYeZTldwLPO",
        "colab": {
          "base_uri": "https://localhost:8080/",
          "height": 173
        },
        "outputId": "d9823487-1ff1-47e6-94de-d07fe59c3e26"
      },
      "source": [
        "# Example 4\n",
        "# Finding and replacing a value in Dataframe\n",
        "# \n",
        "df = pd.DataFrame([['One', 'Two'], ['Four', 'Abcd'], ['One', 'Bcd'], ['Five', 'Cd']], columns=['A', 'B'])\n",
        "df\n",
        "\n",
        "# Uncomment after running previous lines\n",
        "# df.loc[df['A'] == 'One', 'A'] = 0\n",
        "# df"
      ],
      "execution_count": 33,
      "outputs": [
        {
          "output_type": "execute_result",
          "data": {
            "text/html": [
              "<div>\n",
              "<style scoped>\n",
              "    .dataframe tbody tr th:only-of-type {\n",
              "        vertical-align: middle;\n",
              "    }\n",
              "\n",
              "    .dataframe tbody tr th {\n",
              "        vertical-align: top;\n",
              "    }\n",
              "\n",
              "    .dataframe thead th {\n",
              "        text-align: right;\n",
              "    }\n",
              "</style>\n",
              "<table border=\"1\" class=\"dataframe\">\n",
              "  <thead>\n",
              "    <tr style=\"text-align: right;\">\n",
              "      <th></th>\n",
              "      <th>A</th>\n",
              "      <th>B</th>\n",
              "    </tr>\n",
              "  </thead>\n",
              "  <tbody>\n",
              "    <tr>\n",
              "      <th>0</th>\n",
              "      <td>One</td>\n",
              "      <td>Two</td>\n",
              "    </tr>\n",
              "    <tr>\n",
              "      <th>1</th>\n",
              "      <td>Four</td>\n",
              "      <td>Abcd</td>\n",
              "    </tr>\n",
              "    <tr>\n",
              "      <th>2</th>\n",
              "      <td>One</td>\n",
              "      <td>Bcd</td>\n",
              "    </tr>\n",
              "    <tr>\n",
              "      <th>3</th>\n",
              "      <td>Five</td>\n",
              "      <td>Cd</td>\n",
              "    </tr>\n",
              "  </tbody>\n",
              "</table>\n",
              "</div>"
            ],
            "text/plain": [
              "      A     B\n",
              "0   One   Two\n",
              "1  Four  Abcd\n",
              "2   One   Bcd\n",
              "3  Five    Cd"
            ]
          },
          "metadata": {
            "tags": []
          },
          "execution_count": 33
        }
      ]
    },
    {
      "cell_type": "code",
      "metadata": {
        "colab": {
          "base_uri": "https://localhost:8080/",
          "height": 173
        },
        "id": "OLxspSZQvdnE",
        "outputId": "2feaff46-cb65-4236-98b0-018cee7e3160"
      },
      "source": [
        "# Example 4\n",
        "# Finding and replacing a value in Dataframe\n",
        "# \n",
        "df = pd.DataFrame([['One', 'Two'], ['Four', 'Abcd'], ['One', 'Bcd'], ['Five', 'Cd']], columns=['A', 'B'])\n",
        "df\n",
        "\n",
        "# Uncomment after running previous lines\n",
        "df.loc[df['A'] == 'One', 'A'] = 0\n",
        "df"
      ],
      "execution_count": 34,
      "outputs": [
        {
          "output_type": "execute_result",
          "data": {
            "text/html": [
              "<div>\n",
              "<style scoped>\n",
              "    .dataframe tbody tr th:only-of-type {\n",
              "        vertical-align: middle;\n",
              "    }\n",
              "\n",
              "    .dataframe tbody tr th {\n",
              "        vertical-align: top;\n",
              "    }\n",
              "\n",
              "    .dataframe thead th {\n",
              "        text-align: right;\n",
              "    }\n",
              "</style>\n",
              "<table border=\"1\" class=\"dataframe\">\n",
              "  <thead>\n",
              "    <tr style=\"text-align: right;\">\n",
              "      <th></th>\n",
              "      <th>A</th>\n",
              "      <th>B</th>\n",
              "    </tr>\n",
              "  </thead>\n",
              "  <tbody>\n",
              "    <tr>\n",
              "      <th>0</th>\n",
              "      <td>0</td>\n",
              "      <td>Two</td>\n",
              "    </tr>\n",
              "    <tr>\n",
              "      <th>1</th>\n",
              "      <td>Four</td>\n",
              "      <td>Abcd</td>\n",
              "    </tr>\n",
              "    <tr>\n",
              "      <th>2</th>\n",
              "      <td>0</td>\n",
              "      <td>Bcd</td>\n",
              "    </tr>\n",
              "    <tr>\n",
              "      <th>3</th>\n",
              "      <td>Five</td>\n",
              "      <td>Cd</td>\n",
              "    </tr>\n",
              "  </tbody>\n",
              "</table>\n",
              "</div>"
            ],
            "text/plain": [
              "      A     B\n",
              "0     0   Two\n",
              "1  Four  Abcd\n",
              "2     0   Bcd\n",
              "3  Five    Cd"
            ]
          },
          "metadata": {
            "tags": []
          },
          "execution_count": 34
        }
      ]
    },
    {
      "cell_type": "markdown",
      "metadata": {
        "id": "2HvwqV6UwMFI"
      },
      "source": [
        "### <font color=\"green\">1.2 Challenges</font>"
      ]
    },
    {
      "cell_type": "code",
      "metadata": {
        "id": "hSm2qyoEwSwo"
      },
      "source": [
        "# Challenge 1\n",
        "# Create a Dataframe from the Dictionary below and iterate over the rows\n",
        "graduates = {'name':[\"Jane Njoroge\", \"June Adhiambo\", \"Kevin Swale\", \"Heidi Sang\"], \n",
        "        'degree': [\"MBA\", \"BCA\", \"M.Tech\", \"MBA\"], \n",
        "        'score':[90, 40, 80, 98]} \n",
        "\n",
        "OUR CODE GOES HERE"
      ],
      "execution_count": null,
      "outputs": []
    },
    {
      "cell_type": "code",
      "metadata": {
        "id": "9rMJz-2uwTWc"
      },
      "source": [
        "# Challenge 2\n",
        "# Apply the given function to SAL-RATE column\n",
        "# http://bit.ly/EmployeeSalary\n",
        "\n",
        "# Get rid of $ and , in the SAL-RATE, then convert it to a float\n",
        "def money_to_float(money_str):\n",
        "    return float(money_str.replace(\"$\",\"\").replace(\",\",\"\"))\n",
        "\n",
        "OUR CODE GOES HERE"
      ],
      "execution_count": null,
      "outputs": []
    },
    {
      "cell_type": "code",
      "metadata": {
        "id": "Pc0MmJHXwTQP"
      },
      "source": [
        "# Challenge 3\n",
        "# Replace the value in M.Tech in Challenge 1 Dataframe with Msc.Tech\n",
        "# \n",
        "OUR CODE GOES HERE"
      ],
      "execution_count": null,
      "outputs": []
    },
    {
      "cell_type": "markdown",
      "metadata": {
        "id": "uCmfk1Urv7mM"
      },
      "source": [
        "## 1.3 Splitting and Merging Dataframes\n"
      ]
    },
    {
      "cell_type": "code",
      "metadata": {
        "id": "n0b8ZowiwGxU",
        "colab": {
          "base_uri": "https://localhost:8080/",
          "height": 111
        },
        "outputId": "2d9b8cad-7524-4578-a921-bb8e9f86eed7"
      },
      "source": [
        "# Example 1\n",
        "# Merging Dataframes by columns using join\n",
        "# Create the first dataframe\n",
        "df = pd.DataFrame([[1, 3], [2, 4]], columns=['A', 'B'])\n",
        "df\n",
        "\n",
        "# Uncomment and run after running previous lines\n",
        "# Create the second dataframe\n",
        "# df2 = pd.DataFrame([[1, 5], [1, 6]], columns=['A', 'C'])\n",
        "# df2\n",
        "\n",
        "# Uncomment and run after running previous lines\n",
        "# df.merge(df2, how='left', on='A')  # merges on columns A\n",
        "\n",
        "# Uncomment and run after running previous lines\n",
        "# df2.drop_duplicates(subset=['A'], inplace=True)\n",
        "\n",
        "# Uncomment and run after running previous lines\n",
        "# df.merge(df2, how='left', on='A')"
      ],
      "execution_count": 35,
      "outputs": [
        {
          "output_type": "execute_result",
          "data": {
            "text/html": [
              "<div>\n",
              "<style scoped>\n",
              "    .dataframe tbody tr th:only-of-type {\n",
              "        vertical-align: middle;\n",
              "    }\n",
              "\n",
              "    .dataframe tbody tr th {\n",
              "        vertical-align: top;\n",
              "    }\n",
              "\n",
              "    .dataframe thead th {\n",
              "        text-align: right;\n",
              "    }\n",
              "</style>\n",
              "<table border=\"1\" class=\"dataframe\">\n",
              "  <thead>\n",
              "    <tr style=\"text-align: right;\">\n",
              "      <th></th>\n",
              "      <th>A</th>\n",
              "      <th>B</th>\n",
              "    </tr>\n",
              "  </thead>\n",
              "  <tbody>\n",
              "    <tr>\n",
              "      <th>0</th>\n",
              "      <td>1</td>\n",
              "      <td>3</td>\n",
              "    </tr>\n",
              "    <tr>\n",
              "      <th>1</th>\n",
              "      <td>2</td>\n",
              "      <td>4</td>\n",
              "    </tr>\n",
              "  </tbody>\n",
              "</table>\n",
              "</div>"
            ],
            "text/plain": [
              "   A  B\n",
              "0  1  3\n",
              "1  2  4"
            ]
          },
          "metadata": {
            "tags": []
          },
          "execution_count": 35
        }
      ]
    },
    {
      "cell_type": "code",
      "metadata": {
        "colab": {
          "base_uri": "https://localhost:8080/",
          "height": 111
        },
        "id": "u-KPlZ0RvkYJ",
        "outputId": "82de0069-a939-4740-eceb-57a79ee2c709"
      },
      "source": [
        "# Example 1\n",
        "# Merging Dataframes by columns using join\n",
        "# Create the first dataframe\n",
        "df = pd.DataFrame([[1, 3], [2, 4]], columns=['A', 'B'])\n",
        "df\n",
        "\n",
        "# Uncomment and run after running previous lines\n",
        "# Create the second dataframe\n",
        "df2 = pd.DataFrame([[1, 5], [1, 6]], columns=['A', 'C'])\n",
        "df2\n",
        "\n",
        "# Uncomment and run after running previous lines\n",
        "# df.merge(df2, how='left', on='A')  # merges on columns A\n",
        "\n",
        "# Uncomment and run after running previous lines\n",
        "# df2.drop_duplicates(subset=['A'], inplace=True)\n",
        "\n",
        "# Uncomment and run after running previous lines\n",
        "# df.merge(df2, how='left', on='A')"
      ],
      "execution_count": 36,
      "outputs": [
        {
          "output_type": "execute_result",
          "data": {
            "text/html": [
              "<div>\n",
              "<style scoped>\n",
              "    .dataframe tbody tr th:only-of-type {\n",
              "        vertical-align: middle;\n",
              "    }\n",
              "\n",
              "    .dataframe tbody tr th {\n",
              "        vertical-align: top;\n",
              "    }\n",
              "\n",
              "    .dataframe thead th {\n",
              "        text-align: right;\n",
              "    }\n",
              "</style>\n",
              "<table border=\"1\" class=\"dataframe\">\n",
              "  <thead>\n",
              "    <tr style=\"text-align: right;\">\n",
              "      <th></th>\n",
              "      <th>A</th>\n",
              "      <th>C</th>\n",
              "    </tr>\n",
              "  </thead>\n",
              "  <tbody>\n",
              "    <tr>\n",
              "      <th>0</th>\n",
              "      <td>1</td>\n",
              "      <td>5</td>\n",
              "    </tr>\n",
              "    <tr>\n",
              "      <th>1</th>\n",
              "      <td>1</td>\n",
              "      <td>6</td>\n",
              "    </tr>\n",
              "  </tbody>\n",
              "</table>\n",
              "</div>"
            ],
            "text/plain": [
              "   A  C\n",
              "0  1  5\n",
              "1  1  6"
            ]
          },
          "metadata": {
            "tags": []
          },
          "execution_count": 36
        }
      ]
    },
    {
      "cell_type": "code",
      "metadata": {
        "colab": {
          "base_uri": "https://localhost:8080/",
          "height": 142
        },
        "id": "_IW_3rTivofS",
        "outputId": "ae100f72-4276-452e-a50e-29b21fd4bcd0"
      },
      "source": [
        "# Example 1\n",
        "# Merging Dataframes by columns using join\n",
        "# Create the first dataframe\n",
        "df = pd.DataFrame([[1, 3], [2, 4]], columns=['A', 'B'])\n",
        "df\n",
        "\n",
        "# Uncomment and run after running previous lines\n",
        "# Create the second dataframe\n",
        "df2 = pd.DataFrame([[1, 5], [1, 6]], columns=['A', 'C'])\n",
        "df2\n",
        "\n",
        "# Uncomment and run after running previous lines\n",
        "df.merge(df2, how='left', on='A')  # merges on columns A\n",
        "\n",
        "# Uncomment and run after running previous lines\n",
        "# df2.drop_duplicates(subset=['A'], inplace=True)\n",
        "\n",
        "# Uncomment and run after running previous lines\n",
        "# df.merge(df2, how='left', on='A')"
      ],
      "execution_count": 37,
      "outputs": [
        {
          "output_type": "execute_result",
          "data": {
            "text/html": [
              "<div>\n",
              "<style scoped>\n",
              "    .dataframe tbody tr th:only-of-type {\n",
              "        vertical-align: middle;\n",
              "    }\n",
              "\n",
              "    .dataframe tbody tr th {\n",
              "        vertical-align: top;\n",
              "    }\n",
              "\n",
              "    .dataframe thead th {\n",
              "        text-align: right;\n",
              "    }\n",
              "</style>\n",
              "<table border=\"1\" class=\"dataframe\">\n",
              "  <thead>\n",
              "    <tr style=\"text-align: right;\">\n",
              "      <th></th>\n",
              "      <th>A</th>\n",
              "      <th>B</th>\n",
              "      <th>C</th>\n",
              "    </tr>\n",
              "  </thead>\n",
              "  <tbody>\n",
              "    <tr>\n",
              "      <th>0</th>\n",
              "      <td>1</td>\n",
              "      <td>3</td>\n",
              "      <td>5.0</td>\n",
              "    </tr>\n",
              "    <tr>\n",
              "      <th>1</th>\n",
              "      <td>1</td>\n",
              "      <td>3</td>\n",
              "      <td>6.0</td>\n",
              "    </tr>\n",
              "    <tr>\n",
              "      <th>2</th>\n",
              "      <td>2</td>\n",
              "      <td>4</td>\n",
              "      <td>NaN</td>\n",
              "    </tr>\n",
              "  </tbody>\n",
              "</table>\n",
              "</div>"
            ],
            "text/plain": [
              "   A  B    C\n",
              "0  1  3  5.0\n",
              "1  1  3  6.0\n",
              "2  2  4  NaN"
            ]
          },
          "metadata": {
            "tags": []
          },
          "execution_count": 37
        }
      ]
    },
    {
      "cell_type": "code",
      "metadata": {
        "id": "hqI3Y51Avu0-"
      },
      "source": [
        "# Example 1\n",
        "# Merging Dataframes by columns using join\n",
        "# Create the first dataframe\n",
        "df = pd.DataFrame([[1, 3], [2, 4]], columns=['A', 'B'])\n",
        "df\n",
        "\n",
        "# Uncomment and run after running previous lines\n",
        "# Create the second dataframe\n",
        "df2 = pd.DataFrame([[1, 5], [1, 6]], columns=['A', 'C'])\n",
        "df2\n",
        "\n",
        "# Uncomment and run after running previous lines\n",
        "df.merge(df2, how='left', on='A')  # merges on columns A\n",
        "\n",
        "# Uncomment and run after running previous lines\n",
        "df2.drop_duplicates(subset=['A'], inplace=True)\n",
        "\n",
        "# Uncomment and run after running previous lines\n",
        "# df.merge(df2, how='left', on='A')"
      ],
      "execution_count": 39,
      "outputs": []
    },
    {
      "cell_type": "code",
      "metadata": {
        "colab": {
          "base_uri": "https://localhost:8080/",
          "height": 111
        },
        "id": "RbdMVcX6v1j9",
        "outputId": "a484d4d8-d4f3-40fd-ee46-6115e95497cd"
      },
      "source": [
        "# Example 1\n",
        "# Merging Dataframes by columns using join\n",
        "# Create the first dataframe\n",
        "df = pd.DataFrame([[1, 3], [2, 4]], columns=['A', 'B'])\n",
        "df\n",
        "\n",
        "# Uncomment and run after running previous lines\n",
        "# Create the second dataframe\n",
        "df2 = pd.DataFrame([[1, 5], [1, 6]], columns=['A', 'C'])\n",
        "df2\n",
        "\n",
        "# Uncomment and run after running previous lines\n",
        "df.merge(df2, how='left', on='A')  # merges on columns A\n",
        "\n",
        "# Uncomment and run after running previous lines\n",
        "df2.drop_duplicates(subset=['A'], inplace=True)\n",
        "\n",
        "# Uncomment and run after running previous lines\n",
        "df.merge(df2, how='left', on='A')"
      ],
      "execution_count": 40,
      "outputs": [
        {
          "output_type": "execute_result",
          "data": {
            "text/html": [
              "<div>\n",
              "<style scoped>\n",
              "    .dataframe tbody tr th:only-of-type {\n",
              "        vertical-align: middle;\n",
              "    }\n",
              "\n",
              "    .dataframe tbody tr th {\n",
              "        vertical-align: top;\n",
              "    }\n",
              "\n",
              "    .dataframe thead th {\n",
              "        text-align: right;\n",
              "    }\n",
              "</style>\n",
              "<table border=\"1\" class=\"dataframe\">\n",
              "  <thead>\n",
              "    <tr style=\"text-align: right;\">\n",
              "      <th></th>\n",
              "      <th>A</th>\n",
              "      <th>B</th>\n",
              "      <th>C</th>\n",
              "    </tr>\n",
              "  </thead>\n",
              "  <tbody>\n",
              "    <tr>\n",
              "      <th>0</th>\n",
              "      <td>1</td>\n",
              "      <td>3</td>\n",
              "      <td>5.0</td>\n",
              "    </tr>\n",
              "    <tr>\n",
              "      <th>1</th>\n",
              "      <td>2</td>\n",
              "      <td>4</td>\n",
              "      <td>NaN</td>\n",
              "    </tr>\n",
              "  </tbody>\n",
              "</table>\n",
              "</div>"
            ],
            "text/plain": [
              "   A  B    C\n",
              "0  1  3  5.0\n",
              "1  2  4  NaN"
            ]
          },
          "metadata": {
            "tags": []
          },
          "execution_count": 40
        }
      ]
    },
    {
      "cell_type": "code",
      "metadata": {
        "id": "t7nm8_etwGtF",
        "colab": {
          "base_uri": "https://localhost:8080/",
          "height": 111
        },
        "outputId": "a42332e5-8e03-4c2e-bce8-6619037a1e69"
      },
      "source": [
        "# Example 2\n",
        "# Merging Dataframes by columns on index\n",
        "# \n",
        "df = pd.DataFrame([[1, 3], [2, 4]], columns=['A', 'B'])\n",
        "df\n",
        "\n",
        "# Uncomment and run after running previous lines\n",
        "# df2 = pd.DataFrame([[1, 5], [1, 6]], columns=['A', 'D'])\n",
        "# df2\n",
        "\n",
        "# Uncomment and run after running previous lines\n",
        "# pd.concat([df, df2], axis=1)"
      ],
      "execution_count": 41,
      "outputs": [
        {
          "output_type": "execute_result",
          "data": {
            "text/html": [
              "<div>\n",
              "<style scoped>\n",
              "    .dataframe tbody tr th:only-of-type {\n",
              "        vertical-align: middle;\n",
              "    }\n",
              "\n",
              "    .dataframe tbody tr th {\n",
              "        vertical-align: top;\n",
              "    }\n",
              "\n",
              "    .dataframe thead th {\n",
              "        text-align: right;\n",
              "    }\n",
              "</style>\n",
              "<table border=\"1\" class=\"dataframe\">\n",
              "  <thead>\n",
              "    <tr style=\"text-align: right;\">\n",
              "      <th></th>\n",
              "      <th>A</th>\n",
              "      <th>B</th>\n",
              "    </tr>\n",
              "  </thead>\n",
              "  <tbody>\n",
              "    <tr>\n",
              "      <th>0</th>\n",
              "      <td>1</td>\n",
              "      <td>3</td>\n",
              "    </tr>\n",
              "    <tr>\n",
              "      <th>1</th>\n",
              "      <td>2</td>\n",
              "      <td>4</td>\n",
              "    </tr>\n",
              "  </tbody>\n",
              "</table>\n",
              "</div>"
            ],
            "text/plain": [
              "   A  B\n",
              "0  1  3\n",
              "1  2  4"
            ]
          },
          "metadata": {
            "tags": []
          },
          "execution_count": 41
        }
      ]
    },
    {
      "cell_type": "code",
      "metadata": {
        "colab": {
          "base_uri": "https://localhost:8080/",
          "height": 111
        },
        "id": "jJTw6ocyv71l",
        "outputId": "4fe096db-e750-4c0c-df11-c1f8a138865f"
      },
      "source": [
        "# Example 2\n",
        "# Merging Dataframes by columns on index\n",
        "# \n",
        "df = pd.DataFrame([[1, 3], [2, 4]], columns=['A', 'B'])\n",
        "df\n",
        "\n",
        "# Uncomment and run after running previous lines\n",
        "df2 = pd.DataFrame([[1, 5], [1, 6]], columns=['A', 'D'])\n",
        "df2\n",
        "\n",
        "# Uncomment and run after running previous lines\n",
        "# pd.concat([df, df2], axis=1)"
      ],
      "execution_count": 42,
      "outputs": [
        {
          "output_type": "execute_result",
          "data": {
            "text/html": [
              "<div>\n",
              "<style scoped>\n",
              "    .dataframe tbody tr th:only-of-type {\n",
              "        vertical-align: middle;\n",
              "    }\n",
              "\n",
              "    .dataframe tbody tr th {\n",
              "        vertical-align: top;\n",
              "    }\n",
              "\n",
              "    .dataframe thead th {\n",
              "        text-align: right;\n",
              "    }\n",
              "</style>\n",
              "<table border=\"1\" class=\"dataframe\">\n",
              "  <thead>\n",
              "    <tr style=\"text-align: right;\">\n",
              "      <th></th>\n",
              "      <th>A</th>\n",
              "      <th>D</th>\n",
              "    </tr>\n",
              "  </thead>\n",
              "  <tbody>\n",
              "    <tr>\n",
              "      <th>0</th>\n",
              "      <td>1</td>\n",
              "      <td>5</td>\n",
              "    </tr>\n",
              "    <tr>\n",
              "      <th>1</th>\n",
              "      <td>1</td>\n",
              "      <td>6</td>\n",
              "    </tr>\n",
              "  </tbody>\n",
              "</table>\n",
              "</div>"
            ],
            "text/plain": [
              "   A  D\n",
              "0  1  5\n",
              "1  1  6"
            ]
          },
          "metadata": {
            "tags": []
          },
          "execution_count": 42
        }
      ]
    },
    {
      "cell_type": "code",
      "metadata": {
        "colab": {
          "base_uri": "https://localhost:8080/",
          "height": 111
        },
        "id": "bvoJwV57v-Iy",
        "outputId": "b8658e43-109f-424e-fa3b-1259edb681d0"
      },
      "source": [
        "# Example 2\n",
        "# Merging Dataframes by columns on index\n",
        "# \n",
        "df = pd.DataFrame([[1, 3], [2, 4]], columns=['A', 'B'])\n",
        "df\n",
        "\n",
        "# Uncomment and run after running previous lines\n",
        "df2 = pd.DataFrame([[1, 5], [1, 6]], columns=['A', 'D'])\n",
        "df2\n",
        "\n",
        "# Uncomment and run after running previous lines\n",
        "pd.concat([df, df2], axis=1)"
      ],
      "execution_count": 43,
      "outputs": [
        {
          "output_type": "execute_result",
          "data": {
            "text/html": [
              "<div>\n",
              "<style scoped>\n",
              "    .dataframe tbody tr th:only-of-type {\n",
              "        vertical-align: middle;\n",
              "    }\n",
              "\n",
              "    .dataframe tbody tr th {\n",
              "        vertical-align: top;\n",
              "    }\n",
              "\n",
              "    .dataframe thead th {\n",
              "        text-align: right;\n",
              "    }\n",
              "</style>\n",
              "<table border=\"1\" class=\"dataframe\">\n",
              "  <thead>\n",
              "    <tr style=\"text-align: right;\">\n",
              "      <th></th>\n",
              "      <th>A</th>\n",
              "      <th>B</th>\n",
              "      <th>A</th>\n",
              "      <th>D</th>\n",
              "    </tr>\n",
              "  </thead>\n",
              "  <tbody>\n",
              "    <tr>\n",
              "      <th>0</th>\n",
              "      <td>1</td>\n",
              "      <td>3</td>\n",
              "      <td>1</td>\n",
              "      <td>5</td>\n",
              "    </tr>\n",
              "    <tr>\n",
              "      <th>1</th>\n",
              "      <td>2</td>\n",
              "      <td>4</td>\n",
              "      <td>1</td>\n",
              "      <td>6</td>\n",
              "    </tr>\n",
              "  </tbody>\n",
              "</table>\n",
              "</div>"
            ],
            "text/plain": [
              "   A  B  A  D\n",
              "0  1  3  1  5\n",
              "1  2  4  1  6"
            ]
          },
          "metadata": {
            "tags": []
          },
          "execution_count": 43
        }
      ]
    },
    {
      "cell_type": "code",
      "metadata": {
        "id": "LyyI-VpiwGps",
        "colab": {
          "base_uri": "https://localhost:8080/"
        },
        "outputId": "34850065-38b1-47c1-d599-2f539887e5ae"
      },
      "source": [
        "# Example 3\n",
        "# Merging Dataframes and splitting again \n",
        "# \n",
        "ts1 = [1,2,3,4]\n",
        "ts2 = [6,7,8,9]\n",
        "d = {'col_1': ts1, 'col_2': ts2}\n",
        "d\n",
        "\n",
        "# Uncomment and run after running previous lines\n",
        "# df_1 = pd.DataFrame(data=d)\n",
        "# df_1\n",
        "\n",
        "# Uncomment and run after running previous lines\n",
        "# df_2 = pd.DataFrame(np.random.randn(3, 2), columns=['col_1', 'col_2'])\n",
        "# df_2\n",
        "\n",
        "# Uncomment and run after running previous lines\n",
        "# df_all = pd.concat((df_1, df_2), axis=0, ignore_index=True)\n",
        "# df_all\n",
        "\n",
        "# Uncomment and run after running previous lines\n",
        "# print(df_1.shape)\n",
        "# print(df_2.shape)\n",
        "# print(df_all.shape)\n",
        "\n",
        "# Uncomment and run after running previous lines\n",
        "# print(df_1.shape)\n",
        "# print(df_2.shape)\n",
        "# print(df_all.shape)\n",
        "\n",
        "# Uncomment and run after running previous lines\n",
        "# print(df_train.shape)\n",
        "# print(df_test.shape)\n",
        "# print(df_all.shape)"
      ],
      "execution_count": 47,
      "outputs": [
        {
          "output_type": "execute_result",
          "data": {
            "text/plain": [
              "{'col_1': [1, 2, 3, 4], 'col_2': [6, 7, 8, 9]}"
            ]
          },
          "metadata": {
            "tags": []
          },
          "execution_count": 47
        }
      ]
    },
    {
      "cell_type": "code",
      "metadata": {
        "colab": {
          "base_uri": "https://localhost:8080/",
          "height": 173
        },
        "id": "hctmLdgVwU9s",
        "outputId": "4f10127a-861b-4d8d-bb26-3b2f7ded817c"
      },
      "source": [
        "# Example 3\n",
        "# Merging Dataframes and splitting again \n",
        "# \n",
        "ts1 = [1,2,3,4]\n",
        "ts2 = [6,7,8,9]\n",
        "d = {'col_1': ts1, 'col_2': ts2}\n",
        "d\n",
        "\n",
        "# Uncomment and run after running previous lines\n",
        "df_1 = pd.DataFrame(data=d)\n",
        "df_1\n",
        "\n",
        "# Uncomment and run after running previous lines\n",
        "# df_2 = pd.DataFrame(np.random.randn(3, 2), columns=['col_1', 'col_2'])\n",
        "# df_2\n",
        "\n",
        "# Uncomment and run after running previous lines\n",
        "# df_all = pd.concat((df_1, df_2), axis=0, ignore_index=True)\n",
        "# df_all\n",
        "\n",
        "# Uncomment and run after running previous lines\n",
        "# print(df_1.shape)\n",
        "# print(df_2.shape)\n",
        "# print(df_all.shape)\n",
        "\n",
        "# Uncomment and run after running previous lines\n",
        "# print(df_1.shape)\n",
        "# print(df_2.shape)\n",
        "# print(df_all.shape)\n",
        "\n",
        "# Uncomment and run after running previous lines\n",
        "# print(df_train.shape)\n",
        "# print(df_test.shape)\n",
        "# print(df_all.shape)"
      ],
      "execution_count": 48,
      "outputs": [
        {
          "output_type": "execute_result",
          "data": {
            "text/html": [
              "<div>\n",
              "<style scoped>\n",
              "    .dataframe tbody tr th:only-of-type {\n",
              "        vertical-align: middle;\n",
              "    }\n",
              "\n",
              "    .dataframe tbody tr th {\n",
              "        vertical-align: top;\n",
              "    }\n",
              "\n",
              "    .dataframe thead th {\n",
              "        text-align: right;\n",
              "    }\n",
              "</style>\n",
              "<table border=\"1\" class=\"dataframe\">\n",
              "  <thead>\n",
              "    <tr style=\"text-align: right;\">\n",
              "      <th></th>\n",
              "      <th>col_1</th>\n",
              "      <th>col_2</th>\n",
              "    </tr>\n",
              "  </thead>\n",
              "  <tbody>\n",
              "    <tr>\n",
              "      <th>0</th>\n",
              "      <td>1</td>\n",
              "      <td>6</td>\n",
              "    </tr>\n",
              "    <tr>\n",
              "      <th>1</th>\n",
              "      <td>2</td>\n",
              "      <td>7</td>\n",
              "    </tr>\n",
              "    <tr>\n",
              "      <th>2</th>\n",
              "      <td>3</td>\n",
              "      <td>8</td>\n",
              "    </tr>\n",
              "    <tr>\n",
              "      <th>3</th>\n",
              "      <td>4</td>\n",
              "      <td>9</td>\n",
              "    </tr>\n",
              "  </tbody>\n",
              "</table>\n",
              "</div>"
            ],
            "text/plain": [
              "   col_1  col_2\n",
              "0      1      6\n",
              "1      2      7\n",
              "2      3      8\n",
              "3      4      9"
            ]
          },
          "metadata": {
            "tags": []
          },
          "execution_count": 48
        }
      ]
    },
    {
      "cell_type": "code",
      "metadata": {
        "colab": {
          "base_uri": "https://localhost:8080/",
          "height": 142
        },
        "id": "GF2FeB-OwXnY",
        "outputId": "e91213c8-5b0f-4de3-ff90-be585ae1a601"
      },
      "source": [
        "# Example 3\n",
        "# Merging Dataframes and splitting again \n",
        "# \n",
        "ts1 = [1,2,3,4]\n",
        "ts2 = [6,7,8,9]\n",
        "d = {'col_1': ts1, 'col_2': ts2}\n",
        "d\n",
        "\n",
        "# Uncomment and run after running previous lines\n",
        "df_1 = pd.DataFrame(data=d)\n",
        "df_1\n",
        "\n",
        "# Uncomment and run after running previous lines\n",
        "df_2 = pd.DataFrame(np.random.randn(3, 2), columns=['col_1', 'col_2'])\n",
        "df_2\n",
        "\n",
        "# Uncomment and run after running previous lines\n",
        "# df_all = pd.concat((df_1, df_2), axis=0, ignore_index=True)\n",
        "# df_all\n",
        "\n",
        "# Uncomment and run after running previous lines\n",
        "# print(df_1.shape)\n",
        "# print(df_2.shape)\n",
        "# print(df_all.shape)\n",
        "\n",
        "# Uncomment and run after running previous lines\n",
        "# print(df_1.shape)\n",
        "# print(df_2.shape)\n",
        "# print(df_all.shape)\n",
        "\n",
        "# Uncomment and run after running previous lines\n",
        "# print(df_train.shape)\n",
        "# print(df_test.shape)\n",
        "# print(df_all.shape)"
      ],
      "execution_count": 49,
      "outputs": [
        {
          "output_type": "execute_result",
          "data": {
            "text/html": [
              "<div>\n",
              "<style scoped>\n",
              "    .dataframe tbody tr th:only-of-type {\n",
              "        vertical-align: middle;\n",
              "    }\n",
              "\n",
              "    .dataframe tbody tr th {\n",
              "        vertical-align: top;\n",
              "    }\n",
              "\n",
              "    .dataframe thead th {\n",
              "        text-align: right;\n",
              "    }\n",
              "</style>\n",
              "<table border=\"1\" class=\"dataframe\">\n",
              "  <thead>\n",
              "    <tr style=\"text-align: right;\">\n",
              "      <th></th>\n",
              "      <th>col_1</th>\n",
              "      <th>col_2</th>\n",
              "    </tr>\n",
              "  </thead>\n",
              "  <tbody>\n",
              "    <tr>\n",
              "      <th>0</th>\n",
              "      <td>1.555364</td>\n",
              "      <td>0.836375</td>\n",
              "    </tr>\n",
              "    <tr>\n",
              "      <th>1</th>\n",
              "      <td>0.392657</td>\n",
              "      <td>-1.210474</td>\n",
              "    </tr>\n",
              "    <tr>\n",
              "      <th>2</th>\n",
              "      <td>-0.041537</td>\n",
              "      <td>-0.022249</td>\n",
              "    </tr>\n",
              "  </tbody>\n",
              "</table>\n",
              "</div>"
            ],
            "text/plain": [
              "      col_1     col_2\n",
              "0  1.555364  0.836375\n",
              "1  0.392657 -1.210474\n",
              "2 -0.041537 -0.022249"
            ]
          },
          "metadata": {
            "tags": []
          },
          "execution_count": 49
        }
      ]
    },
    {
      "cell_type": "code",
      "metadata": {
        "colab": {
          "base_uri": "https://localhost:8080/",
          "height": 266
        },
        "id": "t4rfw_Qcwbf8",
        "outputId": "0b3d1c58-7f72-466a-e7b8-38d1a1ac1a66"
      },
      "source": [
        "# Example 3\n",
        "# Merging Dataframes and splitting again \n",
        "# \n",
        "ts1 = [1,2,3,4]\n",
        "ts2 = [6,7,8,9]\n",
        "d = {'col_1': ts1, 'col_2': ts2}\n",
        "d\n",
        "\n",
        "# Uncomment and run after running previous lines\n",
        "df_1 = pd.DataFrame(data=d)\n",
        "df_1\n",
        "\n",
        "# Uncomment and run after running previous lines\n",
        "df_2 = pd.DataFrame(np.random.randn(3, 2), columns=['col_1', 'col_2'])\n",
        "df_2\n",
        "\n",
        "# Uncomment and run after running previous lines\n",
        "df_all = pd.concat((df_1, df_2), axis=0, ignore_index=True)\n",
        "df_all\n",
        "\n",
        "# Uncomment and run after running previous lines\n",
        "# print(df_1.shape)\n",
        "# print(df_2.shape)\n",
        "# print(df_all.shape)\n",
        "\n",
        "# Uncomment and run after running previous lines\n",
        "# print(df_1.shape)\n",
        "# print(df_2.shape)\n",
        "# print(df_all.shape)\n",
        "\n",
        "# Uncomment and run after running previous lines\n",
        "# print(df_train.shape)\n",
        "# print(df_test.shape)\n",
        "# print(df_all.shape)"
      ],
      "execution_count": 50,
      "outputs": [
        {
          "output_type": "execute_result",
          "data": {
            "text/html": [
              "<div>\n",
              "<style scoped>\n",
              "    .dataframe tbody tr th:only-of-type {\n",
              "        vertical-align: middle;\n",
              "    }\n",
              "\n",
              "    .dataframe tbody tr th {\n",
              "        vertical-align: top;\n",
              "    }\n",
              "\n",
              "    .dataframe thead th {\n",
              "        text-align: right;\n",
              "    }\n",
              "</style>\n",
              "<table border=\"1\" class=\"dataframe\">\n",
              "  <thead>\n",
              "    <tr style=\"text-align: right;\">\n",
              "      <th></th>\n",
              "      <th>col_1</th>\n",
              "      <th>col_2</th>\n",
              "    </tr>\n",
              "  </thead>\n",
              "  <tbody>\n",
              "    <tr>\n",
              "      <th>0</th>\n",
              "      <td>1.000000</td>\n",
              "      <td>6.000000</td>\n",
              "    </tr>\n",
              "    <tr>\n",
              "      <th>1</th>\n",
              "      <td>2.000000</td>\n",
              "      <td>7.000000</td>\n",
              "    </tr>\n",
              "    <tr>\n",
              "      <th>2</th>\n",
              "      <td>3.000000</td>\n",
              "      <td>8.000000</td>\n",
              "    </tr>\n",
              "    <tr>\n",
              "      <th>3</th>\n",
              "      <td>4.000000</td>\n",
              "      <td>9.000000</td>\n",
              "    </tr>\n",
              "    <tr>\n",
              "      <th>4</th>\n",
              "      <td>0.263047</td>\n",
              "      <td>0.784711</td>\n",
              "    </tr>\n",
              "    <tr>\n",
              "      <th>5</th>\n",
              "      <td>-1.230220</td>\n",
              "      <td>-0.466197</td>\n",
              "    </tr>\n",
              "    <tr>\n",
              "      <th>6</th>\n",
              "      <td>-0.139024</td>\n",
              "      <td>-1.575259</td>\n",
              "    </tr>\n",
              "  </tbody>\n",
              "</table>\n",
              "</div>"
            ],
            "text/plain": [
              "      col_1     col_2\n",
              "0  1.000000  6.000000\n",
              "1  2.000000  7.000000\n",
              "2  3.000000  8.000000\n",
              "3  4.000000  9.000000\n",
              "4  0.263047  0.784711\n",
              "5 -1.230220 -0.466197\n",
              "6 -0.139024 -1.575259"
            ]
          },
          "metadata": {
            "tags": []
          },
          "execution_count": 50
        }
      ]
    },
    {
      "cell_type": "code",
      "metadata": {
        "colab": {
          "base_uri": "https://localhost:8080/"
        },
        "id": "4eiNcainwmN1",
        "outputId": "a67d7570-af60-4c1b-aab8-8f91739ab733"
      },
      "source": [
        "# Example 3\n",
        "# Merging Dataframes and splitting again \n",
        "# \n",
        "ts1 = [1,2,3,4]\n",
        "ts2 = [6,7,8,9]\n",
        "d = {'col_1': ts1, 'col_2': ts2}\n",
        "d\n",
        "\n",
        "# Uncomment and run after running previous lines\n",
        "df_1 = pd.DataFrame(data=d)\n",
        "df_1\n",
        "\n",
        "# Uncomment and run after running previous lines\n",
        "df_2 = pd.DataFrame(np.random.randn(3, 2), columns=['col_1', 'col_2'])\n",
        "df_2\n",
        "\n",
        "# Uncomment and run after running previous lines\n",
        "df_all = pd.concat((df_1, df_2), axis=0, ignore_index=True)\n",
        "df_all\n",
        "\n",
        "# Uncomment and run after running previous lines\n",
        "print(df_1.shape)\n",
        "print(df_2.shape)\n",
        "print(df_all.shape)\n",
        "\n",
        "# Uncomment and run after running previous lines\n",
        "# print(df_1.shape)\n",
        "# print(df_2.shape)\n",
        "# print(df_all.shape)\n",
        "\n",
        "# Uncomment and run after running previous lines\n",
        "# print(df_train.shape)\n",
        "# print(df_test.shape)\n",
        "# print(df_all.shape)"
      ],
      "execution_count": 51,
      "outputs": [
        {
          "output_type": "stream",
          "text": [
            "(4, 2)\n",
            "(3, 2)\n",
            "(7, 2)\n"
          ],
          "name": "stdout"
        }
      ]
    },
    {
      "cell_type": "code",
      "metadata": {
        "colab": {
          "base_uri": "https://localhost:8080/"
        },
        "id": "6ZnnXDmFwsp7",
        "outputId": "bd6921e6-6645-42b9-dee0-71f220f99ebc"
      },
      "source": [
        "# Example 3\n",
        "# Merging Dataframes and splitting again \n",
        "# \n",
        "ts1 = [1,2,3,4]\n",
        "ts2 = [6,7,8,9]\n",
        "d = {'col_1': ts1, 'col_2': ts2}\n",
        "d\n",
        "\n",
        "# Uncomment and run after running previous lines\n",
        "df_1 = pd.DataFrame(data=d)\n",
        "df_1\n",
        "\n",
        "# Uncomment and run after running previous lines\n",
        "df_2 = pd.DataFrame(np.random.randn(3, 2), columns=['col_1', 'col_2'])\n",
        "df_2\n",
        "\n",
        "# Uncomment and run after running previous lines\n",
        "df_all = pd.concat((df_1, df_2), axis=0, ignore_index=True)\n",
        "df_all\n",
        "\n",
        "# Uncomment and run after running previous lines\n",
        "print(df_1.shape)\n",
        "print(df_2.shape)\n",
        "print(df_all.shape)\n",
        "\n",
        "# Uncomment and run after running previous lines\n",
        "print(df_1.shape)\n",
        "print(df_2.shape)\n",
        "print(df_all.shape)\n",
        "\n",
        "# Uncomment and run after running previous lines\n",
        "# print(df_train.shape)\n",
        "# print(df_test.shape)\n",
        "# print(df_all.shape)"
      ],
      "execution_count": 52,
      "outputs": [
        {
          "output_type": "stream",
          "text": [
            "(4, 2)\n",
            "(3, 2)\n",
            "(7, 2)\n",
            "(4, 2)\n",
            "(3, 2)\n",
            "(7, 2)\n"
          ],
          "name": "stdout"
        }
      ]
    },
    {
      "cell_type": "code",
      "metadata": {
        "colab": {
          "base_uri": "https://localhost:8080/",
          "height": 334
        },
        "id": "Os0TpHMJw4UV",
        "outputId": "7d1e3157-89fc-4982-b764-4157fe8e0e78"
      },
      "source": [
        "# Example 3\n",
        "# Merging Dataframes and splitting again \n",
        "# \n",
        "ts1 = [1,2,3,4]\n",
        "ts2 = [6,7,8,9]\n",
        "d = {'col_1': ts1, 'col_2': ts2}\n",
        "d\n",
        "\n",
        "# Uncomment and run after running previous lines\n",
        "df_1 = pd.DataFrame(data=d)\n",
        "df_1\n",
        "\n",
        "# Uncomment and run after running previous lines\n",
        "df_2 = pd.DataFrame(np.random.randn(3, 2), columns=['col_1', 'col_2'])\n",
        "df_2\n",
        "\n",
        "# Uncomment and run after running previous lines\n",
        "df_all = pd.concat((df_1, df_2), axis=0, ignore_index=True)\n",
        "df_all\n",
        "\n",
        "# Uncomment and run after running previous lines\n",
        "print(df_1.shape)\n",
        "print(df_2.shape)\n",
        "print(df_all.shape)\n",
        "\n",
        "# Uncomment and run after running previous lines\n",
        "print(df_1.shape)\n",
        "print(df_2.shape)\n",
        "print(df_all.shape)\n",
        "\n",
        "# Uncomment and run after running previous lines [Error: name 'df_train' and 'df_test' not defined]\n",
        "print(df_train.shape)\n",
        "print(df_test.shape)\n",
        "print(df_all.shape)\n",
        "# Error: name 'df_train' and 'df_test' not defined"
      ],
      "execution_count": 55,
      "outputs": [
        {
          "output_type": "stream",
          "text": [
            "(4, 2)\n",
            "(3, 2)\n",
            "(7, 2)\n",
            "(4, 2)\n",
            "(3, 2)\n",
            "(7, 2)\n"
          ],
          "name": "stdout"
        },
        {
          "output_type": "error",
          "ename": "NameError",
          "evalue": "ignored",
          "traceback": [
            "\u001b[0;31m---------------------------------------------------------------------------\u001b[0m",
            "\u001b[0;31mNameError\u001b[0m                                 Traceback (most recent call last)",
            "\u001b[0;32m<ipython-input-55-3bfeeb74f9ee>\u001b[0m in \u001b[0;36m<module>\u001b[0;34m()\u001b[0m\n\u001b[1;32m     30\u001b[0m \u001b[0;34m\u001b[0m\u001b[0m\n\u001b[1;32m     31\u001b[0m \u001b[0;31m# Uncomment and run after running previous lines [Error: name 'df_train' and 'df_test' not defined]\u001b[0m\u001b[0;34m\u001b[0m\u001b[0;34m\u001b[0m\u001b[0;34m\u001b[0m\u001b[0m\n\u001b[0;32m---> 32\u001b[0;31m \u001b[0mprint\u001b[0m\u001b[0;34m(\u001b[0m\u001b[0mdf_train\u001b[0m\u001b[0;34m.\u001b[0m\u001b[0mshape\u001b[0m\u001b[0;34m)\u001b[0m\u001b[0;34m\u001b[0m\u001b[0;34m\u001b[0m\u001b[0m\n\u001b[0m\u001b[1;32m     33\u001b[0m \u001b[0mprint\u001b[0m\u001b[0;34m(\u001b[0m\u001b[0mdf_test\u001b[0m\u001b[0;34m.\u001b[0m\u001b[0mshape\u001b[0m\u001b[0;34m)\u001b[0m\u001b[0;34m\u001b[0m\u001b[0;34m\u001b[0m\u001b[0m\n\u001b[1;32m     34\u001b[0m \u001b[0mprint\u001b[0m\u001b[0;34m(\u001b[0m\u001b[0mdf_all\u001b[0m\u001b[0;34m.\u001b[0m\u001b[0mshape\u001b[0m\u001b[0;34m)\u001b[0m\u001b[0;34m\u001b[0m\u001b[0;34m\u001b[0m\u001b[0m\n",
            "\u001b[0;31mNameError\u001b[0m: name 'df_train' is not defined"
          ]
        }
      ]
    },
    {
      "cell_type": "code",
      "metadata": {
        "id": "p66l2GrFwGFi",
        "colab": {
          "base_uri": "https://localhost:8080/",
          "height": 359
        },
        "outputId": "5472d425-ab7b-4d50-caf4-2b81529283e5"
      },
      "source": [
        "# Example 4\n",
        "# Grouping by a Dataframe and iterating over grouped series\n",
        "# \n",
        "classes = [\"class 1\"] * 5 + [\"class 2\"] * 5\n",
        "sub_class = ['c1','c2','c2','c1','c3'] + ['c1','c2','c3','c2','c3']\n",
        "vals = [1,3,5,1,3] + [2,6,7,5,2]\n",
        "p_df = pd.DataFrame({\"class\": classes, \"sub_class\": sub_class, \"vals\": vals})\n",
        "p_df\n",
        "\n",
        "# Uncomment and run after running previous lines\n",
        "# grouped = p_df.groupby(['class', 'sub_class'])['vals'].median()\n",
        "# grouped\n",
        "\n",
        "# Uncomment and run after running previous lines\n",
        "# for index_val, value in grouped.iteritems():\n",
        "#     class_name, sub_class_name = index_val\n",
        "#     print(class_name, \":\", sub_class_name, \":\", value)"
      ],
      "execution_count": 44,
      "outputs": [
        {
          "output_type": "execute_result",
          "data": {
            "text/html": [
              "<div>\n",
              "<style scoped>\n",
              "    .dataframe tbody tr th:only-of-type {\n",
              "        vertical-align: middle;\n",
              "    }\n",
              "\n",
              "    .dataframe tbody tr th {\n",
              "        vertical-align: top;\n",
              "    }\n",
              "\n",
              "    .dataframe thead th {\n",
              "        text-align: right;\n",
              "    }\n",
              "</style>\n",
              "<table border=\"1\" class=\"dataframe\">\n",
              "  <thead>\n",
              "    <tr style=\"text-align: right;\">\n",
              "      <th></th>\n",
              "      <th>class</th>\n",
              "      <th>sub_class</th>\n",
              "      <th>vals</th>\n",
              "    </tr>\n",
              "  </thead>\n",
              "  <tbody>\n",
              "    <tr>\n",
              "      <th>0</th>\n",
              "      <td>class 1</td>\n",
              "      <td>c1</td>\n",
              "      <td>1</td>\n",
              "    </tr>\n",
              "    <tr>\n",
              "      <th>1</th>\n",
              "      <td>class 1</td>\n",
              "      <td>c2</td>\n",
              "      <td>3</td>\n",
              "    </tr>\n",
              "    <tr>\n",
              "      <th>2</th>\n",
              "      <td>class 1</td>\n",
              "      <td>c2</td>\n",
              "      <td>5</td>\n",
              "    </tr>\n",
              "    <tr>\n",
              "      <th>3</th>\n",
              "      <td>class 1</td>\n",
              "      <td>c1</td>\n",
              "      <td>1</td>\n",
              "    </tr>\n",
              "    <tr>\n",
              "      <th>4</th>\n",
              "      <td>class 1</td>\n",
              "      <td>c3</td>\n",
              "      <td>3</td>\n",
              "    </tr>\n",
              "    <tr>\n",
              "      <th>5</th>\n",
              "      <td>class 2</td>\n",
              "      <td>c1</td>\n",
              "      <td>2</td>\n",
              "    </tr>\n",
              "    <tr>\n",
              "      <th>6</th>\n",
              "      <td>class 2</td>\n",
              "      <td>c2</td>\n",
              "      <td>6</td>\n",
              "    </tr>\n",
              "    <tr>\n",
              "      <th>7</th>\n",
              "      <td>class 2</td>\n",
              "      <td>c3</td>\n",
              "      <td>7</td>\n",
              "    </tr>\n",
              "    <tr>\n",
              "      <th>8</th>\n",
              "      <td>class 2</td>\n",
              "      <td>c2</td>\n",
              "      <td>5</td>\n",
              "    </tr>\n",
              "    <tr>\n",
              "      <th>9</th>\n",
              "      <td>class 2</td>\n",
              "      <td>c3</td>\n",
              "      <td>2</td>\n",
              "    </tr>\n",
              "  </tbody>\n",
              "</table>\n",
              "</div>"
            ],
            "text/plain": [
              "     class sub_class  vals\n",
              "0  class 1        c1     1\n",
              "1  class 1        c2     3\n",
              "2  class 1        c2     5\n",
              "3  class 1        c1     1\n",
              "4  class 1        c3     3\n",
              "5  class 2        c1     2\n",
              "6  class 2        c2     6\n",
              "7  class 2        c3     7\n",
              "8  class 2        c2     5\n",
              "9  class 2        c3     2"
            ]
          },
          "metadata": {
            "tags": []
          },
          "execution_count": 44
        }
      ]
    },
    {
      "cell_type": "code",
      "metadata": {
        "colab": {
          "base_uri": "https://localhost:8080/"
        },
        "id": "qK0bkeYrwE5V",
        "outputId": "3a8895da-51c8-4a2b-f0e3-324a3b6065c9"
      },
      "source": [
        "# Example 4\n",
        "# Grouping by a Dataframe and iterating over grouped series\n",
        "# \n",
        "classes = [\"class 1\"] * 5 + [\"class 2\"] * 5\n",
        "sub_class = ['c1','c2','c2','c1','c3'] + ['c1','c2','c3','c2','c3']\n",
        "vals = [1,3,5,1,3] + [2,6,7,5,2]\n",
        "p_df = pd.DataFrame({\"class\": classes, \"sub_class\": sub_class, \"vals\": vals})\n",
        "p_df\n",
        "\n",
        "# Uncomment and run after running previous lines\n",
        "grouped = p_df.groupby(['class', 'sub_class'])['vals'].median()\n",
        "grouped\n",
        "\n",
        "# Uncomment and run after running previous lines\n",
        "# for index_val, value in grouped.iteritems():\n",
        "#     class_name, sub_class_name = index_val\n",
        "#     print(class_name, \":\", sub_class_name, \":\", value)"
      ],
      "execution_count": 45,
      "outputs": [
        {
          "output_type": "execute_result",
          "data": {
            "text/plain": [
              "class    sub_class\n",
              "class 1  c1           1.0\n",
              "         c2           4.0\n",
              "         c3           3.0\n",
              "class 2  c1           2.0\n",
              "         c2           5.5\n",
              "         c3           4.5\n",
              "Name: vals, dtype: float64"
            ]
          },
          "metadata": {
            "tags": []
          },
          "execution_count": 45
        }
      ]
    },
    {
      "cell_type": "code",
      "metadata": {
        "colab": {
          "base_uri": "https://localhost:8080/"
        },
        "id": "FevtPfk7wHyw",
        "outputId": "4f493e26-37c1-4fe2-d9c3-1fefbb2fe98c"
      },
      "source": [
        "# Example 4\n",
        "# Grouping by a Dataframe and iterating over grouped series\n",
        "# \n",
        "classes = [\"class 1\"] * 5 + [\"class 2\"] * 5\n",
        "sub_class = ['c1','c2','c2','c1','c3'] + ['c1','c2','c3','c2','c3']\n",
        "vals = [1,3,5,1,3] + [2,6,7,5,2]\n",
        "p_df = pd.DataFrame({\"class\": classes, \"sub_class\": sub_class, \"vals\": vals})\n",
        "p_df\n",
        "\n",
        "# Uncomment and run after running previous lines\n",
        "grouped = p_df.groupby(['class', 'sub_class'])['vals'].median()\n",
        "grouped\n",
        "\n",
        "# Uncomment and run after running previous lines\n",
        "for index_val, value in grouped.iteritems():\n",
        "    class_name, sub_class_name = index_val\n",
        "    print(class_name, \":\", sub_class_name, \":\", value)"
      ],
      "execution_count": 46,
      "outputs": [
        {
          "output_type": "stream",
          "text": [
            "class 1 : c1 : 1.0\n",
            "class 1 : c2 : 4.0\n",
            "class 1 : c3 : 3.0\n",
            "class 2 : c1 : 2.0\n",
            "class 2 : c2 : 5.5\n",
            "class 2 : c3 : 4.5\n"
          ],
          "name": "stdout"
        }
      ]
    },
    {
      "cell_type": "markdown",
      "metadata": {
        "id": "B6WJ99XswWfn"
      },
      "source": [
        "### <font color=\"green\">1.3 Challenges</font>"
      ]
    },
    {
      "cell_type": "code",
      "metadata": {
        "id": "HVLYNjFNwY39"
      },
      "source": [
        "# Challenge 1\n",
        "# Create the Dataframes from the given Dictionaries below and then merge them \n",
        "#\n",
        "dt1 = {\n",
        "        'subject_id': ['1', '2', '3', '4', '5'],\n",
        "        'first_name': ['Fridah', 'Kwasi', 'Victor', 'Alice', 'Audrey'], \n",
        "        'last_name': ['Njeri', 'Adi Dako', 'Oliech', 'Tergat', 'Cheng']}\n",
        "\n",
        "dt2 = {\n",
        "        'subject_id': ['4', '5', '6', '7', '8'],\n",
        "        'first_name': ['Michael', 'Judy', 'Lenny', 'Mohammed', 'Betty'], \n",
        "        'last_name': ['Macharia', 'Waithera', 'Baraza', 'Ali', 'Kyalo']}\n",
        "\n",
        "OUR CODE GOES HERE"
      ],
      "execution_count": null,
      "outputs": []
    },
    {
      "cell_type": "code",
      "metadata": {
        "id": "g4l9Z5MWwYo6"
      },
      "source": [
        "# Challenge 2\n",
        "# Using dt1 and dt2 dictionaries from Challenge 1, create another Dataframe from\n",
        "# the dt3 Dictionary below. Then merge all of them along the subject_id value\n",
        "# i.e. Columns from left; subject_id, first_name, last_name, test_id\n",
        "dt3 = {\n",
        "        'subject_id': ['1', '2', '3', '4', '5', '7', '8', '9', '10', '11'],\n",
        "        'test_id': [51, 15, 15, 61, 16, 14, 15, 1, 61, 16]}\n",
        "\n",
        "OUR CODE GOES HERE"
      ],
      "execution_count": null,
      "outputs": []
    },
    {
      "cell_type": "code",
      "metadata": {
        "id": "C9Xay1HLwYes"
      },
      "source": [
        "# Challenge 3\n",
        "# Create dataframes using dt1 and dt2 from Challenge 1 then merge based on indexes\n",
        "# \n",
        "OUR CODE GOES HERE"
      ],
      "execution_count": null,
      "outputs": []
    },
    {
      "cell_type": "code",
      "metadata": {
        "id": "a9mm47zkwYUY"
      },
      "source": [
        "# Challenge 4\n",
        "# Create a dataframe from the following url (http://bit.ly/MDSTelecomData), then \n",
        "# and determine the sum of the durations per month of calls, sms and data entries.\n",
        "# Hint: Use groupby i.e. month, duration\n",
        "#\n",
        "OUR CODE GOES HERE"
      ],
      "execution_count": null,
      "outputs": []
    },
    {
      "cell_type": "markdown",
      "metadata": {
        "id": "6rPtQTpLv-lG"
      },
      "source": [
        "## 1.4 Converting Columns"
      ]
    },
    {
      "cell_type": "code",
      "metadata": {
        "id": "sSTboonmwHpS",
        "colab": {
          "base_uri": "https://localhost:8080/",
          "height": 173
        },
        "outputId": "6bb3f698-c043-489f-c36f-b979408f26ea"
      },
      "source": [
        "# Example 1\n",
        "# \n",
        "# Converting categorical columns to integer columns using label encoding method\n",
        "# so as to prepare to use categorical data in analysis. \n",
        "# For this example, we'll use a new Python library called sklearn(sci-kit learn). Sklearn is machine learning library for python that is used in data mining and data anlysis. \n",
        "# As we progress in our data science journey we'll learn more about it's capabilities. You will use this throughout module 1 and 2 of core as well, and in many future projects.\n",
        "# From this library we are importing a method called LabelEncoder that will help us in converting categorical data into integers\n",
        "from sklearn.preprocessing import LabelEncoder\n",
        "label_encoder = LabelEncoder()\n",
        "\n",
        "# Scenario 1\n",
        "df = pd.DataFrame({'col_1': [1, 0, 1, 2], \n",
        "                   'col_2': [1.2, 3.1, 4.4, 5.5], \n",
        "                   'col_3': [1, 2, 3, 4], \n",
        "                   'col_4': ['a', 'b', 'c', 'd']})\n",
        "df\n",
        "# Some of the models that you will learn about in the future only deal with numbers, particularly integers\n",
        "# First, we will convert col_4 to be in integer column, and the value within it to be integers as well.\n",
        "# df.info()\n",
        "\n",
        "# This will study the column, figure out the unique categories, and assign an integer value to each starting from 0\n",
        "# This is internal to the label_encoder, it doesn't change the dataframe yet\n",
        "# label_encoder.fit(df['col_4'])\n",
        "\n",
        "# View the labels in the column\n",
        "# list(label_encoder.classes_)\n",
        "\n",
        "# This is how you transform the categories into intergers\n",
        "# df['col_4'] = label_encoder.transform(df['col_4'])\n",
        "\n",
        "# df\n",
        "# df.info()\n",
        "\n",
        "# Uncomment after running previous lines\n",
        "# Slightly different scenario: repeated categories : ['a', 'b', 'b', 'a']. In this scenario, we will have duplicates in our categories\n",
        "# df2 = pd.DataFrame({'col_1': [1, 0, 1, 2], \n",
        "#                    'col_2': [1.2, 3.1, 4.4, 5.5], \n",
        "#                    'col_3': [1, 2, 3, 4], \n",
        "#                    'col_4': ['a', 'b', 'b', 'a']})\n",
        "# df2\n",
        "\n",
        "# # Fitting the label encoder method in the column\n",
        "# label_encoder.fit(df2['col_4'])\n",
        "\n",
        "# # Converting the categories into integers\n",
        "# df2['col_4'] = label_encoder.transform(df2['col_4'])\n",
        "# # view the dataframe with the converted column\n",
        "# df2\n",
        "# df2.info()"
      ],
      "execution_count": 56,
      "outputs": [
        {
          "output_type": "execute_result",
          "data": {
            "text/html": [
              "<div>\n",
              "<style scoped>\n",
              "    .dataframe tbody tr th:only-of-type {\n",
              "        vertical-align: middle;\n",
              "    }\n",
              "\n",
              "    .dataframe tbody tr th {\n",
              "        vertical-align: top;\n",
              "    }\n",
              "\n",
              "    .dataframe thead th {\n",
              "        text-align: right;\n",
              "    }\n",
              "</style>\n",
              "<table border=\"1\" class=\"dataframe\">\n",
              "  <thead>\n",
              "    <tr style=\"text-align: right;\">\n",
              "      <th></th>\n",
              "      <th>col_1</th>\n",
              "      <th>col_2</th>\n",
              "      <th>col_3</th>\n",
              "      <th>col_4</th>\n",
              "    </tr>\n",
              "  </thead>\n",
              "  <tbody>\n",
              "    <tr>\n",
              "      <th>0</th>\n",
              "      <td>1</td>\n",
              "      <td>1.2</td>\n",
              "      <td>1</td>\n",
              "      <td>a</td>\n",
              "    </tr>\n",
              "    <tr>\n",
              "      <th>1</th>\n",
              "      <td>0</td>\n",
              "      <td>3.1</td>\n",
              "      <td>2</td>\n",
              "      <td>b</td>\n",
              "    </tr>\n",
              "    <tr>\n",
              "      <th>2</th>\n",
              "      <td>1</td>\n",
              "      <td>4.4</td>\n",
              "      <td>3</td>\n",
              "      <td>c</td>\n",
              "    </tr>\n",
              "    <tr>\n",
              "      <th>3</th>\n",
              "      <td>2</td>\n",
              "      <td>5.5</td>\n",
              "      <td>4</td>\n",
              "      <td>d</td>\n",
              "    </tr>\n",
              "  </tbody>\n",
              "</table>\n",
              "</div>"
            ],
            "text/plain": [
              "   col_1  col_2  col_3 col_4\n",
              "0      1    1.2      1     a\n",
              "1      0    3.1      2     b\n",
              "2      1    4.4      3     c\n",
              "3      2    5.5      4     d"
            ]
          },
          "metadata": {
            "tags": []
          },
          "execution_count": 56
        }
      ]
    },
    {
      "cell_type": "code",
      "metadata": {
        "colab": {
          "base_uri": "https://localhost:8080/"
        },
        "id": "-3knXutixhUx",
        "outputId": "47739a64-ef4e-400c-bbf3-8f13658104de"
      },
      "source": [
        "# Example 1\n",
        "# \n",
        "# Converting categorical columns to integer columns using label encoding method\n",
        "# so as to prepare to use categorical data in analysis. \n",
        "# For this example, we'll use a new Python library called sklearn(sci-kit learn). Sklearn is machine learning library for python that is used in data mining and data anlysis. \n",
        "# As we progress in our data science journey we'll learn more about it's capabilities. You will use this throughout module 1 and 2 of core as well, and in many future projects.\n",
        "# From this library we are importing a method called LabelEncoder that will help us in converting categorical data into integers\n",
        "from sklearn.preprocessing import LabelEncoder\n",
        "label_encoder = LabelEncoder()\n",
        "\n",
        "# Scenario 1\n",
        "df = pd.DataFrame({'col_1': [1, 0, 1, 2], \n",
        "                   'col_2': [1.2, 3.1, 4.4, 5.5], \n",
        "                   'col_3': [1, 2, 3, 4], \n",
        "                   'col_4': ['a', 'b', 'c', 'd']})\n",
        "df\n",
        "# Some of the models that you will learn about in the future only deal with numbers, particularly integers\n",
        "# First, we will convert col_4 to be in integer column, and the value within it to be integers as well.\n",
        "df.info()\n",
        "\n",
        "# This will study the column, figure out the unique categories, and assign an integer value to each starting from 0\n",
        "# This is internal to the label_encoder, it doesn't change the dataframe yet\n",
        "# label_encoder.fit(df['col_4'])\n",
        "\n",
        "# View the labels in the column\n",
        "# list(label_encoder.classes_)\n",
        "\n",
        "# This is how you transform the categories into intergers\n",
        "# df['col_4'] = label_encoder.transform(df['col_4'])\n",
        "\n",
        "# df\n",
        "# df.info()\n",
        "\n",
        "# Uncomment after running previous lines\n",
        "# Slightly different scenario: repeated categories : ['a', 'b', 'b', 'a']. In this scenario, we will have duplicates in our categories\n",
        "# df2 = pd.DataFrame({'col_1': [1, 0, 1, 2], \n",
        "#                    'col_2': [1.2, 3.1, 4.4, 5.5], \n",
        "#                    'col_3': [1, 2, 3, 4], \n",
        "#                    'col_4': ['a', 'b', 'b', 'a']})\n",
        "# df2\n",
        "\n",
        "# # Fitting the label encoder method in the column\n",
        "# label_encoder.fit(df2['col_4'])\n",
        "\n",
        "# # Converting the categories into integers\n",
        "# df2['col_4'] = label_encoder.transform(df2['col_4'])\n",
        "# # view the dataframe with the converted column\n",
        "# df2\n",
        "# df2.info()"
      ],
      "execution_count": 82,
      "outputs": [
        {
          "output_type": "stream",
          "text": [
            "<class 'pandas.core.frame.DataFrame'>\n",
            "RangeIndex: 4 entries, 0 to 3\n",
            "Data columns (total 4 columns):\n",
            " #   Column  Non-Null Count  Dtype  \n",
            "---  ------  --------------  -----  \n",
            " 0   col_1   4 non-null      int64  \n",
            " 1   col_2   4 non-null      float64\n",
            " 2   col_3   4 non-null      int64  \n",
            " 3   col_4   4 non-null      object \n",
            "dtypes: float64(1), int64(2), object(1)\n",
            "memory usage: 256.0+ bytes\n"
          ],
          "name": "stdout"
        }
      ]
    },
    {
      "cell_type": "code",
      "metadata": {
        "colab": {
          "base_uri": "https://localhost:8080/"
        },
        "id": "20eMoadY0r0A",
        "outputId": "87f38cea-d103-4467-915e-b06489f51780"
      },
      "source": [
        "# Example 1\n",
        "# \n",
        "# Converting categorical columns to integer columns using label encoding method\n",
        "# so as to prepare to use categorical data in analysis. \n",
        "# For this example, we'll use a new Python library called sklearn(sci-kit learn). Sklearn is machine learning library for python that is used in data mining and data anlysis. \n",
        "# As we progress in our data science journey we'll learn more about it's capabilities. You will use this throughout module 1 and 2 of core as well, and in many future projects.\n",
        "# From this library we are importing a method called LabelEncoder that will help us in converting categorical data into integers\n",
        "from sklearn.preprocessing import LabelEncoder\n",
        "label_encoder = LabelEncoder()\n",
        "\n",
        "# Scenario 1\n",
        "df = pd.DataFrame({'col_1': [1, 0, 1, 2], \n",
        "                   'col_2': [1.2, 3.1, 4.4, 5.5], \n",
        "                   'col_3': [1, 2, 3, 4], \n",
        "                   'col_4': ['a', 'b', 'c', 'd']})\n",
        "df\n",
        "# Some of the models that you will learn about in the future only deal with numbers, particularly integers\n",
        "# First, we will convert col_4 to be in integer column, and the value within it to be integers as well.\n",
        "df.info()\n",
        "\n",
        "# This will study the column, figure out the unique categories, and assign an integer value to each starting from 0\n",
        "# This is internal to the label_encoder, it doesn't change the dataframe yet\n",
        "label_encoder.fit(df['col_4'])\n",
        "\n",
        "# View the labels in the column\n",
        "# list(label_encoder.classes_)\n",
        "\n",
        "# This is how you transform the categories into intergers\n",
        "# df['col_4'] = label_encoder.transform(df['col_4'])\n",
        "\n",
        "# df\n",
        "# df.info()\n",
        "\n",
        "# Uncomment after running previous lines\n",
        "# Slightly different scenario: repeated categories : ['a', 'b', 'b', 'a']. In this scenario, we will have duplicates in our categories\n",
        "# df2 = pd.DataFrame({'col_1': [1, 0, 1, 2], \n",
        "#                    'col_2': [1.2, 3.1, 4.4, 5.5], \n",
        "#                    'col_3': [1, 2, 3, 4], \n",
        "#                    'col_4': ['a', 'b', 'b', 'a']})\n",
        "# df2\n",
        "\n",
        "# # Fitting the label encoder method in the column\n",
        "# label_encoder.fit(df2['col_4'])\n",
        "\n",
        "# # Converting the categories into integers\n",
        "# df2['col_4'] = label_encoder.transform(df2['col_4'])\n",
        "# # view the dataframe with the converted column\n",
        "# df2\n",
        "# df2.info()"
      ],
      "execution_count": 83,
      "outputs": [
        {
          "output_type": "stream",
          "text": [
            "<class 'pandas.core.frame.DataFrame'>\n",
            "RangeIndex: 4 entries, 0 to 3\n",
            "Data columns (total 4 columns):\n",
            " #   Column  Non-Null Count  Dtype  \n",
            "---  ------  --------------  -----  \n",
            " 0   col_1   4 non-null      int64  \n",
            " 1   col_2   4 non-null      float64\n",
            " 2   col_3   4 non-null      int64  \n",
            " 3   col_4   4 non-null      object \n",
            "dtypes: float64(1), int64(2), object(1)\n",
            "memory usage: 256.0+ bytes\n"
          ],
          "name": "stdout"
        },
        {
          "output_type": "execute_result",
          "data": {
            "text/plain": [
              "LabelEncoder()"
            ]
          },
          "metadata": {
            "tags": []
          },
          "execution_count": 83
        }
      ]
    },
    {
      "cell_type": "code",
      "metadata": {
        "colab": {
          "base_uri": "https://localhost:8080/"
        },
        "id": "A0BnTFmT00eb",
        "outputId": "ce1a50dc-3bbb-42bd-fcfa-9e4bdb9d982d"
      },
      "source": [
        "# Example 1\n",
        "# \n",
        "# Converting categorical columns to integer columns using label encoding method\n",
        "# so as to prepare to use categorical data in analysis. \n",
        "# For this example, we'll use a new Python library called sklearn(sci-kit learn). Sklearn is machine learning library for python that is used in data mining and data anlysis. \n",
        "# As we progress in our data science journey we'll learn more about it's capabilities. You will use this throughout module 1 and 2 of core as well, and in many future projects.\n",
        "# From this library we are importing a method called LabelEncoder that will help us in converting categorical data into integers\n",
        "from sklearn.preprocessing import LabelEncoder\n",
        "label_encoder = LabelEncoder()\n",
        "\n",
        "# Scenario 1\n",
        "df = pd.DataFrame({'col_1': [1, 0, 1, 2], \n",
        "                   'col_2': [1.2, 3.1, 4.4, 5.5], \n",
        "                   'col_3': [1, 2, 3, 4], \n",
        "                   'col_4': ['a', 'b', 'c', 'd']})\n",
        "df\n",
        "# Some of the models that you will learn about in the future only deal with numbers, particularly integers\n",
        "# First, we will convert col_4 to be in integer column, and the value within it to be integers as well.\n",
        "df.info()\n",
        "\n",
        "# This will study the column, figure out the unique categories, and assign an integer value to each starting from 0\n",
        "# This is internal to the label_encoder, it doesn't change the dataframe yet\n",
        "label_encoder.fit(df['col_4'])\n",
        "\n",
        "# View the labels in the column\n",
        "list(label_encoder.classes_)\n",
        "\n",
        "# This is how you transform the categories into intergers\n",
        "# df['col_4'] = label_encoder.transform(df['col_4'])\n",
        "\n",
        "# df\n",
        "# df.info()\n",
        "\n",
        "# Uncomment after running previous lines\n",
        "# Slightly different scenario: repeated categories : ['a', 'b', 'b', 'a']. In this scenario, we will have duplicates in our categories\n",
        "# df2 = pd.DataFrame({'col_1': [1, 0, 1, 2], \n",
        "#                    'col_2': [1.2, 3.1, 4.4, 5.5], \n",
        "#                    'col_3': [1, 2, 3, 4], \n",
        "#                    'col_4': ['a', 'b', 'b', 'a']})\n",
        "# df2\n",
        "\n",
        "# # Fitting the label encoder method in the column\n",
        "# label_encoder.fit(df2['col_4'])\n",
        "\n",
        "# # Converting the categories into integers\n",
        "# df2['col_4'] = label_encoder.transform(df2['col_4'])\n",
        "# # view the dataframe with the converted column\n",
        "# df2\n",
        "# df2.info()"
      ],
      "execution_count": 84,
      "outputs": [
        {
          "output_type": "stream",
          "text": [
            "<class 'pandas.core.frame.DataFrame'>\n",
            "RangeIndex: 4 entries, 0 to 3\n",
            "Data columns (total 4 columns):\n",
            " #   Column  Non-Null Count  Dtype  \n",
            "---  ------  --------------  -----  \n",
            " 0   col_1   4 non-null      int64  \n",
            " 1   col_2   4 non-null      float64\n",
            " 2   col_3   4 non-null      int64  \n",
            " 3   col_4   4 non-null      object \n",
            "dtypes: float64(1), int64(2), object(1)\n",
            "memory usage: 256.0+ bytes\n"
          ],
          "name": "stdout"
        },
        {
          "output_type": "execute_result",
          "data": {
            "text/plain": [
              "['a', 'b', 'c', 'd']"
            ]
          },
          "metadata": {
            "tags": []
          },
          "execution_count": 84
        }
      ]
    },
    {
      "cell_type": "code",
      "metadata": {
        "colab": {
          "base_uri": "https://localhost:8080/"
        },
        "id": "hnEAwQeV05vk",
        "outputId": "d0cc43c7-e1e4-4e89-e3a8-7cd408531391"
      },
      "source": [
        "# Example 1\n",
        "# \n",
        "# Converting categorical columns to integer columns using label encoding method\n",
        "# so as to prepare to use categorical data in analysis. \n",
        "# For this example, we'll use a new Python library called sklearn(sci-kit learn). Sklearn is machine learning library for python that is used in data mining and data anlysis. \n",
        "# As we progress in our data science journey we'll learn more about it's capabilities. You will use this throughout module 1 and 2 of core as well, and in many future projects.\n",
        "# From this library we are importing a method called LabelEncoder that will help us in converting categorical data into integers\n",
        "from sklearn.preprocessing import LabelEncoder\n",
        "label_encoder = LabelEncoder()\n",
        "\n",
        "# Scenario 1\n",
        "df = pd.DataFrame({'col_1': [1, 0, 1, 2], \n",
        "                   'col_2': [1.2, 3.1, 4.4, 5.5], \n",
        "                   'col_3': [1, 2, 3, 4], \n",
        "                   'col_4': ['a', 'b', 'c', 'd']})\n",
        "df\n",
        "# Some of the models that you will learn about in the future only deal with numbers, particularly integers\n",
        "# First, we will convert col_4 to be in integer column, and the value within it to be integers as well.\n",
        "df.info()\n",
        "\n",
        "# This will study the column, figure out the unique categories, and assign an integer value to each starting from 0\n",
        "# This is internal to the label_encoder, it doesn't change the dataframe yet\n",
        "label_encoder.fit(df['col_4'])\n",
        "\n",
        "# View the labels in the column\n",
        "list(label_encoder.classes_)\n",
        "\n",
        "# This is how you transform the categories into intergers\n",
        "df['col_4'] = label_encoder.transform(df['col_4'])\n",
        "\n",
        "df\n",
        "df.info()\n",
        "\n",
        "# Uncomment after running previous lines\n",
        "# Slightly different scenario: repeated categories : ['a', 'b', 'b', 'a']. In this scenario, we will have duplicates in our categories\n",
        "# df2 = pd.DataFrame({'col_1': [1, 0, 1, 2], \n",
        "#                    'col_2': [1.2, 3.1, 4.4, 5.5], \n",
        "#                    'col_3': [1, 2, 3, 4], \n",
        "#                    'col_4': ['a', 'b', 'b', 'a']})\n",
        "# df2\n",
        "\n",
        "# # Fitting the label encoder method in the column\n",
        "# label_encoder.fit(df2['col_4'])\n",
        "\n",
        "# # Converting the categories into integers\n",
        "# df2['col_4'] = label_encoder.transform(df2['col_4'])\n",
        "# # view the dataframe with the converted column\n",
        "# df2\n",
        "# df2.info()"
      ],
      "execution_count": 86,
      "outputs": [
        {
          "output_type": "stream",
          "text": [
            "<class 'pandas.core.frame.DataFrame'>\n",
            "RangeIndex: 4 entries, 0 to 3\n",
            "Data columns (total 4 columns):\n",
            " #   Column  Non-Null Count  Dtype  \n",
            "---  ------  --------------  -----  \n",
            " 0   col_1   4 non-null      int64  \n",
            " 1   col_2   4 non-null      float64\n",
            " 2   col_3   4 non-null      int64  \n",
            " 3   col_4   4 non-null      object \n",
            "dtypes: float64(1), int64(2), object(1)\n",
            "memory usage: 256.0+ bytes\n",
            "<class 'pandas.core.frame.DataFrame'>\n",
            "RangeIndex: 4 entries, 0 to 3\n",
            "Data columns (total 4 columns):\n",
            " #   Column  Non-Null Count  Dtype  \n",
            "---  ------  --------------  -----  \n",
            " 0   col_1   4 non-null      int64  \n",
            " 1   col_2   4 non-null      float64\n",
            " 2   col_3   4 non-null      int64  \n",
            " 3   col_4   4 non-null      int64  \n",
            "dtypes: float64(1), int64(3)\n",
            "memory usage: 256.0 bytes\n"
          ],
          "name": "stdout"
        }
      ]
    },
    {
      "cell_type": "code",
      "metadata": {
        "colab": {
          "base_uri": "https://localhost:8080/",
          "height": 547
        },
        "id": "h4etoVVD1AVF",
        "outputId": "16ae5b50-e394-4a3e-e6a8-f92839cf2f2f"
      },
      "source": [
        "# Example 1\n",
        "# \n",
        "# Converting categorical columns to integer columns using label encoding method\n",
        "# so as to prepare to use categorical data in analysis. \n",
        "# For this example, we'll use a new Python library called sklearn(sci-kit learn). Sklearn is machine learning library for python that is used in data mining and data anlysis. \n",
        "# As we progress in our data science journey we'll learn more about it's capabilities. You will use this throughout module 1 and 2 of core as well, and in many future projects.\n",
        "# From this library we are importing a method called LabelEncoder that will help us in converting categorical data into integers\n",
        "from sklearn.preprocessing import LabelEncoder\n",
        "label_encoder = LabelEncoder()\n",
        "\n",
        "# Scenario 1\n",
        "df = pd.DataFrame({'col_1': [1, 0, 1, 2], \n",
        "                   'col_2': [1.2, 3.1, 4.4, 5.5], \n",
        "                   'col_3': [1, 2, 3, 4], \n",
        "                   'col_4': ['a', 'b', 'c', 'd']})\n",
        "df\n",
        "# Some of the models that you will learn about in the future only deal with numbers, particularly integers\n",
        "# First, we will convert col_4 to be in integer column, and the value within it to be integers as well.\n",
        "df.info()\n",
        "\n",
        "# This will study the column, figure out the unique categories, and assign an integer value to each starting from 0\n",
        "# This is internal to the label_encoder, it doesn't change the dataframe yet\n",
        "label_encoder.fit(df['col_4'])\n",
        "\n",
        "# View the labels in the column\n",
        "list(label_encoder.classes_)\n",
        "\n",
        "# This is how you transform the categories into intergers\n",
        "df['col_4'] = label_encoder.transform(df['col_4'])\n",
        "\n",
        "df\n",
        "df.info()\n",
        "\n",
        "# Uncomment after running previous lines\n",
        "# Slightly different scenario: repeated categories : ['a', 'b', 'b', 'a']. In this scenario, we will have duplicates in our categories\n",
        "df2 = pd.DataFrame({'col_1': [1, 0, 1, 2], \n",
        "                   'col_2': [1.2, 3.1, 4.4, 5.5], \n",
        "                   'col_3': [1, 2, 3, 4], \n",
        "                   'col_4': ['a', 'b', 'b', 'a']})\n",
        "df2\n",
        "\n",
        "# # Fitting the label encoder method in the column\n",
        "# label_encoder.fit(df2['col_4'])\n",
        "\n",
        "# # Converting the categories into integers\n",
        "# df2['col_4'] = label_encoder.transform(df2['col_4'])\n",
        "# # view the dataframe with the converted column\n",
        "# df2\n",
        "# df2.info()"
      ],
      "execution_count": 87,
      "outputs": [
        {
          "output_type": "stream",
          "text": [
            "<class 'pandas.core.frame.DataFrame'>\n",
            "RangeIndex: 4 entries, 0 to 3\n",
            "Data columns (total 4 columns):\n",
            " #   Column  Non-Null Count  Dtype  \n",
            "---  ------  --------------  -----  \n",
            " 0   col_1   4 non-null      int64  \n",
            " 1   col_2   4 non-null      float64\n",
            " 2   col_3   4 non-null      int64  \n",
            " 3   col_4   4 non-null      object \n",
            "dtypes: float64(1), int64(2), object(1)\n",
            "memory usage: 256.0+ bytes\n",
            "<class 'pandas.core.frame.DataFrame'>\n",
            "RangeIndex: 4 entries, 0 to 3\n",
            "Data columns (total 4 columns):\n",
            " #   Column  Non-Null Count  Dtype  \n",
            "---  ------  --------------  -----  \n",
            " 0   col_1   4 non-null      int64  \n",
            " 1   col_2   4 non-null      float64\n",
            " 2   col_3   4 non-null      int64  \n",
            " 3   col_4   4 non-null      int64  \n",
            "dtypes: float64(1), int64(3)\n",
            "memory usage: 256.0 bytes\n"
          ],
          "name": "stdout"
        },
        {
          "output_type": "execute_result",
          "data": {
            "text/html": [
              "<div>\n",
              "<style scoped>\n",
              "    .dataframe tbody tr th:only-of-type {\n",
              "        vertical-align: middle;\n",
              "    }\n",
              "\n",
              "    .dataframe tbody tr th {\n",
              "        vertical-align: top;\n",
              "    }\n",
              "\n",
              "    .dataframe thead th {\n",
              "        text-align: right;\n",
              "    }\n",
              "</style>\n",
              "<table border=\"1\" class=\"dataframe\">\n",
              "  <thead>\n",
              "    <tr style=\"text-align: right;\">\n",
              "      <th></th>\n",
              "      <th>col_1</th>\n",
              "      <th>col_2</th>\n",
              "      <th>col_3</th>\n",
              "      <th>col_4</th>\n",
              "    </tr>\n",
              "  </thead>\n",
              "  <tbody>\n",
              "    <tr>\n",
              "      <th>0</th>\n",
              "      <td>1</td>\n",
              "      <td>1.2</td>\n",
              "      <td>1</td>\n",
              "      <td>a</td>\n",
              "    </tr>\n",
              "    <tr>\n",
              "      <th>1</th>\n",
              "      <td>0</td>\n",
              "      <td>3.1</td>\n",
              "      <td>2</td>\n",
              "      <td>b</td>\n",
              "    </tr>\n",
              "    <tr>\n",
              "      <th>2</th>\n",
              "      <td>1</td>\n",
              "      <td>4.4</td>\n",
              "      <td>3</td>\n",
              "      <td>b</td>\n",
              "    </tr>\n",
              "    <tr>\n",
              "      <th>3</th>\n",
              "      <td>2</td>\n",
              "      <td>5.5</td>\n",
              "      <td>4</td>\n",
              "      <td>a</td>\n",
              "    </tr>\n",
              "  </tbody>\n",
              "</table>\n",
              "</div>"
            ],
            "text/plain": [
              "   col_1  col_2  col_3 col_4\n",
              "0      1    1.2      1     a\n",
              "1      0    3.1      2     b\n",
              "2      1    4.4      3     b\n",
              "3      2    5.5      4     a"
            ]
          },
          "metadata": {
            "tags": []
          },
          "execution_count": 87
        }
      ]
    },
    {
      "cell_type": "code",
      "metadata": {
        "colab": {
          "base_uri": "https://localhost:8080/"
        },
        "id": "vFBQAI3K1NdK",
        "outputId": "9e26b066-e8bb-4a61-bf47-fbc5e78407e6"
      },
      "source": [
        "# Example 1\n",
        "# \n",
        "# Converting categorical columns to integer columns using label encoding method\n",
        "# so as to prepare to use categorical data in analysis. \n",
        "# For this example, we'll use a new Python library called sklearn(sci-kit learn). Sklearn is machine learning library for python that is used in data mining and data anlysis. \n",
        "# As we progress in our data science journey we'll learn more about it's capabilities. You will use this throughout module 1 and 2 of core as well, and in many future projects.\n",
        "# From this library we are importing a method called LabelEncoder that will help us in converting categorical data into integers\n",
        "from sklearn.preprocessing import LabelEncoder\n",
        "label_encoder = LabelEncoder()\n",
        "\n",
        "# Scenario 1\n",
        "df = pd.DataFrame({'col_1': [1, 0, 1, 2], \n",
        "                   'col_2': [1.2, 3.1, 4.4, 5.5], \n",
        "                   'col_3': [1, 2, 3, 4], \n",
        "                   'col_4': ['a', 'b', 'c', 'd']})\n",
        "df\n",
        "# Some of the models that you will learn about in the future only deal with numbers, particularly integers\n",
        "# First, we will convert col_4 to be in integer column, and the value within it to be integers as well.\n",
        "df.info()\n",
        "\n",
        "# This will study the column, figure out the unique categories, and assign an integer value to each starting from 0\n",
        "# This is internal to the label_encoder, it doesn't change the dataframe yet\n",
        "label_encoder.fit(df['col_4'])\n",
        "\n",
        "# View the labels in the column\n",
        "list(label_encoder.classes_)\n",
        "\n",
        "# This is how you transform the categories into intergers\n",
        "df['col_4'] = label_encoder.transform(df['col_4'])\n",
        "\n",
        "df\n",
        "df.info()\n",
        "\n",
        "# Uncomment after running previous lines\n",
        "# Slightly different scenario: repeated categories : ['a', 'b', 'b', 'a']. In this scenario, we will have duplicates in our categories\n",
        "df2 = pd.DataFrame({'col_1': [1, 0, 1, 2], \n",
        "                   'col_2': [1.2, 3.1, 4.4, 5.5], \n",
        "                   'col_3': [1, 2, 3, 4], \n",
        "                   'col_4': ['a', 'b', 'b', 'a']})\n",
        "df2\n",
        "\n",
        "# Fitting the label encoder method in the column\n",
        "label_encoder.fit(df2['col_4'])\n",
        "\n",
        "# # Converting the categories into integers\n",
        "# df2['col_4'] = label_encoder.transform(df2['col_4'])\n",
        "# # view the dataframe with the converted column\n",
        "# df2\n",
        "# df2.info()"
      ],
      "execution_count": 88,
      "outputs": [
        {
          "output_type": "stream",
          "text": [
            "<class 'pandas.core.frame.DataFrame'>\n",
            "RangeIndex: 4 entries, 0 to 3\n",
            "Data columns (total 4 columns):\n",
            " #   Column  Non-Null Count  Dtype  \n",
            "---  ------  --------------  -----  \n",
            " 0   col_1   4 non-null      int64  \n",
            " 1   col_2   4 non-null      float64\n",
            " 2   col_3   4 non-null      int64  \n",
            " 3   col_4   4 non-null      object \n",
            "dtypes: float64(1), int64(2), object(1)\n",
            "memory usage: 256.0+ bytes\n",
            "<class 'pandas.core.frame.DataFrame'>\n",
            "RangeIndex: 4 entries, 0 to 3\n",
            "Data columns (total 4 columns):\n",
            " #   Column  Non-Null Count  Dtype  \n",
            "---  ------  --------------  -----  \n",
            " 0   col_1   4 non-null      int64  \n",
            " 1   col_2   4 non-null      float64\n",
            " 2   col_3   4 non-null      int64  \n",
            " 3   col_4   4 non-null      int64  \n",
            "dtypes: float64(1), int64(3)\n",
            "memory usage: 256.0 bytes\n"
          ],
          "name": "stdout"
        },
        {
          "output_type": "execute_result",
          "data": {
            "text/plain": [
              "LabelEncoder()"
            ]
          },
          "metadata": {
            "tags": []
          },
          "execution_count": 88
        }
      ]
    },
    {
      "cell_type": "code",
      "metadata": {
        "colab": {
          "base_uri": "https://localhost:8080/"
        },
        "id": "VxsXlgVC1bZy",
        "outputId": "ced363ae-4bad-4c23-e2e8-a6c640329709"
      },
      "source": [
        "# Example 1\n",
        "# \n",
        "# Converting categorical columns to integer columns using label encoding method\n",
        "# so as to prepare to use categorical data in analysis. \n",
        "# For this example, we'll use a new Python library called sklearn(sci-kit learn). Sklearn is machine learning library for python that is used in data mining and data anlysis. \n",
        "# As we progress in our data science journey we'll learn more about it's capabilities. You will use this throughout module 1 and 2 of core as well, and in many future projects.\n",
        "# From this library we are importing a method called LabelEncoder that will help us in converting categorical data into integers\n",
        "from sklearn.preprocessing import LabelEncoder\n",
        "label_encoder = LabelEncoder()\n",
        "\n",
        "# Scenario 1\n",
        "df = pd.DataFrame({'col_1': [1, 0, 1, 2], \n",
        "                   'col_2': [1.2, 3.1, 4.4, 5.5], \n",
        "                   'col_3': [1, 2, 3, 4], \n",
        "                   'col_4': ['a', 'b', 'c', 'd']})\n",
        "df\n",
        "# Some of the models that you will learn about in the future only deal with numbers, particularly integers\n",
        "# First, we will convert col_4 to be in integer column, and the value within it to be integers as well.\n",
        "df.info()\n",
        "\n",
        "# This will study the column, figure out the unique categories, and assign an integer value to each starting from 0\n",
        "# This is internal to the label_encoder, it doesn't change the dataframe yet\n",
        "label_encoder.fit(df['col_4'])\n",
        "\n",
        "# View the labels in the column\n",
        "list(label_encoder.classes_)\n",
        "\n",
        "# This is how you transform the categories into intergers\n",
        "df['col_4'] = label_encoder.transform(df['col_4'])\n",
        "\n",
        "df\n",
        "df.info()\n",
        "\n",
        "# Uncomment after running previous lines\n",
        "# Slightly different scenario: repeated categories : ['a', 'b', 'b', 'a']. In this scenario, we will have duplicates in our categories\n",
        "df2 = pd.DataFrame({'col_1': [1, 0, 1, 2], \n",
        "                   'col_2': [1.2, 3.1, 4.4, 5.5], \n",
        "                   'col_3': [1, 2, 3, 4], \n",
        "                   'col_4': ['a', 'b', 'b', 'a']})\n",
        "df2\n",
        "\n",
        "# Fitting the label encoder method in the column\n",
        "label_encoder.fit(df2['col_4'])\n",
        "\n",
        "# Converting the categories into integers\n",
        "df2['col_4'] = label_encoder.transform(df2['col_4'])\n",
        "# view the dataframe with the converted column\n",
        "# df2\n",
        "# df2.info()"
      ],
      "execution_count": 89,
      "outputs": [
        {
          "output_type": "stream",
          "text": [
            "<class 'pandas.core.frame.DataFrame'>\n",
            "RangeIndex: 4 entries, 0 to 3\n",
            "Data columns (total 4 columns):\n",
            " #   Column  Non-Null Count  Dtype  \n",
            "---  ------  --------------  -----  \n",
            " 0   col_1   4 non-null      int64  \n",
            " 1   col_2   4 non-null      float64\n",
            " 2   col_3   4 non-null      int64  \n",
            " 3   col_4   4 non-null      object \n",
            "dtypes: float64(1), int64(2), object(1)\n",
            "memory usage: 256.0+ bytes\n",
            "<class 'pandas.core.frame.DataFrame'>\n",
            "RangeIndex: 4 entries, 0 to 3\n",
            "Data columns (total 4 columns):\n",
            " #   Column  Non-Null Count  Dtype  \n",
            "---  ------  --------------  -----  \n",
            " 0   col_1   4 non-null      int64  \n",
            " 1   col_2   4 non-null      float64\n",
            " 2   col_3   4 non-null      int64  \n",
            " 3   col_4   4 non-null      int64  \n",
            "dtypes: float64(1), int64(3)\n",
            "memory usage: 256.0 bytes\n"
          ],
          "name": "stdout"
        }
      ]
    },
    {
      "cell_type": "code",
      "metadata": {
        "colab": {
          "base_uri": "https://localhost:8080/"
        },
        "id": "MfnQSYa-1g8e",
        "outputId": "444aee98-8212-4893-a3d7-0267c3192112"
      },
      "source": [
        "# Example 1\n",
        "# \n",
        "# Converting categorical columns to integer columns using label encoding method\n",
        "# so as to prepare to use categorical data in analysis. \n",
        "# For this example, we'll use a new Python library called sklearn(sci-kit learn). Sklearn is machine learning library for python that is used in data mining and data anlysis. \n",
        "# As we progress in our data science journey we'll learn more about it's capabilities. You will use this throughout module 1 and 2 of core as well, and in many future projects.\n",
        "# From this library we are importing a method called LabelEncoder that will help us in converting categorical data into integers\n",
        "from sklearn.preprocessing import LabelEncoder\n",
        "label_encoder = LabelEncoder()\n",
        "\n",
        "# Scenario 1\n",
        "df = pd.DataFrame({'col_1': [1, 0, 1, 2], \n",
        "                   'col_2': [1.2, 3.1, 4.4, 5.5], \n",
        "                   'col_3': [1, 2, 3, 4], \n",
        "                   'col_4': ['a', 'b', 'c', 'd']})\n",
        "df\n",
        "# Some of the models that you will learn about in the future only deal with numbers, particularly integers\n",
        "# First, we will convert col_4 to be in integer column, and the value within it to be integers as well.\n",
        "df.info()\n",
        "\n",
        "# This will study the column, figure out the unique categories, and assign an integer value to each starting from 0\n",
        "# This is internal to the label_encoder, it doesn't change the dataframe yet\n",
        "label_encoder.fit(df['col_4'])\n",
        "\n",
        "# View the labels in the column\n",
        "list(label_encoder.classes_)\n",
        "\n",
        "# This is how you transform the categories into intergers\n",
        "df['col_4'] = label_encoder.transform(df['col_4'])\n",
        "\n",
        "df\n",
        "df.info()\n",
        "\n",
        "# Uncomment after running previous lines\n",
        "# Slightly different scenario: repeated categories : ['a', 'b', 'b', 'a']. In this scenario, we will have duplicates in our categories\n",
        "df2 = pd.DataFrame({'col_1': [1, 0, 1, 2], \n",
        "                   'col_2': [1.2, 3.1, 4.4, 5.5], \n",
        "                   'col_3': [1, 2, 3, 4], \n",
        "                   'col_4': ['a', 'b', 'b', 'a']})\n",
        "df2\n",
        "\n",
        "# Fitting the label encoder method in the column\n",
        "label_encoder.fit(df2['col_4'])\n",
        "\n",
        "# Converting the categories into integers\n",
        "df2['col_4'] = label_encoder.transform(df2['col_4'])\n",
        "# view the dataframe with the converted column\n",
        "df2\n",
        "df2.info()"
      ],
      "execution_count": 90,
      "outputs": [
        {
          "output_type": "stream",
          "text": [
            "<class 'pandas.core.frame.DataFrame'>\n",
            "RangeIndex: 4 entries, 0 to 3\n",
            "Data columns (total 4 columns):\n",
            " #   Column  Non-Null Count  Dtype  \n",
            "---  ------  --------------  -----  \n",
            " 0   col_1   4 non-null      int64  \n",
            " 1   col_2   4 non-null      float64\n",
            " 2   col_3   4 non-null      int64  \n",
            " 3   col_4   4 non-null      object \n",
            "dtypes: float64(1), int64(2), object(1)\n",
            "memory usage: 256.0+ bytes\n",
            "<class 'pandas.core.frame.DataFrame'>\n",
            "RangeIndex: 4 entries, 0 to 3\n",
            "Data columns (total 4 columns):\n",
            " #   Column  Non-Null Count  Dtype  \n",
            "---  ------  --------------  -----  \n",
            " 0   col_1   4 non-null      int64  \n",
            " 1   col_2   4 non-null      float64\n",
            " 2   col_3   4 non-null      int64  \n",
            " 3   col_4   4 non-null      int64  \n",
            "dtypes: float64(1), int64(3)\n",
            "memory usage: 256.0 bytes\n",
            "<class 'pandas.core.frame.DataFrame'>\n",
            "RangeIndex: 4 entries, 0 to 3\n",
            "Data columns (total 4 columns):\n",
            " #   Column  Non-Null Count  Dtype  \n",
            "---  ------  --------------  -----  \n",
            " 0   col_1   4 non-null      int64  \n",
            " 1   col_2   4 non-null      float64\n",
            " 2   col_3   4 non-null      int64  \n",
            " 3   col_4   4 non-null      int64  \n",
            "dtypes: float64(1), int64(3)\n",
            "memory usage: 256.0 bytes\n"
          ],
          "name": "stdout"
        }
      ]
    },
    {
      "cell_type": "code",
      "metadata": {
        "id": "yXtjTSq4wHkN",
        "colab": {
          "base_uri": "https://localhost:8080/",
          "height": 359
        },
        "outputId": "09ccd6ec-70f4-43f7-bc95-e1e5345a48d5"
      },
      "source": [
        "# Example 2\n",
        "# Reducing high dimensionality from categorical column\n",
        "# We will learn more about the topic of Dimension reduction in Core\n",
        "# More info: \n",
        "# 1) http://bit.ly/DimensionReductionExample\n",
        "# 2) http://bit.ly/DimensionReductionProblem\n",
        "#\n",
        "df = pd.DataFrame({'groups': ['group 1','group 2','group 1','group 2','group 3','group 4','group 5','group 1','group 2','group 5'], \n",
        "                   'vals': [1,2,3,4,5,6,7,8,9,10]})\n",
        "df\n",
        "\n",
        "# Uncomment after running previous lines\n",
        "# df['groups'].value_counts()\n",
        "\n",
        "# Uncomment after running previous lines\n",
        "# high_dim_columns = ['groups']\n",
        "\n",
        "# Uncomment after running previous lines\n",
        "# for column in high_dim_columns:\n",
        "#    a = pd.DataFrame(df[column].value_counts() <= 2)\n",
        "#    unique_values = a.index[a[column]].values\n",
        "#    df.loc[df[column].isin(unique_values), column] = 'other'\n",
        "# df"
      ],
      "execution_count": 78,
      "outputs": [
        {
          "output_type": "execute_result",
          "data": {
            "text/html": [
              "<div>\n",
              "<style scoped>\n",
              "    .dataframe tbody tr th:only-of-type {\n",
              "        vertical-align: middle;\n",
              "    }\n",
              "\n",
              "    .dataframe tbody tr th {\n",
              "        vertical-align: top;\n",
              "    }\n",
              "\n",
              "    .dataframe thead th {\n",
              "        text-align: right;\n",
              "    }\n",
              "</style>\n",
              "<table border=\"1\" class=\"dataframe\">\n",
              "  <thead>\n",
              "    <tr style=\"text-align: right;\">\n",
              "      <th></th>\n",
              "      <th>groups</th>\n",
              "      <th>vals</th>\n",
              "    </tr>\n",
              "  </thead>\n",
              "  <tbody>\n",
              "    <tr>\n",
              "      <th>0</th>\n",
              "      <td>group 1</td>\n",
              "      <td>1</td>\n",
              "    </tr>\n",
              "    <tr>\n",
              "      <th>1</th>\n",
              "      <td>group 2</td>\n",
              "      <td>2</td>\n",
              "    </tr>\n",
              "    <tr>\n",
              "      <th>2</th>\n",
              "      <td>group 1</td>\n",
              "      <td>3</td>\n",
              "    </tr>\n",
              "    <tr>\n",
              "      <th>3</th>\n",
              "      <td>group 2</td>\n",
              "      <td>4</td>\n",
              "    </tr>\n",
              "    <tr>\n",
              "      <th>4</th>\n",
              "      <td>group 3</td>\n",
              "      <td>5</td>\n",
              "    </tr>\n",
              "    <tr>\n",
              "      <th>5</th>\n",
              "      <td>group 4</td>\n",
              "      <td>6</td>\n",
              "    </tr>\n",
              "    <tr>\n",
              "      <th>6</th>\n",
              "      <td>group 5</td>\n",
              "      <td>7</td>\n",
              "    </tr>\n",
              "    <tr>\n",
              "      <th>7</th>\n",
              "      <td>group 1</td>\n",
              "      <td>8</td>\n",
              "    </tr>\n",
              "    <tr>\n",
              "      <th>8</th>\n",
              "      <td>group 2</td>\n",
              "      <td>9</td>\n",
              "    </tr>\n",
              "    <tr>\n",
              "      <th>9</th>\n",
              "      <td>group 5</td>\n",
              "      <td>10</td>\n",
              "    </tr>\n",
              "  </tbody>\n",
              "</table>\n",
              "</div>"
            ],
            "text/plain": [
              "    groups  vals\n",
              "0  group 1     1\n",
              "1  group 2     2\n",
              "2  group 1     3\n",
              "3  group 2     4\n",
              "4  group 3     5\n",
              "5  group 4     6\n",
              "6  group 5     7\n",
              "7  group 1     8\n",
              "8  group 2     9\n",
              "9  group 5    10"
            ]
          },
          "metadata": {
            "tags": []
          },
          "execution_count": 78
        }
      ]
    },
    {
      "cell_type": "code",
      "metadata": {
        "colab": {
          "base_uri": "https://localhost:8080/"
        },
        "id": "RNWsqFBE0L8K",
        "outputId": "fdcf4f54-30d1-489e-82e8-fe27b773f3ba"
      },
      "source": [
        "# Example 2\n",
        "# Reducing high dimensionality from categorical column\n",
        "# We will learn more about the topic of Dimension reduction in Core\n",
        "# More info: \n",
        "# 1) http://bit.ly/DimensionReductionExample\n",
        "# 2) http://bit.ly/DimensionReductionProblem\n",
        "#\n",
        "df = pd.DataFrame({'groups': ['group 1','group 2','group 1','group 2','group 3','group 4','group 5','group 1','group 2','group 5'], \n",
        "                   'vals': [1,2,3,4,5,6,7,8,9,10]})\n",
        "df\n",
        "\n",
        "# Uncomment after running previous lines\n",
        "df['groups'].value_counts()\n",
        "\n",
        "# Uncomment after running previous lines\n",
        "# high_dim_columns = ['groups']\n",
        "\n",
        "# Uncomment after running previous lines\n",
        "# for column in high_dim_columns:\n",
        "#    a = pd.DataFrame(df[column].value_counts() <= 2)\n",
        "#    unique_values = a.index[a[column]].values\n",
        "#    df.loc[df[column].isin(unique_values), column] = 'other'\n",
        "# df"
      ],
      "execution_count": 79,
      "outputs": [
        {
          "output_type": "execute_result",
          "data": {
            "text/plain": [
              "group 1    3\n",
              "group 2    3\n",
              "group 5    2\n",
              "group 3    1\n",
              "group 4    1\n",
              "Name: groups, dtype: int64"
            ]
          },
          "metadata": {
            "tags": []
          },
          "execution_count": 79
        }
      ]
    },
    {
      "cell_type": "code",
      "metadata": {
        "id": "wXDXAj8_0O1T"
      },
      "source": [
        "# Example 2\n",
        "# Reducing high dimensionality from categorical column\n",
        "# We will learn more about the topic of Dimension reduction in Core\n",
        "# More info: \n",
        "# 1) http://bit.ly/DimensionReductionExample\n",
        "# 2) http://bit.ly/DimensionReductionProblem\n",
        "#\n",
        "df = pd.DataFrame({'groups': ['group 1','group 2','group 1','group 2','group 3','group 4','group 5','group 1','group 2','group 5'], \n",
        "                   'vals': [1,2,3,4,5,6,7,8,9,10]})\n",
        "df\n",
        "\n",
        "# Uncomment after running previous lines\n",
        "df['groups'].value_counts()\n",
        "\n",
        "# Uncomment after running previous lines\n",
        "high_dim_columns = ['groups']\n",
        "\n",
        "# Uncomment after running previous lines\n",
        "# for column in high_dim_columns:\n",
        "#    a = pd.DataFrame(df[column].value_counts() <= 2)\n",
        "#    unique_values = a.index[a[column]].values\n",
        "#    df.loc[df[column].isin(unique_values), column] = 'other'\n",
        "# df"
      ],
      "execution_count": 80,
      "outputs": []
    },
    {
      "cell_type": "code",
      "metadata": {
        "colab": {
          "base_uri": "https://localhost:8080/",
          "height": 359
        },
        "id": "yF8g1o7A0RJV",
        "outputId": "be9e1e09-18ad-4a26-9b02-dedd2e0c3429"
      },
      "source": [
        "# Example 2\n",
        "# Reducing high dimensionality from categorical column\n",
        "# We will learn more about the topic of Dimension reduction in Core\n",
        "# More info: \n",
        "# 1) http://bit.ly/DimensionReductionExample\n",
        "# 2) http://bit.ly/DimensionReductionProblem\n",
        "# \n",
        "df = pd.DataFrame({'groups': ['group 1','group 2','group 1','group 2','group 3','group 4','group 5','group 1','group 2','group 5'], \n",
        "                   'vals': [1,2,3,4,5,6,7,8,9,10]})\n",
        "df\n",
        "\n",
        "# Uncomment after running previous lines\n",
        "df['groups'].value_counts()\n",
        "\n",
        "# Uncomment after running previous lines\n",
        "high_dim_columns = ['groups']\n",
        "\n",
        "# Uncomment after running previous lines\n",
        "for column in high_dim_columns:\n",
        "   a = pd.DataFrame(df[column].value_counts() <= 2)\n",
        "   unique_values = a.index[a[column]].values\n",
        "   df.loc[df[column].isin(unique_values), column] = 'other'\n",
        "df"
      ],
      "execution_count": 81,
      "outputs": [
        {
          "output_type": "execute_result",
          "data": {
            "text/html": [
              "<div>\n",
              "<style scoped>\n",
              "    .dataframe tbody tr th:only-of-type {\n",
              "        vertical-align: middle;\n",
              "    }\n",
              "\n",
              "    .dataframe tbody tr th {\n",
              "        vertical-align: top;\n",
              "    }\n",
              "\n",
              "    .dataframe thead th {\n",
              "        text-align: right;\n",
              "    }\n",
              "</style>\n",
              "<table border=\"1\" class=\"dataframe\">\n",
              "  <thead>\n",
              "    <tr style=\"text-align: right;\">\n",
              "      <th></th>\n",
              "      <th>groups</th>\n",
              "      <th>vals</th>\n",
              "    </tr>\n",
              "  </thead>\n",
              "  <tbody>\n",
              "    <tr>\n",
              "      <th>0</th>\n",
              "      <td>group 1</td>\n",
              "      <td>1</td>\n",
              "    </tr>\n",
              "    <tr>\n",
              "      <th>1</th>\n",
              "      <td>group 2</td>\n",
              "      <td>2</td>\n",
              "    </tr>\n",
              "    <tr>\n",
              "      <th>2</th>\n",
              "      <td>group 1</td>\n",
              "      <td>3</td>\n",
              "    </tr>\n",
              "    <tr>\n",
              "      <th>3</th>\n",
              "      <td>group 2</td>\n",
              "      <td>4</td>\n",
              "    </tr>\n",
              "    <tr>\n",
              "      <th>4</th>\n",
              "      <td>other</td>\n",
              "      <td>5</td>\n",
              "    </tr>\n",
              "    <tr>\n",
              "      <th>5</th>\n",
              "      <td>other</td>\n",
              "      <td>6</td>\n",
              "    </tr>\n",
              "    <tr>\n",
              "      <th>6</th>\n",
              "      <td>other</td>\n",
              "      <td>7</td>\n",
              "    </tr>\n",
              "    <tr>\n",
              "      <th>7</th>\n",
              "      <td>group 1</td>\n",
              "      <td>8</td>\n",
              "    </tr>\n",
              "    <tr>\n",
              "      <th>8</th>\n",
              "      <td>group 2</td>\n",
              "      <td>9</td>\n",
              "    </tr>\n",
              "    <tr>\n",
              "      <th>9</th>\n",
              "      <td>other</td>\n",
              "      <td>10</td>\n",
              "    </tr>\n",
              "  </tbody>\n",
              "</table>\n",
              "</div>"
            ],
            "text/plain": [
              "    groups  vals\n",
              "0  group 1     1\n",
              "1  group 2     2\n",
              "2  group 1     3\n",
              "3  group 2     4\n",
              "4    other     5\n",
              "5    other     6\n",
              "6    other     7\n",
              "7  group 1     8\n",
              "8  group 2     9\n",
              "9    other    10"
            ]
          },
          "metadata": {
            "tags": []
          },
          "execution_count": 81
        }
      ]
    },
    {
      "cell_type": "code",
      "metadata": {
        "id": "g37pMnfcwHfp",
        "colab": {
          "base_uri": "https://localhost:8080/",
          "height": 173
        },
        "outputId": "cb06decb-e628-40e3-97ce-8c7d0e4fb35f"
      },
      "source": [
        "# Example 3\n",
        "# Converting categorical column to one hot encoded column \n",
        "# More information on hot encoding: http://bit.ly/HotEncoding\n",
        "# \n",
        "df = pd.DataFrame({'sex': ['M', 'F', 'M', 'F'], \n",
        "                   'col_2': [1.2, 3.1, 4.4, 5.5], \n",
        "                   'col_3': [1, 2, 3, 4], \n",
        "                   'col_4': ['a', 'b', 'c', 'd']})\n",
        "df\n",
        "\n",
        "# Uncomment after running previous lines\n",
        "# categorical_variables = ['sex']\n",
        "\n",
        "# Uncomment after running previous lines\n",
        "# for variable in categorical_variables:\n",
        "#    df[variable].fillna(\"Missing\", inplace=True) # Fill missing data with the word \"Missing\"\n",
        "#    dummies = pd.get_dummies(df[variable], prefix=variable) # Create array of dummies\n",
        "#    df = pd.concat([df, dummies], axis=1) # Update dataframe to include dummies and drop the main variable\n",
        "#    df.drop([variable], axis=1, inplace=True) \n",
        "# df"
      ],
      "execution_count": 73,
      "outputs": [
        {
          "output_type": "execute_result",
          "data": {
            "text/html": [
              "<div>\n",
              "<style scoped>\n",
              "    .dataframe tbody tr th:only-of-type {\n",
              "        vertical-align: middle;\n",
              "    }\n",
              "\n",
              "    .dataframe tbody tr th {\n",
              "        vertical-align: top;\n",
              "    }\n",
              "\n",
              "    .dataframe thead th {\n",
              "        text-align: right;\n",
              "    }\n",
              "</style>\n",
              "<table border=\"1\" class=\"dataframe\">\n",
              "  <thead>\n",
              "    <tr style=\"text-align: right;\">\n",
              "      <th></th>\n",
              "      <th>sex</th>\n",
              "      <th>col_2</th>\n",
              "      <th>col_3</th>\n",
              "      <th>col_4</th>\n",
              "    </tr>\n",
              "  </thead>\n",
              "  <tbody>\n",
              "    <tr>\n",
              "      <th>0</th>\n",
              "      <td>M</td>\n",
              "      <td>1.2</td>\n",
              "      <td>1</td>\n",
              "      <td>a</td>\n",
              "    </tr>\n",
              "    <tr>\n",
              "      <th>1</th>\n",
              "      <td>F</td>\n",
              "      <td>3.1</td>\n",
              "      <td>2</td>\n",
              "      <td>b</td>\n",
              "    </tr>\n",
              "    <tr>\n",
              "      <th>2</th>\n",
              "      <td>M</td>\n",
              "      <td>4.4</td>\n",
              "      <td>3</td>\n",
              "      <td>c</td>\n",
              "    </tr>\n",
              "    <tr>\n",
              "      <th>3</th>\n",
              "      <td>F</td>\n",
              "      <td>5.5</td>\n",
              "      <td>4</td>\n",
              "      <td>d</td>\n",
              "    </tr>\n",
              "  </tbody>\n",
              "</table>\n",
              "</div>"
            ],
            "text/plain": [
              "  sex  col_2  col_3 col_4\n",
              "0   M    1.2      1     a\n",
              "1   F    3.1      2     b\n",
              "2   M    4.4      3     c\n",
              "3   F    5.5      4     d"
            ]
          },
          "metadata": {
            "tags": []
          },
          "execution_count": 73
        }
      ]
    },
    {
      "cell_type": "code",
      "metadata": {
        "id": "YG5FlIOFz6U0"
      },
      "source": [
        "# Example 3\n",
        "# Converting categorical column to one hot encoded column \n",
        "# More information on hot encoding: http://bit.ly/HotEncoding\n",
        "# \n",
        "df = pd.DataFrame({'sex': ['M', 'F', 'M', 'F'], \n",
        "                   'col_2': [1.2, 3.1, 4.4, 5.5], \n",
        "                   'col_3': [1, 2, 3, 4], \n",
        "                   'col_4': ['a', 'b', 'c', 'd']})\n",
        "df\n",
        "\n",
        "# Uncomment after running previous lines\n",
        "categorical_variables = ['sex']\n",
        "\n",
        "# Uncomment after running previous lines\n",
        "# for variable in categorical_variables:\n",
        "#    df[variable].fillna(\"Missing\", inplace=True) # Fill missing data with the word \"Missing\"\n",
        "#    dummies = pd.get_dummies(df[variable], prefix=variable) # Create array of dummies\n",
        "#    df = pd.concat([df, dummies], axis=1) # Update dataframe to include dummies and drop the main variable\n",
        "#    df.drop([variable], axis=1, inplace=True) \n",
        "# df"
      ],
      "execution_count": 74,
      "outputs": []
    },
    {
      "cell_type": "code",
      "metadata": {
        "colab": {
          "base_uri": "https://localhost:8080/",
          "height": 173
        },
        "id": "yui_5Dwnz8av",
        "outputId": "9134b860-0b7a-4430-b911-55817962b99a"
      },
      "source": [
        "# Example 3\n",
        "# Converting categorical column to one hot encoded column \n",
        "# More information on hot encoding: http://bit.ly/HotEncoding\n",
        "# \n",
        "df = pd.DataFrame({'sex': ['M', 'F', 'M', 'F'], \n",
        "                   'col_2': [1.2, 3.1, 4.4, 5.5], \n",
        "                   'col_3': [1, 2, 3, 4], \n",
        "                   'col_4': ['a', 'b', 'c', 'd']})\n",
        "df\n",
        "\n",
        "# Uncomment after running previous lines\n",
        "categorical_variables = ['sex']\n",
        "\n",
        "# Uncomment after running previous lines\n",
        "for variable in categorical_variables:\n",
        "   df[variable].fillna(\"Missing\", inplace=True) # Fill missing data with the word \"Missing\"\n",
        "   dummies = pd.get_dummies(df[variable], prefix=variable) # Create array of dummies\n",
        "   df = pd.concat([df, dummies], axis=1) # Update dataframe to include dummies and drop the main variable\n",
        "   df.drop([variable], axis=1, inplace=True) \n",
        "df"
      ],
      "execution_count": 77,
      "outputs": [
        {
          "output_type": "execute_result",
          "data": {
            "text/html": [
              "<div>\n",
              "<style scoped>\n",
              "    .dataframe tbody tr th:only-of-type {\n",
              "        vertical-align: middle;\n",
              "    }\n",
              "\n",
              "    .dataframe tbody tr th {\n",
              "        vertical-align: top;\n",
              "    }\n",
              "\n",
              "    .dataframe thead th {\n",
              "        text-align: right;\n",
              "    }\n",
              "</style>\n",
              "<table border=\"1\" class=\"dataframe\">\n",
              "  <thead>\n",
              "    <tr style=\"text-align: right;\">\n",
              "      <th></th>\n",
              "      <th>col_2</th>\n",
              "      <th>col_3</th>\n",
              "      <th>col_4</th>\n",
              "      <th>sex_F</th>\n",
              "      <th>sex_M</th>\n",
              "    </tr>\n",
              "  </thead>\n",
              "  <tbody>\n",
              "    <tr>\n",
              "      <th>0</th>\n",
              "      <td>1.2</td>\n",
              "      <td>1</td>\n",
              "      <td>a</td>\n",
              "      <td>0</td>\n",
              "      <td>1</td>\n",
              "    </tr>\n",
              "    <tr>\n",
              "      <th>1</th>\n",
              "      <td>3.1</td>\n",
              "      <td>2</td>\n",
              "      <td>b</td>\n",
              "      <td>1</td>\n",
              "      <td>0</td>\n",
              "    </tr>\n",
              "    <tr>\n",
              "      <th>2</th>\n",
              "      <td>4.4</td>\n",
              "      <td>3</td>\n",
              "      <td>c</td>\n",
              "      <td>0</td>\n",
              "      <td>1</td>\n",
              "    </tr>\n",
              "    <tr>\n",
              "      <th>3</th>\n",
              "      <td>5.5</td>\n",
              "      <td>4</td>\n",
              "      <td>d</td>\n",
              "      <td>1</td>\n",
              "      <td>0</td>\n",
              "    </tr>\n",
              "  </tbody>\n",
              "</table>\n",
              "</div>"
            ],
            "text/plain": [
              "   col_2  col_3 col_4  sex_F  sex_M\n",
              "0    1.2      1     a      0      1\n",
              "1    3.1      2     b      1      0\n",
              "2    4.4      3     c      0      1\n",
              "3    5.5      4     d      1      0"
            ]
          },
          "metadata": {
            "tags": []
          },
          "execution_count": 77
        }
      ]
    },
    {
      "cell_type": "markdown",
      "metadata": {
        "id": "P_089UxhwZ__"
      },
      "source": [
        "### <font color=\"green\">1.4 Challenges</font>"
      ]
    },
    {
      "cell_type": "code",
      "metadata": {
        "id": "J_EknU8IwdWN"
      },
      "source": [
        "# Challenge 1\n",
        "# Create a dataframe from the given dictionary below then\n",
        "# Convert the categorical column to an integer column\n",
        "# \n",
        "dt1 = {'patient': [1, 1, 1, 2, 2], \n",
        "        'obs': [1, 2, 3, 1, 2], \n",
        "        'diagnosis': [0, 1, 0, 1, 0],\n",
        "        'score': ['weak', 'strong', 'normal', 'weak', 'normal']}\n",
        "\n",
        "OUR CODE GOES HERE"
      ],
      "execution_count": null,
      "outputs": []
    },
    {
      "cell_type": "code",
      "metadata": {
        "id": "O9ByukuiwdHG"
      },
      "source": [
        "# Challenge 2\n",
        "# Convert the categorical column to one hot encoded column\n",
        "# in the following list\n",
        "# \n",
        "list1 = [[\"Nairobi\", \"range\", 3000], [\"Mombasa\", \"tuktuk\", 4000], [\"Nakuru\", \"tuktuk\", 1000]]\n",
        "\n",
        "OUR CODE GOES HERE"
      ],
      "execution_count": null,
      "outputs": []
    },
    {
      "cell_type": "markdown",
      "metadata": {
        "id": "I6tAKZoawCFA"
      },
      "source": [
        "## 1.5 Splitting Columns\n"
      ]
    },
    {
      "cell_type": "code",
      "metadata": {
        "id": "9yFk2RVZwIgu",
        "colab": {
          "base_uri": "https://localhost:8080/",
          "height": 142
        },
        "outputId": "eb338e9f-e189-4946-f7d7-ea7400a10c05"
      },
      "source": [
        "# Example 1\n",
        "# Splitting a column using a delimiter\n",
        "# \n",
        "data = [{'test': 'vikash|Arpit', 'val': 6},\n",
        "        {'test': 'vikash_1|arpit|Vinayp', 'val': 3},\n",
        "        {'test': 'arpit|vinayp', 'val': 2}]\n",
        "df = pd.DataFrame.from_dict(data, orient='columns')\n",
        "df\n",
        "\n",
        "# Uncomment after running previous lines\n",
        "# df['test'].apply(lambda x: pd.Series([i for i in reversed(x.lower().split('|'))]))"
      ],
      "execution_count": 57,
      "outputs": [
        {
          "output_type": "execute_result",
          "data": {
            "text/html": [
              "<div>\n",
              "<style scoped>\n",
              "    .dataframe tbody tr th:only-of-type {\n",
              "        vertical-align: middle;\n",
              "    }\n",
              "\n",
              "    .dataframe tbody tr th {\n",
              "        vertical-align: top;\n",
              "    }\n",
              "\n",
              "    .dataframe thead th {\n",
              "        text-align: right;\n",
              "    }\n",
              "</style>\n",
              "<table border=\"1\" class=\"dataframe\">\n",
              "  <thead>\n",
              "    <tr style=\"text-align: right;\">\n",
              "      <th></th>\n",
              "      <th>test</th>\n",
              "      <th>val</th>\n",
              "    </tr>\n",
              "  </thead>\n",
              "  <tbody>\n",
              "    <tr>\n",
              "      <th>0</th>\n",
              "      <td>vikash|Arpit</td>\n",
              "      <td>6</td>\n",
              "    </tr>\n",
              "    <tr>\n",
              "      <th>1</th>\n",
              "      <td>vikash_1|arpit|Vinayp</td>\n",
              "      <td>3</td>\n",
              "    </tr>\n",
              "    <tr>\n",
              "      <th>2</th>\n",
              "      <td>arpit|vinayp</td>\n",
              "      <td>2</td>\n",
              "    </tr>\n",
              "  </tbody>\n",
              "</table>\n",
              "</div>"
            ],
            "text/plain": [
              "                    test  val\n",
              "0           vikash|Arpit    6\n",
              "1  vikash_1|arpit|Vinayp    3\n",
              "2           arpit|vinayp    2"
            ]
          },
          "metadata": {
            "tags": []
          },
          "execution_count": 57
        }
      ]
    },
    {
      "cell_type": "code",
      "metadata": {
        "colab": {
          "base_uri": "https://localhost:8080/",
          "height": 142
        },
        "id": "WJgdxx1Dxs5Z",
        "outputId": "7b04cf89-a13a-4228-da83-b2e4c6bdd27e"
      },
      "source": [
        "# Example 1\n",
        "# Splitting a column using a delimiter\n",
        "# \n",
        "data = [{'test': 'vikash|Arpit', 'val': 6},\n",
        "        {'test': 'vikash_1|arpit|Vinayp', 'val': 3},\n",
        "        {'test': 'arpit|vinayp', 'val': 2}]\n",
        "df = pd.DataFrame.from_dict(data, orient='columns')\n",
        "df\n",
        "\n",
        "# Uncomment after running previous lines\n",
        "df['test'].apply(lambda x: pd.Series([i for i in reversed(x.lower().split('|'))]))"
      ],
      "execution_count": 58,
      "outputs": [
        {
          "output_type": "execute_result",
          "data": {
            "text/html": [
              "<div>\n",
              "<style scoped>\n",
              "    .dataframe tbody tr th:only-of-type {\n",
              "        vertical-align: middle;\n",
              "    }\n",
              "\n",
              "    .dataframe tbody tr th {\n",
              "        vertical-align: top;\n",
              "    }\n",
              "\n",
              "    .dataframe thead th {\n",
              "        text-align: right;\n",
              "    }\n",
              "</style>\n",
              "<table border=\"1\" class=\"dataframe\">\n",
              "  <thead>\n",
              "    <tr style=\"text-align: right;\">\n",
              "      <th></th>\n",
              "      <th>0</th>\n",
              "      <th>1</th>\n",
              "      <th>2</th>\n",
              "    </tr>\n",
              "  </thead>\n",
              "  <tbody>\n",
              "    <tr>\n",
              "      <th>0</th>\n",
              "      <td>arpit</td>\n",
              "      <td>vikash</td>\n",
              "      <td>NaN</td>\n",
              "    </tr>\n",
              "    <tr>\n",
              "      <th>1</th>\n",
              "      <td>vinayp</td>\n",
              "      <td>arpit</td>\n",
              "      <td>vikash_1</td>\n",
              "    </tr>\n",
              "    <tr>\n",
              "      <th>2</th>\n",
              "      <td>vinayp</td>\n",
              "      <td>arpit</td>\n",
              "      <td>NaN</td>\n",
              "    </tr>\n",
              "  </tbody>\n",
              "</table>\n",
              "</div>"
            ],
            "text/plain": [
              "        0       1         2\n",
              "0   arpit  vikash       NaN\n",
              "1  vinayp   arpit  vikash_1\n",
              "2  vinayp   arpit       NaN"
            ]
          },
          "metadata": {
            "tags": []
          },
          "execution_count": 58
        }
      ]
    },
    {
      "cell_type": "code",
      "metadata": {
        "id": "j73HA4WfwIWz",
        "colab": {
          "base_uri": "https://localhost:8080/",
          "height": 142
        },
        "outputId": "330d95fb-4209-4b59-c653-308a18960ec0"
      },
      "source": [
        "# Example 2\n",
        "# Splitting a column using delimiter and one hot encode the values \n",
        "# \n",
        "data = [{'test': 'vikash|Arpit', 'val': 6},\n",
        "        {'test': 'vikash_1|arpit|Vinayp', 'val': 3},\n",
        "        {'test': 'arpit|vinayp', 'val': 2}]\n",
        "\n",
        "df = pd.DataFrame.from_dict(data, orient='columns')\n",
        "df\n",
        "\n",
        "# Uncomment after running previous lines\n",
        "# chosen_columns = set()\n",
        "# for idx, row in df.iterrows():\n",
        "#     for val in str(row['test']).lower().split('|'):\n",
        "#         chosen_columns.add(val.strip())\n",
        "\n",
        "# Uncomment after running previous lines\n",
        "# chosen_columns_list = list(chosen_columns)\n",
        "\n",
        "# Uncomment after running previous lines\n",
        "# chosen_columns_list.sort(key=len, reverse=True) \n",
        "# chosen_columns_list\n",
        "\n",
        "\n",
        "# def get_one_hot_encoded_column(col_value):\n",
        "#     col_value = col_value.lower()\n",
        "#     new_col_value = ''\n",
        "#     for val in chosen_columns_list:\n",
        "#         if val in col_value.split('|'):\n",
        "#             col_value = col_value.replace(val, '')\n",
        "#             new_col_value += '1,'\n",
        "#         else:\n",
        "#             new_col_value += '0,'\n",
        "#     return new_col_value[:-1]\n",
        "\n",
        "# Uncomment after running previous lines\n",
        "# df['test_new'] = df['test'].map(get_one_hot_encoded_column)\n",
        "# df\n",
        "\n",
        "# Uncomment after running previous lines\n",
        "# df2 = df['test_new'].apply(lambda x: pd.Series([i for i in x.lower().split(',')]))\n",
        "# df2\n",
        "\n",
        "# Uncomment after running previous lines\n",
        "# df2.columns = chosen_columns_list\n",
        "# df2\n",
        "\n",
        "# Uncomment after running previous lines\n",
        "# df2.info()\n",
        "\n",
        "# Uncomment after running previous lines\n",
        "# df2 = df2.apply(pd.to_numeric)\n",
        "\n",
        "# Uncomment after running previous lines\n",
        "# df2.info()\n",
        "\n",
        "# Uncomment after running previous lines\n",
        "# df_new = pd.concat([df, df2], axis=1)\n",
        "\n",
        "# Uncomment after running previous lines\n",
        "# df_new.drop(['test', 'test_new'], inplace=True, axis=1)\n",
        "# df_new"
      ],
      "execution_count": 60,
      "outputs": [
        {
          "output_type": "execute_result",
          "data": {
            "text/html": [
              "<div>\n",
              "<style scoped>\n",
              "    .dataframe tbody tr th:only-of-type {\n",
              "        vertical-align: middle;\n",
              "    }\n",
              "\n",
              "    .dataframe tbody tr th {\n",
              "        vertical-align: top;\n",
              "    }\n",
              "\n",
              "    .dataframe thead th {\n",
              "        text-align: right;\n",
              "    }\n",
              "</style>\n",
              "<table border=\"1\" class=\"dataframe\">\n",
              "  <thead>\n",
              "    <tr style=\"text-align: right;\">\n",
              "      <th></th>\n",
              "      <th>test</th>\n",
              "      <th>val</th>\n",
              "    </tr>\n",
              "  </thead>\n",
              "  <tbody>\n",
              "    <tr>\n",
              "      <th>0</th>\n",
              "      <td>vikash|Arpit</td>\n",
              "      <td>6</td>\n",
              "    </tr>\n",
              "    <tr>\n",
              "      <th>1</th>\n",
              "      <td>vikash_1|arpit|Vinayp</td>\n",
              "      <td>3</td>\n",
              "    </tr>\n",
              "    <tr>\n",
              "      <th>2</th>\n",
              "      <td>arpit|vinayp</td>\n",
              "      <td>2</td>\n",
              "    </tr>\n",
              "  </tbody>\n",
              "</table>\n",
              "</div>"
            ],
            "text/plain": [
              "                    test  val\n",
              "0           vikash|Arpit    6\n",
              "1  vikash_1|arpit|Vinayp    3\n",
              "2           arpit|vinayp    2"
            ]
          },
          "metadata": {
            "tags": []
          },
          "execution_count": 60
        }
      ]
    },
    {
      "cell_type": "code",
      "metadata": {
        "id": "S2XH8MxTxzGe"
      },
      "source": [
        "# Example 2\n",
        "# Splitting a column using delimiter and one hot encode the values \n",
        "# \n",
        "data = [{'test': 'vikash|Arpit', 'val': 6},\n",
        "        {'test': 'vikash_1|arpit|Vinayp', 'val': 3},\n",
        "        {'test': 'arpit|vinayp', 'val': 2}]\n",
        "\n",
        "df = pd.DataFrame.from_dict(data, orient='columns')\n",
        "df\n",
        "\n",
        "# Uncomment after running previous lines\n",
        "chosen_columns = set()\n",
        "for idx, row in df.iterrows():\n",
        "    for val in str(row['test']).lower().split('|'):\n",
        "      chosen_columns.add(val.strip())\n",
        "\n",
        "# Uncomment after running previous lines\n",
        "# chosen_columns_list = list(chosen_columns)\n",
        "\n",
        "# Uncomment after running previous lines\n",
        "# chosen_columns_list.sort(key=len, reverse=True) \n",
        "# chosen_columns_list\n",
        "\n",
        "\n",
        "# def get_one_hot_encoded_column(col_value):\n",
        "#     col_value = col_value.lower()\n",
        "#     new_col_value = ''\n",
        "#     for val in chosen_columns_list:\n",
        "#         if val in col_value.split('|'):\n",
        "#             col_value = col_value.replace(val, '')\n",
        "#             new_col_value += '1,'\n",
        "#         else:\n",
        "#             new_col_value += '0,'\n",
        "#     return new_col_value[:-1]\n",
        "\n",
        "# Uncomment after running previous lines\n",
        "# df['test_new'] = df['test'].map(get_one_hot_encoded_column)\n",
        "# df\n",
        "\n",
        "# Uncomment after running previous lines\n",
        "# df2 = df['test_new'].apply(lambda x: pd.Series([i for i in x.lower().split(',')]))\n",
        "# df2\n",
        "\n",
        "# Uncomment after running previous lines\n",
        "# df2.columns = chosen_columns_list\n",
        "# df2\n",
        "\n",
        "# Uncomment after running previous lines\n",
        "# df2.info()\n",
        "\n",
        "# Uncomment after running previous lines\n",
        "# df2 = df2.apply(pd.to_numeric)\n",
        "\n",
        "# Uncomment after running previous lines\n",
        "# df2.info()\n",
        "\n",
        "# Uncomment after running previous lines\n",
        "# df_new = pd.concat([df, df2], axis=1)\n",
        "\n",
        "# Uncomment after running previous lines\n",
        "# df_new.drop(['test', 'test_new'], inplace=True, axis=1)\n",
        "# df_new"
      ],
      "execution_count": 62,
      "outputs": []
    },
    {
      "cell_type": "code",
      "metadata": {
        "id": "aLursn3yyE01"
      },
      "source": [
        "# Example 2\n",
        "# Splitting a column using delimiter and one hot encode the values \n",
        "# \n",
        "data = [{'test': 'vikash|Arpit', 'val': 6},\n",
        "        {'test': 'vikash_1|arpit|Vinayp', 'val': 3},\n",
        "        {'test': 'arpit|vinayp', 'val': 2}]\n",
        "\n",
        "df = pd.DataFrame.from_dict(data, orient='columns')\n",
        "df\n",
        "\n",
        "# Uncomment after running previous lines\n",
        "chosen_columns = set()\n",
        "for idx, row in df.iterrows():\n",
        "    for val in str(row['test']).lower().split('|'):\n",
        "      chosen_columns.add(val.strip())\n",
        "\n",
        "# Uncomment after running previous lines\n",
        "chosen_columns_list = list(chosen_columns)\n",
        "\n",
        "# Uncomment after running previous lines\n",
        "# chosen_columns_list.sort(key=len, reverse=True) \n",
        "# chosen_columns_list\n",
        "\n",
        "\n",
        "# def get_one_hot_encoded_column(col_value):\n",
        "#     col_value = col_value.lower()\n",
        "#     new_col_value = ''\n",
        "#     for val in chosen_columns_list:\n",
        "#         if val in col_value.split('|'):\n",
        "#             col_value = col_value.replace(val, '')\n",
        "#             new_col_value += '1,'\n",
        "#         else:\n",
        "#             new_col_value += '0,'\n",
        "#     return new_col_value[:-1]\n",
        "\n",
        "# Uncomment after running previous lines\n",
        "# df['test_new'] = df['test'].map(get_one_hot_encoded_column)\n",
        "# df\n",
        "\n",
        "# Uncomment after running previous lines\n",
        "# df2 = df['test_new'].apply(lambda x: pd.Series([i for i in x.lower().split(',')]))\n",
        "# df2\n",
        "\n",
        "# Uncomment after running previous lines\n",
        "# df2.columns = chosen_columns_list\n",
        "# df2\n",
        "\n",
        "# Uncomment after running previous lines\n",
        "# df2.info()\n",
        "\n",
        "# Uncomment after running previous lines\n",
        "# df2 = df2.apply(pd.to_numeric)\n",
        "\n",
        "# Uncomment after running previous lines\n",
        "# df2.info()\n",
        "\n",
        "# Uncomment after running previous lines\n",
        "# df_new = pd.concat([df, df2], axis=1)\n",
        "\n",
        "# Uncomment after running previous lines\n",
        "# df_new.drop(['test', 'test_new'], inplace=True, axis=1)\n",
        "# df_new"
      ],
      "execution_count": 63,
      "outputs": []
    },
    {
      "cell_type": "code",
      "metadata": {
        "id": "vMU1dAZmyIuG"
      },
      "source": [
        "# Example 2\n",
        "# Splitting a column using delimiter and one hot encode the values \n",
        "# \n",
        "data = [{'test': 'vikash|Arpit', 'val': 6},\n",
        "        {'test': 'vikash_1|arpit|Vinayp', 'val': 3},\n",
        "        {'test': 'arpit|vinayp', 'val': 2}]\n",
        "\n",
        "df = pd.DataFrame.from_dict(data, orient='columns')\n",
        "df\n",
        "\n",
        "# Uncomment after running previous lines\n",
        "chosen_columns = set()\n",
        "for idx, row in df.iterrows():\n",
        "    for val in str(row['test']).lower().split('|'):\n",
        "      chosen_columns.add(val.strip())\n",
        "\n",
        "# Uncomment after running previous lines\n",
        "chosen_columns_list = list(chosen_columns)\n",
        "\n",
        "# Uncomment after running previous lines\n",
        "chosen_columns_list.sort(key=len, reverse=True) \n",
        "chosen_columns_list\n",
        "\n",
        "\n",
        "def get_one_hot_encoded_column(col_value):\n",
        "    col_value = col_value.lower()\n",
        "    new_col_value = ''\n",
        "    for val in chosen_columns_list:\n",
        "        if val in col_value.split('|'):\n",
        "            col_value = col_value.replace(val, '')\n",
        "            new_col_value += '1,'\n",
        "        else:\n",
        "            new_col_value += '0,'\n",
        "    return new_col_value[:-1]\n",
        "\n",
        "# Uncomment after running previous lines\n",
        "# df['test_new'] = df['test'].map(get_one_hot_encoded_column)\n",
        "# df\n",
        "\n",
        "# Uncomment after running previous lines\n",
        "# df2 = df['test_new'].apply(lambda x: pd.Series([i for i in x.lower().split(',')]))\n",
        "# df2\n",
        "\n",
        "# Uncomment after running previous lines\n",
        "# df2.columns = chosen_columns_list\n",
        "# df2\n",
        "\n",
        "# Uncomment after running previous lines\n",
        "# df2.info()\n",
        "\n",
        "# Uncomment after running previous lines\n",
        "# df2 = df2.apply(pd.to_numeric)\n",
        "\n",
        "# Uncomment after running previous lines\n",
        "# df2.info()\n",
        "\n",
        "# Uncomment after running previous lines\n",
        "# df_new = pd.concat([df, df2], axis=1)\n",
        "\n",
        "# Uncomment after running previous lines\n",
        "# df_new.drop(['test', 'test_new'], inplace=True, axis=1)\n",
        "# df_new"
      ],
      "execution_count": 64,
      "outputs": []
    },
    {
      "cell_type": "code",
      "metadata": {
        "colab": {
          "base_uri": "https://localhost:8080/",
          "height": 142
        },
        "id": "v3S9PSFnyXnJ",
        "outputId": "275a0438-82e3-4d88-c1d8-512662d1f1bb"
      },
      "source": [
        "# Example 2\n",
        "# Splitting a column using delimiter and one hot encode the values \n",
        "# \n",
        "data = [{'test': 'vikash|Arpit', 'val': 6},\n",
        "        {'test': 'vikash_1|arpit|Vinayp', 'val': 3},\n",
        "        {'test': 'arpit|vinayp', 'val': 2}]\n",
        "\n",
        "df = pd.DataFrame.from_dict(data, orient='columns')\n",
        "df\n",
        "\n",
        "# Uncomment after running previous lines\n",
        "chosen_columns = set()\n",
        "for idx, row in df.iterrows():\n",
        "    for val in str(row['test']).lower().split('|'):\n",
        "      chosen_columns.add(val.strip())\n",
        "\n",
        "# Uncomment after running previous lines\n",
        "chosen_columns_list = list(chosen_columns)\n",
        "\n",
        "# Uncomment after running previous lines\n",
        "chosen_columns_list.sort(key=len, reverse=True) \n",
        "chosen_columns_list\n",
        "\n",
        "\n",
        "def get_one_hot_encoded_column(col_value):\n",
        "    col_value = col_value.lower()\n",
        "    new_col_value = ''\n",
        "    for val in chosen_columns_list:\n",
        "        if val in col_value.split('|'):\n",
        "            col_value = col_value.replace(val, '')\n",
        "            new_col_value += '1,'\n",
        "        else:\n",
        "            new_col_value += '0,'\n",
        "    return new_col_value[:-1]\n",
        "\n",
        "# Uncomment after running previous lines\n",
        "df['test_new'] = df['test'].map(get_one_hot_encoded_column)\n",
        "df\n",
        "\n",
        "# Uncomment after running previous lines\n",
        "# df2 = df['test_new'].apply(lambda x: pd.Series([i for i in x.lower().split(',')]))\n",
        "# df2\n",
        "\n",
        "# Uncomment after running previous lines\n",
        "# df2.columns = chosen_columns_list\n",
        "# df2\n",
        "\n",
        "# Uncomment after running previous lines\n",
        "# df2.info()\n",
        "\n",
        "# Uncomment after running previous lines\n",
        "# df2 = df2.apply(pd.to_numeric)\n",
        "\n",
        "# Uncomment after running previous lines\n",
        "# df2.info()\n",
        "\n",
        "# Uncomment after running previous lines\n",
        "# df_new = pd.concat([df, df2], axis=1)\n",
        "\n",
        "# Uncomment after running previous lines\n",
        "# df_new.drop(['test', 'test_new'], inplace=True, axis=1)\n",
        "# df_new"
      ],
      "execution_count": 65,
      "outputs": [
        {
          "output_type": "execute_result",
          "data": {
            "text/html": [
              "<div>\n",
              "<style scoped>\n",
              "    .dataframe tbody tr th:only-of-type {\n",
              "        vertical-align: middle;\n",
              "    }\n",
              "\n",
              "    .dataframe tbody tr th {\n",
              "        vertical-align: top;\n",
              "    }\n",
              "\n",
              "    .dataframe thead th {\n",
              "        text-align: right;\n",
              "    }\n",
              "</style>\n",
              "<table border=\"1\" class=\"dataframe\">\n",
              "  <thead>\n",
              "    <tr style=\"text-align: right;\">\n",
              "      <th></th>\n",
              "      <th>test</th>\n",
              "      <th>val</th>\n",
              "      <th>test_new</th>\n",
              "    </tr>\n",
              "  </thead>\n",
              "  <tbody>\n",
              "    <tr>\n",
              "      <th>0</th>\n",
              "      <td>vikash|Arpit</td>\n",
              "      <td>6</td>\n",
              "      <td>0,1,0,1</td>\n",
              "    </tr>\n",
              "    <tr>\n",
              "      <th>1</th>\n",
              "      <td>vikash_1|arpit|Vinayp</td>\n",
              "      <td>3</td>\n",
              "      <td>1,0,1,1</td>\n",
              "    </tr>\n",
              "    <tr>\n",
              "      <th>2</th>\n",
              "      <td>arpit|vinayp</td>\n",
              "      <td>2</td>\n",
              "      <td>0,0,1,1</td>\n",
              "    </tr>\n",
              "  </tbody>\n",
              "</table>\n",
              "</div>"
            ],
            "text/plain": [
              "                    test  val test_new\n",
              "0           vikash|Arpit    6  0,1,0,1\n",
              "1  vikash_1|arpit|Vinayp    3  1,0,1,1\n",
              "2           arpit|vinayp    2  0,0,1,1"
            ]
          },
          "metadata": {
            "tags": []
          },
          "execution_count": 65
        }
      ]
    },
    {
      "cell_type": "code",
      "metadata": {
        "colab": {
          "base_uri": "https://localhost:8080/",
          "height": 142
        },
        "id": "rwYbizMeycY4",
        "outputId": "c3356ea3-a420-4bb6-a000-20c14e683431"
      },
      "source": [
        "# Example 2\n",
        "# Splitting a column using delimiter and one hot encode the values \n",
        "# \n",
        "data = [{'test': 'vikash|Arpit', 'val': 6},\n",
        "        {'test': 'vikash_1|arpit|Vinayp', 'val': 3},\n",
        "        {'test': 'arpit|vinayp', 'val': 2}]\n",
        "\n",
        "df = pd.DataFrame.from_dict(data, orient='columns')\n",
        "df\n",
        "\n",
        "# Uncomment after running previous lines\n",
        "chosen_columns = set()\n",
        "for idx, row in df.iterrows():\n",
        "    for val in str(row['test']).lower().split('|'):\n",
        "      chosen_columns.add(val.strip())\n",
        "\n",
        "# Uncomment after running previous lines\n",
        "chosen_columns_list = list(chosen_columns)\n",
        "\n",
        "# Uncomment after running previous lines\n",
        "chosen_columns_list.sort(key=len, reverse=True) \n",
        "chosen_columns_list\n",
        "\n",
        "\n",
        "def get_one_hot_encoded_column(col_value):\n",
        "    col_value = col_value.lower()\n",
        "    new_col_value = ''\n",
        "    for val in chosen_columns_list:\n",
        "        if val in col_value.split('|'):\n",
        "            col_value = col_value.replace(val, '')\n",
        "            new_col_value += '1,'\n",
        "        else:\n",
        "            new_col_value += '0,'\n",
        "    return new_col_value[:-1]\n",
        "\n",
        "# Uncomment after running previous lines\n",
        "df['test_new'] = df['test'].map(get_one_hot_encoded_column)\n",
        "df\n",
        "\n",
        "# Uncomment after running previous lines\n",
        "df2 = df['test_new'].apply(lambda x: pd.Series([i for i in x.lower().split(',')]))\n",
        "df2\n",
        "\n",
        "# Uncomment after running previous lines\n",
        "# df2.columns = chosen_columns_list\n",
        "# df2\n",
        "\n",
        "# Uncomment after running previous lines\n",
        "# df2.info()\n",
        "\n",
        "# Uncomment after running previous lines\n",
        "# df2 = df2.apply(pd.to_numeric)\n",
        "\n",
        "# Uncomment after running previous lines\n",
        "# df2.info()\n",
        "\n",
        "# Uncomment after running previous lines\n",
        "# df_new = pd.concat([df, df2], axis=1)\n",
        "\n",
        "# Uncomment after running previous lines\n",
        "# df_new.drop(['test', 'test_new'], inplace=True, axis=1)\n",
        "# df_new"
      ],
      "execution_count": 66,
      "outputs": [
        {
          "output_type": "execute_result",
          "data": {
            "text/html": [
              "<div>\n",
              "<style scoped>\n",
              "    .dataframe tbody tr th:only-of-type {\n",
              "        vertical-align: middle;\n",
              "    }\n",
              "\n",
              "    .dataframe tbody tr th {\n",
              "        vertical-align: top;\n",
              "    }\n",
              "\n",
              "    .dataframe thead th {\n",
              "        text-align: right;\n",
              "    }\n",
              "</style>\n",
              "<table border=\"1\" class=\"dataframe\">\n",
              "  <thead>\n",
              "    <tr style=\"text-align: right;\">\n",
              "      <th></th>\n",
              "      <th>0</th>\n",
              "      <th>1</th>\n",
              "      <th>2</th>\n",
              "      <th>3</th>\n",
              "    </tr>\n",
              "  </thead>\n",
              "  <tbody>\n",
              "    <tr>\n",
              "      <th>0</th>\n",
              "      <td>0</td>\n",
              "      <td>1</td>\n",
              "      <td>0</td>\n",
              "      <td>1</td>\n",
              "    </tr>\n",
              "    <tr>\n",
              "      <th>1</th>\n",
              "      <td>1</td>\n",
              "      <td>0</td>\n",
              "      <td>1</td>\n",
              "      <td>1</td>\n",
              "    </tr>\n",
              "    <tr>\n",
              "      <th>2</th>\n",
              "      <td>0</td>\n",
              "      <td>0</td>\n",
              "      <td>1</td>\n",
              "      <td>1</td>\n",
              "    </tr>\n",
              "  </tbody>\n",
              "</table>\n",
              "</div>"
            ],
            "text/plain": [
              "   0  1  2  3\n",
              "0  0  1  0  1\n",
              "1  1  0  1  1\n",
              "2  0  0  1  1"
            ]
          },
          "metadata": {
            "tags": []
          },
          "execution_count": 66
        }
      ]
    },
    {
      "cell_type": "code",
      "metadata": {
        "colab": {
          "base_uri": "https://localhost:8080/",
          "height": 142
        },
        "id": "UvAT1cuNyjQa",
        "outputId": "b8857232-8848-4335-c53e-2da0734bf42f"
      },
      "source": [
        "# Example 2\n",
        "# Splitting a column using delimiter and one hot encode the values \n",
        "# \n",
        "data = [{'test': 'vikash|Arpit', 'val': 6},\n",
        "        {'test': 'vikash_1|arpit|Vinayp', 'val': 3},\n",
        "        {'test': 'arpit|vinayp', 'val': 2}]\n",
        "\n",
        "df = pd.DataFrame.from_dict(data, orient='columns')\n",
        "df\n",
        "\n",
        "# Uncomment after running previous lines\n",
        "chosen_columns = set()\n",
        "for idx, row in df.iterrows():\n",
        "    for val in str(row['test']).lower().split('|'):\n",
        "      chosen_columns.add(val.strip())\n",
        "\n",
        "# Uncomment after running previous lines\n",
        "chosen_columns_list = list(chosen_columns)\n",
        "\n",
        "# Uncomment after running previous lines\n",
        "chosen_columns_list.sort(key=len, reverse=True) \n",
        "chosen_columns_list\n",
        "\n",
        "\n",
        "def get_one_hot_encoded_column(col_value):\n",
        "    col_value = col_value.lower()\n",
        "    new_col_value = ''\n",
        "    for val in chosen_columns_list:\n",
        "        if val in col_value.split('|'):\n",
        "            col_value = col_value.replace(val, '')\n",
        "            new_col_value += '1,'\n",
        "        else:\n",
        "            new_col_value += '0,'\n",
        "    return new_col_value[:-1]\n",
        "\n",
        "# Uncomment after running previous lines\n",
        "df['test_new'] = df['test'].map(get_one_hot_encoded_column)\n",
        "df\n",
        "\n",
        "# Uncomment after running previous lines\n",
        "df2 = df['test_new'].apply(lambda x: pd.Series([i for i in x.lower().split(',')]))\n",
        "df2\n",
        "\n",
        "# Uncomment after running previous lines\n",
        "df2.columns = chosen_columns_list\n",
        "df2\n",
        "\n",
        "# Uncomment after running previous lines\n",
        "# df2.info()\n",
        "\n",
        "# Uncomment after running previous lines\n",
        "# df2 = df2.apply(pd.to_numeric)\n",
        "\n",
        "# Uncomment after running previous lines\n",
        "# df2.info()\n",
        "\n",
        "# Uncomment after running previous lines\n",
        "# df_new = pd.concat([df, df2], axis=1)\n",
        "\n",
        "# Uncomment after running previous lines\n",
        "# df_new.drop(['test', 'test_new'], inplace=True, axis=1)\n",
        "# df_new"
      ],
      "execution_count": 67,
      "outputs": [
        {
          "output_type": "execute_result",
          "data": {
            "text/html": [
              "<div>\n",
              "<style scoped>\n",
              "    .dataframe tbody tr th:only-of-type {\n",
              "        vertical-align: middle;\n",
              "    }\n",
              "\n",
              "    .dataframe tbody tr th {\n",
              "        vertical-align: top;\n",
              "    }\n",
              "\n",
              "    .dataframe thead th {\n",
              "        text-align: right;\n",
              "    }\n",
              "</style>\n",
              "<table border=\"1\" class=\"dataframe\">\n",
              "  <thead>\n",
              "    <tr style=\"text-align: right;\">\n",
              "      <th></th>\n",
              "      <th>vikash_1</th>\n",
              "      <th>vikash</th>\n",
              "      <th>vinayp</th>\n",
              "      <th>arpit</th>\n",
              "    </tr>\n",
              "  </thead>\n",
              "  <tbody>\n",
              "    <tr>\n",
              "      <th>0</th>\n",
              "      <td>0</td>\n",
              "      <td>1</td>\n",
              "      <td>0</td>\n",
              "      <td>1</td>\n",
              "    </tr>\n",
              "    <tr>\n",
              "      <th>1</th>\n",
              "      <td>1</td>\n",
              "      <td>0</td>\n",
              "      <td>1</td>\n",
              "      <td>1</td>\n",
              "    </tr>\n",
              "    <tr>\n",
              "      <th>2</th>\n",
              "      <td>0</td>\n",
              "      <td>0</td>\n",
              "      <td>1</td>\n",
              "      <td>1</td>\n",
              "    </tr>\n",
              "  </tbody>\n",
              "</table>\n",
              "</div>"
            ],
            "text/plain": [
              "  vikash_1 vikash vinayp arpit\n",
              "0        0      1      0     1\n",
              "1        1      0      1     1\n",
              "2        0      0      1     1"
            ]
          },
          "metadata": {
            "tags": []
          },
          "execution_count": 67
        }
      ]
    },
    {
      "cell_type": "code",
      "metadata": {
        "colab": {
          "base_uri": "https://localhost:8080/"
        },
        "id": "pAEDvU3syrTN",
        "outputId": "8f387685-021a-4dd7-cc90-1429baa446f6"
      },
      "source": [
        "# Example 2\n",
        "# Splitting a column using delimiter and one hot encode the values \n",
        "# \n",
        "data = [{'test': 'vikash|Arpit', 'val': 6},\n",
        "        {'test': 'vikash_1|arpit|Vinayp', 'val': 3},\n",
        "        {'test': 'arpit|vinayp', 'val': 2}]\n",
        "\n",
        "df = pd.DataFrame.from_dict(data, orient='columns')\n",
        "df\n",
        "\n",
        "# Uncomment after running previous lines\n",
        "chosen_columns = set()\n",
        "for idx, row in df.iterrows():\n",
        "    for val in str(row['test']).lower().split('|'):\n",
        "      chosen_columns.add(val.strip())\n",
        "\n",
        "# Uncomment after running previous lines\n",
        "chosen_columns_list = list(chosen_columns)\n",
        "\n",
        "# Uncomment after running previous lines\n",
        "chosen_columns_list.sort(key=len, reverse=True) \n",
        "chosen_columns_list\n",
        "\n",
        "\n",
        "def get_one_hot_encoded_column(col_value):\n",
        "    col_value = col_value.lower()\n",
        "    new_col_value = ''\n",
        "    for val in chosen_columns_list:\n",
        "        if val in col_value.split('|'):\n",
        "            col_value = col_value.replace(val, '')\n",
        "            new_col_value += '1,'\n",
        "        else:\n",
        "            new_col_value += '0,'\n",
        "    return new_col_value[:-1]\n",
        "\n",
        "# Uncomment after running previous lines\n",
        "df['test_new'] = df['test'].map(get_one_hot_encoded_column)\n",
        "df\n",
        "\n",
        "# Uncomment after running previous lines\n",
        "df2 = df['test_new'].apply(lambda x: pd.Series([i for i in x.lower().split(',')]))\n",
        "df2\n",
        "\n",
        "# Uncomment after running previous lines\n",
        "df2.columns = chosen_columns_list\n",
        "df2\n",
        "\n",
        "# Uncomment after running previous lines\n",
        "df2.info()\n",
        "\n",
        "# Uncomment after running previous lines\n",
        "# df2 = df2.apply(pd.to_numeric)\n",
        "\n",
        "# Uncomment after running previous lines\n",
        "# df2.info()\n",
        "\n",
        "# Uncomment after running previous lines\n",
        "# df_new = pd.concat([df, df2], axis=1)\n",
        "\n",
        "# Uncomment after running previous lines\n",
        "# df_new.drop(['test', 'test_new'], inplace=True, axis=1)\n",
        "# df_new"
      ],
      "execution_count": 68,
      "outputs": [
        {
          "output_type": "stream",
          "text": [
            "<class 'pandas.core.frame.DataFrame'>\n",
            "RangeIndex: 3 entries, 0 to 2\n",
            "Data columns (total 4 columns):\n",
            " #   Column    Non-Null Count  Dtype \n",
            "---  ------    --------------  ----- \n",
            " 0   vikash_1  3 non-null      object\n",
            " 1   vikash    3 non-null      object\n",
            " 2   vinayp    3 non-null      object\n",
            " 3   arpit     3 non-null      object\n",
            "dtypes: object(4)\n",
            "memory usage: 224.0+ bytes\n"
          ],
          "name": "stdout"
        }
      ]
    },
    {
      "cell_type": "code",
      "metadata": {
        "colab": {
          "base_uri": "https://localhost:8080/"
        },
        "id": "2EuLfKOqyyOp",
        "outputId": "a72e50f8-0b98-4f4f-8ee0-f84289f1b60a"
      },
      "source": [
        "# Example 2\n",
        "# Splitting a column using delimiter and one hot encode the values \n",
        "# \n",
        "data = [{'test': 'vikash|Arpit', 'val': 6},\n",
        "        {'test': 'vikash_1|arpit|Vinayp', 'val': 3},\n",
        "        {'test': 'arpit|vinayp', 'val': 2}]\n",
        "\n",
        "df = pd.DataFrame.from_dict(data, orient='columns')\n",
        "df\n",
        "\n",
        "# Uncomment after running previous lines\n",
        "chosen_columns = set()\n",
        "for idx, row in df.iterrows():\n",
        "    for val in str(row['test']).lower().split('|'):\n",
        "      chosen_columns.add(val.strip())\n",
        "\n",
        "# Uncomment after running previous lines\n",
        "chosen_columns_list = list(chosen_columns)\n",
        "\n",
        "# Uncomment after running previous lines\n",
        "chosen_columns_list.sort(key=len, reverse=True) \n",
        "chosen_columns_list\n",
        "\n",
        "\n",
        "def get_one_hot_encoded_column(col_value):\n",
        "    col_value = col_value.lower()\n",
        "    new_col_value = ''\n",
        "    for val in chosen_columns_list:\n",
        "        if val in col_value.split('|'):\n",
        "            col_value = col_value.replace(val, '')\n",
        "            new_col_value += '1,'\n",
        "        else:\n",
        "            new_col_value += '0,'\n",
        "    return new_col_value[:-1]\n",
        "\n",
        "# Uncomment after running previous lines\n",
        "df['test_new'] = df['test'].map(get_one_hot_encoded_column)\n",
        "df\n",
        "\n",
        "# Uncomment after running previous lines\n",
        "df2 = df['test_new'].apply(lambda x: pd.Series([i for i in x.lower().split(',')]))\n",
        "df2\n",
        "\n",
        "# Uncomment after running previous lines\n",
        "df2.columns = chosen_columns_list\n",
        "df2\n",
        "\n",
        "# Uncomment after running previous lines\n",
        "df2.info()\n",
        "\n",
        "# Uncomment after running previous lines\n",
        "df2 = df2.apply(pd.to_numeric)\n",
        "\n",
        "# Uncomment after running previous lines\n",
        "# df2.info()\n",
        "\n",
        "# Uncomment after running previous lines\n",
        "# df_new = pd.concat([df, df2], axis=1)\n",
        "\n",
        "# Uncomment after running previous lines\n",
        "# df_new.drop(['test', 'test_new'], inplace=True, axis=1)\n",
        "# df_new"
      ],
      "execution_count": 69,
      "outputs": [
        {
          "output_type": "stream",
          "text": [
            "<class 'pandas.core.frame.DataFrame'>\n",
            "RangeIndex: 3 entries, 0 to 2\n",
            "Data columns (total 4 columns):\n",
            " #   Column    Non-Null Count  Dtype \n",
            "---  ------    --------------  ----- \n",
            " 0   vikash_1  3 non-null      object\n",
            " 1   vikash    3 non-null      object\n",
            " 2   vinayp    3 non-null      object\n",
            " 3   arpit     3 non-null      object\n",
            "dtypes: object(4)\n",
            "memory usage: 224.0+ bytes\n"
          ],
          "name": "stdout"
        }
      ]
    },
    {
      "cell_type": "code",
      "metadata": {
        "colab": {
          "base_uri": "https://localhost:8080/"
        },
        "id": "GdFyH6gczBjb",
        "outputId": "f9581c33-e899-41ba-c529-fb10f0d162b1"
      },
      "source": [
        "# Example 2\n",
        "# Splitting a column using delimiter and one hot encode the values \n",
        "# \n",
        "data = [{'test': 'vikash|Arpit', 'val': 6},\n",
        "        {'test': 'vikash_1|arpit|Vinayp', 'val': 3},\n",
        "        {'test': 'arpit|vinayp', 'val': 2}]\n",
        "\n",
        "df = pd.DataFrame.from_dict(data, orient='columns')\n",
        "df\n",
        "\n",
        "# Uncomment after running previous lines\n",
        "chosen_columns = set()\n",
        "for idx, row in df.iterrows():\n",
        "    for val in str(row['test']).lower().split('|'):\n",
        "      chosen_columns.add(val.strip())\n",
        "\n",
        "# Uncomment after running previous lines\n",
        "chosen_columns_list = list(chosen_columns)\n",
        "\n",
        "# Uncomment after running previous lines\n",
        "chosen_columns_list.sort(key=len, reverse=True) \n",
        "chosen_columns_list\n",
        "\n",
        "\n",
        "def get_one_hot_encoded_column(col_value):\n",
        "    col_value = col_value.lower()\n",
        "    new_col_value = ''\n",
        "    for val in chosen_columns_list:\n",
        "        if val in col_value.split('|'):\n",
        "            col_value = col_value.replace(val, '')\n",
        "            new_col_value += '1,'\n",
        "        else:\n",
        "            new_col_value += '0,'\n",
        "    return new_col_value[:-1]\n",
        "\n",
        "# Uncomment after running previous lines\n",
        "df['test_new'] = df['test'].map(get_one_hot_encoded_column)\n",
        "df\n",
        "\n",
        "# Uncomment after running previous lines\n",
        "df2 = df['test_new'].apply(lambda x: pd.Series([i for i in x.lower().split(',')]))\n",
        "df2\n",
        "\n",
        "# Uncomment after running previous lines\n",
        "df2.columns = chosen_columns_list\n",
        "df2\n",
        "\n",
        "# Uncomment after running previous lines\n",
        "df2.info()\n",
        "\n",
        "# Uncomment after running previous lines\n",
        "df2 = df2.apply(pd.to_numeric)\n",
        "\n",
        "# Uncomment after running previous lines\n",
        "df2.info()\n",
        "\n",
        "# Uncomment after running previous lines\n",
        "# df_new = pd.concat([df, df2], axis=1)\n",
        "\n",
        "# Uncomment after running previous lines\n",
        "# df_new.drop(['test', 'test_new'], inplace=True, axis=1)\n",
        "# df_new"
      ],
      "execution_count": 70,
      "outputs": [
        {
          "output_type": "stream",
          "text": [
            "<class 'pandas.core.frame.DataFrame'>\n",
            "RangeIndex: 3 entries, 0 to 2\n",
            "Data columns (total 4 columns):\n",
            " #   Column    Non-Null Count  Dtype \n",
            "---  ------    --------------  ----- \n",
            " 0   vikash_1  3 non-null      object\n",
            " 1   vikash    3 non-null      object\n",
            " 2   vinayp    3 non-null      object\n",
            " 3   arpit     3 non-null      object\n",
            "dtypes: object(4)\n",
            "memory usage: 224.0+ bytes\n",
            "<class 'pandas.core.frame.DataFrame'>\n",
            "RangeIndex: 3 entries, 0 to 2\n",
            "Data columns (total 4 columns):\n",
            " #   Column    Non-Null Count  Dtype\n",
            "---  ------    --------------  -----\n",
            " 0   vikash_1  3 non-null      int64\n",
            " 1   vikash    3 non-null      int64\n",
            " 2   vinayp    3 non-null      int64\n",
            " 3   arpit     3 non-null      int64\n",
            "dtypes: int64(4)\n",
            "memory usage: 224.0 bytes\n"
          ],
          "name": "stdout"
        }
      ]
    },
    {
      "cell_type": "code",
      "metadata": {
        "colab": {
          "base_uri": "https://localhost:8080/"
        },
        "id": "iPIisDa6zNRy",
        "outputId": "3e5ebc95-f59f-4f7d-d610-7349c2145f8b"
      },
      "source": [
        "# Example 2\n",
        "# Splitting a column using delimiter and one hot encode the values \n",
        "# \n",
        "data = [{'test': 'vikash|Arpit', 'val': 6},\n",
        "        {'test': 'vikash_1|arpit|Vinayp', 'val': 3},\n",
        "        {'test': 'arpit|vinayp', 'val': 2}]\n",
        "\n",
        "df = pd.DataFrame.from_dict(data, orient='columns')\n",
        "df\n",
        "\n",
        "# Uncomment after running previous lines\n",
        "chosen_columns = set()\n",
        "for idx, row in df.iterrows():\n",
        "    for val in str(row['test']).lower().split('|'):\n",
        "      chosen_columns.add(val.strip())\n",
        "\n",
        "# Uncomment after running previous lines\n",
        "chosen_columns_list = list(chosen_columns)\n",
        "\n",
        "# Uncomment after running previous lines\n",
        "chosen_columns_list.sort(key=len, reverse=True) \n",
        "chosen_columns_list\n",
        "\n",
        "\n",
        "def get_one_hot_encoded_column(col_value):\n",
        "    col_value = col_value.lower()\n",
        "    new_col_value = ''\n",
        "    for val in chosen_columns_list:\n",
        "        if val in col_value.split('|'):\n",
        "            col_value = col_value.replace(val, '')\n",
        "            new_col_value += '1,'\n",
        "        else:\n",
        "            new_col_value += '0,'\n",
        "    return new_col_value[:-1]\n",
        "\n",
        "# Uncomment after running previous lines\n",
        "df['test_new'] = df['test'].map(get_one_hot_encoded_column)\n",
        "df\n",
        "\n",
        "# Uncomment after running previous lines\n",
        "df2 = df['test_new'].apply(lambda x: pd.Series([i for i in x.lower().split(',')]))\n",
        "df2\n",
        "\n",
        "# Uncomment after running previous lines\n",
        "df2.columns = chosen_columns_list\n",
        "df2\n",
        "\n",
        "# Uncomment after running previous lines\n",
        "df2.info()\n",
        "\n",
        "# Uncomment after running previous lines\n",
        "df2 = df2.apply(pd.to_numeric)\n",
        "\n",
        "# Uncomment after running previous lines\n",
        "df2.info()\n",
        "\n",
        "# Uncomment after running previous lines\n",
        "df_new = pd.concat([df, df2], axis=1)\n",
        "\n",
        "# Uncomment after running previous lines\n",
        "# df_new.drop(['test', 'test_new'], inplace=True, axis=1)\n",
        "# df_new"
      ],
      "execution_count": 71,
      "outputs": [
        {
          "output_type": "stream",
          "text": [
            "<class 'pandas.core.frame.DataFrame'>\n",
            "RangeIndex: 3 entries, 0 to 2\n",
            "Data columns (total 4 columns):\n",
            " #   Column    Non-Null Count  Dtype \n",
            "---  ------    --------------  ----- \n",
            " 0   vikash_1  3 non-null      object\n",
            " 1   vikash    3 non-null      object\n",
            " 2   vinayp    3 non-null      object\n",
            " 3   arpit     3 non-null      object\n",
            "dtypes: object(4)\n",
            "memory usage: 224.0+ bytes\n",
            "<class 'pandas.core.frame.DataFrame'>\n",
            "RangeIndex: 3 entries, 0 to 2\n",
            "Data columns (total 4 columns):\n",
            " #   Column    Non-Null Count  Dtype\n",
            "---  ------    --------------  -----\n",
            " 0   vikash_1  3 non-null      int64\n",
            " 1   vikash    3 non-null      int64\n",
            " 2   vinayp    3 non-null      int64\n",
            " 3   arpit     3 non-null      int64\n",
            "dtypes: int64(4)\n",
            "memory usage: 224.0 bytes\n"
          ],
          "name": "stdout"
        }
      ]
    },
    {
      "cell_type": "code",
      "metadata": {
        "colab": {
          "base_uri": "https://localhost:8080/",
          "height": 516
        },
        "id": "AP67biiUzPJG",
        "outputId": "621b028e-40fb-401d-f35f-2a74e0e96977"
      },
      "source": [
        "# Example 2\n",
        "# Splitting a column using delimiter and one hot encode the values \n",
        "# \n",
        "data = [{'test': 'vikash|Arpit', 'val': 6},\n",
        "        {'test': 'vikash_1|arpit|Vinayp', 'val': 3},\n",
        "        {'test': 'arpit|vinayp', 'val': 2}]\n",
        "\n",
        "df = pd.DataFrame.from_dict(data, orient='columns')\n",
        "df\n",
        "\n",
        "# Uncomment after running previous lines\n",
        "chosen_columns = set()\n",
        "for idx, row in df.iterrows():\n",
        "    for val in str(row['test']).lower().split('|'):\n",
        "      chosen_columns.add(val.strip())\n",
        "\n",
        "# Uncomment after running previous lines\n",
        "chosen_columns_list = list(chosen_columns)\n",
        "\n",
        "# Uncomment after running previous lines\n",
        "chosen_columns_list.sort(key=len, reverse=True) \n",
        "chosen_columns_list\n",
        "\n",
        "\n",
        "def get_one_hot_encoded_column(col_value):\n",
        "    col_value = col_value.lower()\n",
        "    new_col_value = ''\n",
        "    for val in chosen_columns_list:\n",
        "        if val in col_value.split('|'):\n",
        "            col_value = col_value.replace(val, '')\n",
        "            new_col_value += '1,'\n",
        "        else:\n",
        "            new_col_value += '0,'\n",
        "    return new_col_value[:-1]\n",
        "\n",
        "# Uncomment after running previous lines\n",
        "df['test_new'] = df['test'].map(get_one_hot_encoded_column)\n",
        "df\n",
        "\n",
        "# Uncomment after running previous lines\n",
        "df2 = df['test_new'].apply(lambda x: pd.Series([i for i in x.lower().split(',')]))\n",
        "df2\n",
        "\n",
        "# Uncomment after running previous lines\n",
        "df2.columns = chosen_columns_list\n",
        "df2\n",
        "\n",
        "# Uncomment after running previous lines\n",
        "df2.info()\n",
        "\n",
        "# Uncomment after running previous lines\n",
        "df2 = df2.apply(pd.to_numeric)\n",
        "\n",
        "# Uncomment after running previous lines\n",
        "df2.info()\n",
        "\n",
        "# Uncomment after running previous lines\n",
        "df_new = pd.concat([df, df2], axis=1)\n",
        "\n",
        "# Uncomment after running previous lines\n",
        "df_new.drop(['test', 'test_new'], inplace=True, axis=1)\n",
        "df_new"
      ],
      "execution_count": 72,
      "outputs": [
        {
          "output_type": "stream",
          "text": [
            "<class 'pandas.core.frame.DataFrame'>\n",
            "RangeIndex: 3 entries, 0 to 2\n",
            "Data columns (total 4 columns):\n",
            " #   Column    Non-Null Count  Dtype \n",
            "---  ------    --------------  ----- \n",
            " 0   vikash_1  3 non-null      object\n",
            " 1   vikash    3 non-null      object\n",
            " 2   vinayp    3 non-null      object\n",
            " 3   arpit     3 non-null      object\n",
            "dtypes: object(4)\n",
            "memory usage: 224.0+ bytes\n",
            "<class 'pandas.core.frame.DataFrame'>\n",
            "RangeIndex: 3 entries, 0 to 2\n",
            "Data columns (total 4 columns):\n",
            " #   Column    Non-Null Count  Dtype\n",
            "---  ------    --------------  -----\n",
            " 0   vikash_1  3 non-null      int64\n",
            " 1   vikash    3 non-null      int64\n",
            " 2   vinayp    3 non-null      int64\n",
            " 3   arpit     3 non-null      int64\n",
            "dtypes: int64(4)\n",
            "memory usage: 224.0 bytes\n"
          ],
          "name": "stdout"
        },
        {
          "output_type": "execute_result",
          "data": {
            "text/html": [
              "<div>\n",
              "<style scoped>\n",
              "    .dataframe tbody tr th:only-of-type {\n",
              "        vertical-align: middle;\n",
              "    }\n",
              "\n",
              "    .dataframe tbody tr th {\n",
              "        vertical-align: top;\n",
              "    }\n",
              "\n",
              "    .dataframe thead th {\n",
              "        text-align: right;\n",
              "    }\n",
              "</style>\n",
              "<table border=\"1\" class=\"dataframe\">\n",
              "  <thead>\n",
              "    <tr style=\"text-align: right;\">\n",
              "      <th></th>\n",
              "      <th>val</th>\n",
              "      <th>vikash_1</th>\n",
              "      <th>vikash</th>\n",
              "      <th>vinayp</th>\n",
              "      <th>arpit</th>\n",
              "    </tr>\n",
              "  </thead>\n",
              "  <tbody>\n",
              "    <tr>\n",
              "      <th>0</th>\n",
              "      <td>6</td>\n",
              "      <td>0</td>\n",
              "      <td>1</td>\n",
              "      <td>0</td>\n",
              "      <td>1</td>\n",
              "    </tr>\n",
              "    <tr>\n",
              "      <th>1</th>\n",
              "      <td>3</td>\n",
              "      <td>1</td>\n",
              "      <td>0</td>\n",
              "      <td>1</td>\n",
              "      <td>1</td>\n",
              "    </tr>\n",
              "    <tr>\n",
              "      <th>2</th>\n",
              "      <td>2</td>\n",
              "      <td>0</td>\n",
              "      <td>0</td>\n",
              "      <td>1</td>\n",
              "      <td>1</td>\n",
              "    </tr>\n",
              "  </tbody>\n",
              "</table>\n",
              "</div>"
            ],
            "text/plain": [
              "   val  vikash_1  vikash  vinayp  arpit\n",
              "0    6         0       1       0      1\n",
              "1    3         1       0       1      1\n",
              "2    2         0       0       1      1"
            ]
          },
          "metadata": {
            "tags": []
          },
          "execution_count": 72
        }
      ]
    },
    {
      "cell_type": "markdown",
      "metadata": {
        "id": "G3rltepOweG5"
      },
      "source": [
        "### <font color=\"green\">1.5 Challenges</font>"
      ]
    },
    {
      "cell_type": "code",
      "metadata": {
        "id": "Oz3fFMe8wgav"
      },
      "source": [
        "# Challenge 1\n",
        "# Split the following dataframe into multiple rows\n",
        "#\n",
        "df = pd.DataFrame({\n",
        "   'EmployeeId': ['123', '124', '125', '126', '126'],\n",
        "   'City': ['Nairobi|Mombasa', 'Nakuru|Nairobi|Kisumu', 'Nairobi|Mombasa', 'Nairobi|Nakuru', 'Mombasa'] \n",
        "})\n",
        "\n",
        "OUR CODE GOES HERE"
      ],
      "execution_count": null,
      "outputs": []
    },
    {
      "cell_type": "code",
      "metadata": {
        "id": "DAz03okQwhHU"
      },
      "source": [
        "# Challenge 2\n",
        "# Split the following dataframe \n",
        "# \n",
        "\n",
        "list_1 = [1,2,3,4,5]\n",
        "list_2 = [2,4,6,8,10]\n",
        "list_3 = ['one','two,three,four','three,four,five','four,five','five']\n",
        "\n",
        "df = pd.DataFrame({'A' : list_1, 'B' : list_2, 'C' : list_3})\n",
        "\n",
        "OUR CODE GOES HERE"
      ],
      "execution_count": null,
      "outputs": []
    }
  ]
}